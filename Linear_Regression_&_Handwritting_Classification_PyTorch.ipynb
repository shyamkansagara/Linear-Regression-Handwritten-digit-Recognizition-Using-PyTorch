{
  "cells": [
    {
      "cell_type": "code",
      "execution_count": null,
      "metadata": {
        "id": "Aj-1ywwf9CQg"
      },
      "outputs": [],
      "source": [
        "import torch\n",
        "import time\n",
        "import numpy as np\n",
        "import matplotlib.pyplot as plt"
      ]
    },
    {
      "cell_type": "code",
      "source": [
        "torch.set_printoptions(precision=4, sci_mode=False)"
      ],
      "metadata": {
        "id": "_WbGuQUHakAD"
      },
      "execution_count": null,
      "outputs": []
    },
    {
      "cell_type": "markdown",
      "metadata": {
        "id": "BIw2oje09eIs"
      },
      "source": [
        "\n",
        " Create a torch Tensor of shape (5, 3) which is filled with zeros. Modify the tensor to set element (0, 2) to 10 and element (2, 0)  to 100."
      ]
    },
    {
      "cell_type": "code",
      "execution_count": null,
      "metadata": {
        "id": "bI9MwTaamhis",
        "colab": {
          "base_uri": "https://localhost:8080/"
        },
        "outputId": "ab9e79e4-1077-4fcb-d2dc-eb21287f6b66"
      },
      "outputs": [
        {
          "output_type": "stream",
          "name": "stdout",
          "text": [
            "tensor([[  0.,   0.,  10.],\n",
            "        [  0.,   0.,   0.],\n",
            "        [100.,   0.,   0.],\n",
            "        [  0.,   0.,   0.],\n",
            "        [  0.,   0.,   0.]])\n"
          ]
        }
      ],
      "source": [
        "t1 = torch.zeros(5,3)\n",
        "t1.shape\n",
        "\n",
        "t1[0][2] = 10\n",
        "t1[2][0] = 100\n",
        "print(t1)"
      ]
    },
    {
      "cell_type": "markdown",
      "metadata": {
        "id": "6Eoa6rF80ZTa"
      },
      "source": [
        "\n",
        "You have following tensor as input:\n",
        "\n",
        "```x=torch.tensor([0, 1, 2, 3, 4, 5, 6, 7, 8, 9, 10, 11, 12, 13, 14, 15, 16, 17, 18, 19, 20, 21, 22, 23])```\n",
        "\n",
        "Using only reshaping functions (like view, reshape, transpose, permute), you need to get at the following tensor as output:\n",
        "\n",
        "```\n",
        "tensor([[ 0,  4,  8, 12, 16, 20],\n",
        "        [ 1,  5,  9, 13, 17, 21],\n",
        "        [ 2,  6, 10, 14, 18, 22],\n",
        "        [ 3,  7, 11, 15, 19, 23]])\n",
        "```\n",
        "\n"
      ]
    },
    {
      "cell_type": "code",
      "execution_count": null,
      "metadata": {
        "id": "LDBQ6kYZ-JRV"
      },
      "outputs": [],
      "source": [
        "x=torch.tensor([0, 1, 2, 3, 4, 5, 6, 7, 8, 9, 10, 11, 12, 13, 14, 15, 16, 17, 18, 19, 20, 21, 22, 23])"
      ]
    },
    {
      "cell_type": "code",
      "execution_count": null,
      "metadata": {
        "id": "b6_SdFS-ke_x",
        "colab": {
          "base_uri": "https://localhost:8080/"
        },
        "outputId": "f1b34e48-ae64-44a1-fa60-5c6d4e410b9d"
      },
      "outputs": [
        {
          "output_type": "execute_result",
          "data": {
            "text/plain": [
              "tensor([[ 0,  4,  8, 12, 16, 20],\n",
              "        [ 1,  5,  9, 13, 17, 21],\n",
              "        [ 2,  6, 10, 14, 18, 22],\n",
              "        [ 3,  7, 11, 15, 19, 23]])"
            ]
          },
          "metadata": {},
          "execution_count": 97
        }
      ],
      "source": [
        "tr = x.reshape(6,4)\n",
        "torch.transpose(tr, 0, 1)"
      ]
    },
    {
      "cell_type": "markdown",
      "metadata": {
        "id": "2TU6l0nC3EfW"
      },
      "source": [
        "\n",
        "\n",
        "Your goal is to measure the speed of linear algebra operations for different levels of vectorization.\n",
        "\n",
        "1. Construct two matrices $A$ and $B$ with Gaussian random entries of size $1024 \\times 1024$. \n",
        "1. Compute $C = A B$ using matrix-matrix operations and report the time. (Hint: Use torch.mm)\n",
        "1. Compute $C = A B$, treating $A$ as a matrix but computing the result for each column of $B$ one at a time. Report the time. (hint use torch.mv inside a for loop)\n",
        "1. Compute $C = A B$, treating $A$ and $B$ as collections of vectors. Report the time. (Hint: use torch.dot inside nested for loop)"
      ]
    },
    {
      "cell_type": "code",
      "execution_count": null,
      "metadata": {
        "id": "wkKjtX0HH2wz"
      },
      "outputs": [],
      "source": [
        "## Solution 1\n",
        "torch.manual_seed(42) # dod not chnage this\n",
        "A =  torch.randn(1024,1024) \n",
        "B = torch.randn(1024,1024) \n"
      ]
    },
    {
      "cell_type": "code",
      "execution_count": null,
      "metadata": {
        "colab": {
          "base_uri": "https://localhost:8080/"
        },
        "id": "kSMH_j5OD2ZB",
        "outputId": "578ef8fa-8852-4fa7-e343-2dad84baf0d8"
      },
      "outputs": [
        {
          "output_type": "stream",
          "name": "stdout",
          "text": [
            "Matrix by matrix: 0.035508155822753906 seconds\n"
          ]
        }
      ],
      "source": [
        "## Solution 2\n",
        "#import time\n",
        "start=time.time()\n",
        "\n",
        "C = torch.mm(A, B)\n",
        "\n",
        "print(\"Matrix by matrix: \" + str(time.time()-start) + \" seconds\")"
      ]
    },
    {
      "cell_type": "code",
      "execution_count": null,
      "metadata": {
        "colab": {
          "base_uri": "https://localhost:8080/"
        },
        "id": "-tU8yGBP-Crk",
        "outputId": "1c2bc8dd-b7d2-4f73-910c-b18929de36ed"
      },
      "outputs": [
        {
          "output_type": "stream",
          "name": "stdout",
          "text": [
            "Matrix by vector: 0.2059786319732666 seconds\n"
          ]
        }
      ],
      "source": [
        "## Solution 3\n",
        "C= torch.empty(1024,1024)\n",
        "start = time.time()\n",
        "\n",
        "# code here\n",
        "for i in range(0,1024):\n",
        "  torch.mv(A,B[:][i])\n",
        "\n",
        "print(\"Matrix by vector: \" + str(time.time()-start) + \" seconds\") "
      ]
    },
    {
      "cell_type": "code",
      "execution_count": null,
      "metadata": {
        "colab": {
          "base_uri": "https://localhost:8080/"
        },
        "id": "MFgJCFf6DUFK",
        "outputId": "80dc2224-359a-4245-bd69-df5c301dfc8f"
      },
      "outputs": [
        {
          "output_type": "stream",
          "name": "stdout",
          "text": [
            "vector by vector: 9.562596082687378 seconds\n"
          ]
        }
      ],
      "source": [
        "## Solution 4\n",
        "C= torch.empty(1024,1024)\n",
        "start = time.time()\n",
        "\n",
        "# code here\n",
        "for i in range(0,1024):\n",
        "  for j in range(0,1024):\n",
        "    torch.dot(A[i][:],B[:][j])\n",
        "\n",
        "print(\"vector by vector: \" + str(time.time()-start) + \" seconds\")  \n",
        "\n"
      ]
    },
    {
      "cell_type": "markdown",
      "metadata": {
        "id": "TtYsJM4mJNdE"
      },
      "source": [
        " Redo above Question by using GPU "
      ]
    },
    {
      "cell_type": "markdown",
      "metadata": {
        "id": "fxJ1UlTf3Efb"
      },
      "source": [
        "<font size = 4, color = 'dodgerblue'> **Using GPUs**\n",
        "\n",
        "How to use GPUs in Google Colab<br>\n",
        "In Google Colab -- Go to Runtime Tab at top -- select change runtime type -- for hardware accelartor choose GPU"
      ]
    },
    {
      "cell_type": "code",
      "execution_count": null,
      "metadata": {
        "colab": {
          "base_uri": "https://localhost:8080/"
        },
        "id": "_6ilpofMIe1e",
        "outputId": "fe7e555a-9a4f-4659-e174-395d08b0473e"
      },
      "outputs": [
        {
          "output_type": "stream",
          "name": "stdout",
          "text": [
            "cuda:0\n"
          ]
        }
      ],
      "source": [
        "# Check if GPU is availaible\n",
        "device = torch.device('cuda:0' if torch.cuda.is_available() else 'cpu')\n",
        "print(device)"
      ]
    },
    {
      "cell_type": "code",
      "execution_count": null,
      "metadata": {
        "id": "4XMhjifbJcu0"
      },
      "outputs": [],
      "source": [
        "## Solution 1\n",
        "torch.manual_seed(42)\n",
        "A= torch.randn((1024, 1024),device=device)\n",
        "B= torch.randn((1024, 1024),device=device)"
      ]
    },
    {
      "cell_type": "code",
      "execution_count": null,
      "metadata": {
        "colab": {
          "base_uri": "https://localhost:8080/"
        },
        "id": "pn-ZKI7sK9Oh",
        "outputId": "69cb7d10-76ca-4332-c651-605e8002c5ec"
      },
      "outputs": [
        {
          "output_type": "stream",
          "name": "stdout",
          "text": [
            "Matrix by matrix: 2.4257400035858154 seconds\n"
          ]
        }
      ],
      "source": [
        "## Solution 2\n",
        "start=time.time()\n",
        "\n",
        "C = torch.mm(A, B)\n",
        "    \n",
        "print(\"Matrix by matrix: \" + str(time.time()-start) + \" seconds\")"
      ]
    },
    {
      "cell_type": "code",
      "execution_count": null,
      "metadata": {
        "colab": {
          "base_uri": "https://localhost:8080/"
        },
        "id": "GcHPGEitLL8i",
        "outputId": "eb3dda0a-1483-49a4-ec35-1d1a635eae2a"
      },
      "outputs": [
        {
          "output_type": "stream",
          "name": "stdout",
          "text": [
            "Matrix by vector: 0.035927772521972656 seconds\n"
          ]
        }
      ],
      "source": [
        "## Solution 3\n",
        "C= torch.empty(1024,1024, device = device)\n",
        "start = time.time()\n",
        "\n",
        "# code here\n",
        "for i in range(0,1024):\n",
        "  torch.mv(A,B[:][i])\n",
        "\n",
        "print(\"Matrix by vector: \" + str(time.time()-start) + \" seconds\") "
      ]
    },
    {
      "cell_type": "code",
      "execution_count": null,
      "metadata": {
        "colab": {
          "base_uri": "https://localhost:8080/"
        },
        "id": "wZ5LWSa2Lrdw",
        "outputId": "17ac703d-5632-4617-da00-402f90815e79"
      },
      "outputs": [
        {
          "output_type": "stream",
          "name": "stdout",
          "text": [
            "vector by vector: 22.868422985076904 seconds\n"
          ]
        }
      ],
      "source": [
        "## Solution 4\n",
        "C= torch.empty(1024,1024, device = device)\n",
        "start = time.time()\n",
        "\n",
        "# code here\n",
        "for i in range(0,1024):\n",
        "  for j in range(0,1024):\n",
        "    torch.dot(A[i][:],B[:][j])\n",
        "\n",
        "\n",
        "print(\"vector by vector: \" + str(time.time()-start) + \" seconds\")  "
      ]
    },
    {
      "cell_type": "markdown",
      "metadata": {
        "id": "pW2DEN5x3Efj"
      },
      "source": [
        "** Memory efficient computation**\n",
        "\n",
        "We want to compute $C \\leftarrow A \\cdot B + C$, where $A, B$ and $C$ are all matrices. Implement this in the most memory efficient manner. Pay attention to the following two things:\n",
        "\n",
        "1. Do not allocate new memory for the new value of $C$.\n",
        "1. Do not allocate new memory for intermediate results if possible. Hint: If you implement this correcly the memory location of C given by id(C) will be same in both the cells below."
      ]
    },
    {
      "cell_type": "code",
      "execution_count": null,
      "metadata": {
        "id": "NRzN8HIv3Efj",
        "colab": {
          "base_uri": "https://localhost:8080/"
        },
        "outputId": "d2e90c3f-41fa-4095-814c-ec31ff77a34d"
      },
      "outputs": [
        {
          "output_type": "stream",
          "name": "stdout",
          "text": [
            "140701140018480\n"
          ]
        }
      ],
      "source": [
        "A= torch.randn((1000, 1000),device=device)\n",
        "B= torch.randn((1000,1000),device=device)\n",
        "C= torch.randn((1000, 1000),device=device)\n",
        "print(id(C))"
      ]
    },
    {
      "cell_type": "code",
      "execution_count": null,
      "metadata": {
        "id": "C6XC0d70acQ0",
        "colab": {
          "base_uri": "https://localhost:8080/"
        },
        "outputId": "588eaa32-1e2a-4c62-db10-db9665d012c0"
      },
      "outputs": [
        {
          "output_type": "stream",
          "name": "stdout",
          "text": [
            "140701140018480\n"
          ]
        }
      ],
      "source": [
        "# your code here\n",
        "for i in range (0,1000):\n",
        "  C[i] = torch.dot(A[i], B[i]) + C[i]\n",
        "print(id(C))"
      ]
    },
    {
      "cell_type": "markdown",
      "metadata": {
        "id": "8LV9o3GJ3Efp"
      },
      "source": [
        "#<font color = 'pickle'>**Broadcast Operations**\n",
        "\n",
        "1.   List item\n",
        "2.   List item\n",
        "\n",
        "\n",
        "\n",
        "In order to perform polynomial fitting we want to compute a design matrix $A$ with \n",
        "\n",
        "$$A_{ij} = x_i^j$$\n",
        "\n",
        "Our goal is to implement this **without a single for loop** entirely using vectorization and broadcast. Here $1 \\leq j \\leq 3$ and $x = \\{1,2,3,4,5\\}$. Implement code that generates following A matrix\n",
        "\n",
        "$$\\begin{bmatrix} 1 & 1 & 1 \\\\ 2 & 4 & 8 \\\\ 3 & 9 & 27 \\\\ 4 & 16 & 64 \\\\ 5 & 25 & 125\\end{bmatrix}$$"
      ]
    },
    {
      "cell_type": "code",
      "execution_count": null,
      "metadata": {
        "id": "cAeYDuGC3Efq",
        "colab": {
          "base_uri": "https://localhost:8080/"
        },
        "outputId": "8fc08551-494e-454d-f144-97bf37ddaa5a"
      },
      "outputs": [
        {
          "output_type": "stream",
          "name": "stdout",
          "text": [
            "tensor([[1, 2, 3]])\n",
            "torch.Size([1, 3])\n"
          ]
        }
      ],
      "source": [
        "# your code here\n",
        "X= torch.Tensor([[1,2,3,4,5],[1,2,3,4,5],[1,2,3,4,5]])\n",
        "X = torch.transpose(X,0,1)\n",
        "X\n",
        "\n",
        "t1 = torch.arange(1,4)\n",
        "t1_mod = t1[None,] \n",
        "print(t1_mod)\n",
        "print(t1_mod.shape)\n"
      ]
    },
    {
      "cell_type": "code",
      "source": [
        "t1_mod_rep = t1_mod.repeat(5, 1) \n",
        "t1_mod_rep"
      ],
      "metadata": {
        "colab": {
          "base_uri": "https://localhost:8080/"
        },
        "id": "9r9UMHDv7mO9",
        "outputId": "0465d08c-0e75-4e81-f452-185bbe4d948c"
      },
      "execution_count": null,
      "outputs": [
        {
          "output_type": "execute_result",
          "data": {
            "text/plain": [
              "tensor([[1, 2, 3],\n",
              "        [1, 2, 3],\n",
              "        [1, 2, 3],\n",
              "        [1, 2, 3],\n",
              "        [1, 2, 3]])"
            ]
          },
          "metadata": {},
          "execution_count": 12
        }
      ]
    },
    {
      "cell_type": "code",
      "source": [
        "A = X**t1_mod_rep\n",
        "print(A)"
      ],
      "metadata": {
        "colab": {
          "base_uri": "https://localhost:8080/"
        },
        "id": "R0QE8om071tk",
        "outputId": "829ed03e-d3a9-4432-ff93-e0cd3fb55807"
      },
      "execution_count": null,
      "outputs": [
        {
          "output_type": "stream",
          "name": "stdout",
          "text": [
            "tensor([[  1.,   1.,   1.],\n",
            "        [  2.,   4.,   8.],\n",
            "        [  3.,   9.,  27.],\n",
            "        [  4.,  16.,  64.],\n",
            "        [  5.,  25., 125.]])\n"
          ]
        }
      ]
    },
    {
      "cell_type": "markdown",
      "metadata": {
        "id": "BYYL_jnG0B3i"
      },
      "source": [
        "# <font color = 'pickle'>**Regression from scartch using Pytroch Tensors**</font>\n",
        "\n",
        "Imagine that you're trying to figure out relationship between two variables x and y . You have some idea but you aren't quite sure yet whether the dependence is linear or quadratic. \n",
        "\n",
        "Your goal is to use least mean squares regression to identify the coefficients for the following three models using. The three models are:\n",
        "\n",
        "1. Quadratic model where $\\mathrm{y} = b + w_1 \\cdot \\mathrm{x} + w_2 \\cdot \\mathrm{x}^2$.\n",
        "1. Linear model where $\\mathrm{y} = b + w_1 \\cdot \\mathrm{x}$.\n",
        "1. Linear model with no bias  where $\\mathrm{y} = w_1 \\cdot \\mathrm{x}$.\n",
        "\n",
        "- You will use batch gradient descent to estimate the model co-efficients. Batch gradient descent uses complete training data at each iteration. \n",
        "- We will implement only training loop (no splitting of data in to training/validation).\n",
        "- The training loop will have only one for loop. We need to iterate over whole data in each epoch. We do not need to craete batches.\n",
        "- You may have to try different values of number of epochs/ learning rate to get good results.\n",
        "- You are not allowed to use Pytorch's nn.module or functions from Pytorch. You will write function for loss function (mean sqaured error), prediction and gradient update from scratch."
      ]
    },
    {
      "cell_type": "markdown",
      "source": [
        "## <font color = 'pickle'> **Data**"
      ],
      "metadata": {
        "id": "JShaYAruM_9F"
      }
    },
    {
      "cell_type": "code",
      "execution_count": null,
      "metadata": {
        "id": "WUcQ0mpp3HNm"
      },
      "outputs": [],
      "source": [
        "x = torch.tensor([[1.5420291, 1.8935232, 2.1603365, 2.5381863, 2.893443, \\\n",
        "                    3.838855, 3.925425, 4.2233696, 4.235571, 4.273397, \\\n",
        "                    4.9332876, 6.4704757, 6.517571, 6.87826, 7.0009003, \\\n",
        "                    7.035741, 7.278681, 7.7561755, 9.121138, 9.728281]])\n",
        "y = torch.tensor([[63.802246, 80.036026, 91.4903, 108.28776, 122.781975, \\\n",
        "                    161.36314, 166.50816, 176.16772, 180.29395, 179.09758, \\\n",
        "                    206.21027, 272.71857, 272.24033, 289.54745, 293.8488, \\\n",
        "                    295.2281, 306.62274, 327.93243, 383.16296, 408.65967]])"
      ]
    },
    {
      "cell_type": "markdown",
      "source": [
        "##**Linear Regression With Bias**##"
      ],
      "metadata": {
        "id": "RwbP3J8UfSv7"
      }
    },
    {
      "cell_type": "code",
      "source": [
        "x = torch.tensor([[1.5420291, 1.8935232, 2.1603365, 2.5381863, 2.893443, \\\n",
        "                    3.838855, 3.925425, 4.2233696, 4.235571, 4.273397, \\\n",
        "                    4.9332876, 6.4704757, 6.517571, 6.87826, 7.0009003, \\\n",
        "                    7.035741, 7.278681, 7.7561755, 9.121138, 9.728281]])\n",
        "y = torch.tensor([[63.802246, 80.036026, 91.4903, 108.28776, 122.781975, \\\n",
        "                    161.36314, 166.50816, 176.16772, 180.29395, 179.09758, \\\n",
        "                    206.21027, 272.71857, 272.24033, 289.54745, 293.8488, \\\n",
        "                    295.2281, 306.62274, 327.93243, 383.16296, 408.65967]])"
      ],
      "metadata": {
        "id": "XlkZ-aAT8Is7"
      },
      "execution_count": null,
      "outputs": []
    },
    {
      "cell_type": "code",
      "source": [
        "print(x.shape)\n",
        "x=x.T\n",
        "y=y.T\n",
        "print(x.shape)\n",
        "features = x\n",
        "labels = y"
      ],
      "metadata": {
        "colab": {
          "base_uri": "https://localhost:8080/"
        },
        "id": "xoS2d3mVZyMu",
        "outputId": "8dcf27f7-757e-40ea-ff12-d063e093c722"
      },
      "execution_count": null,
      "outputs": [
        {
          "output_type": "stream",
          "name": "stdout",
          "text": [
            "torch.Size([1, 20])\n",
            "torch.Size([20, 1])\n"
          ]
        }
      ]
    },
    {
      "cell_type": "code",
      "source": [
        "def linear_reg(X, w, b):\n",
        "  \"\"\"\n",
        "  Function for linear regression y = Xw + b. \n",
        "  Input parameter: features, weights, bias. \n",
        "  Output: predicted labels\n",
        "  \"\"\"\n",
        "  return torch.mm(X,w.T) + b"
      ],
      "metadata": {
        "id": "Zc_ud1dpl5-l"
      },
      "execution_count": null,
      "outputs": []
    },
    {
      "cell_type": "code",
      "source": [
        "def mse_loss(ypred, y):\n",
        "  \"\"\"\n",
        "  Squared error loss function.\n",
        "  Input: actual labels and predicted labels\n",
        "  Output: squared error loss\n",
        "  \"\"\"\n",
        "  error = ypred - y.view(ypred.shape)\n",
        "  mean_squared_error = error.T.mm(error)/len(y)\n",
        "  return mean_squared_error"
      ],
      "metadata": {
        "id": "oL8bv1zhl6IC"
      },
      "execution_count": null,
      "outputs": []
    },
    {
      "cell_type": "code",
      "source": [
        "\n",
        "w = torch.normal(0, 0.01, size=(1, 1), requires_grad=False)\n",
        "w1 = torch.normal(0, 0.01, size=(1, 1), requires_grad=False)\n",
        "\n",
        "w2 = torch.normal(0, 0.01, size=(1, 1), requires_grad=False)\n",
        "# Create a tensor for bias\n",
        "b = torch.zeros(1, requires_grad=False)\n",
        "print(w)"
      ],
      "metadata": {
        "colab": {
          "base_uri": "https://localhost:8080/"
        },
        "id": "Xoxds0yil6cB",
        "outputId": "7ada7b99-10db-420f-ad1d-1946f820a296"
      },
      "execution_count": null,
      "outputs": [
        {
          "output_type": "stream",
          "name": "stdout",
          "text": [
            "tensor([[-0.0297]])\n"
          ]
        }
      ]
    },
    {
      "cell_type": "code",
      "source": [
        "import random\n",
        "def read_data(features, labels):\n",
        "    \"\"\"\n",
        "    Function to access data in mini batches. \n",
        "    Input parameters: batch size, features, labels. \n",
        "    Output: iterator for minibatch data\n",
        "    \"\"\"\n",
        "    \n",
        "    # Number of examples in the datasets\n",
        "    num = len(features)\n",
        "\n",
        "    # Creating a list of indices from 0 to number of examples in the dataset\n",
        "    indices = list(range(num))\n",
        "\n",
        "    # The examples are read at random, in no particular order\n",
        "    random.shuffle(indices)\n",
        "\n",
        "    # Return the features and labels of the minibatch\n",
        "    for i in range(0, num):\n",
        "        batch_indices = torch.tensor(indices[i:num])\n",
        "        yield features[batch_indices], labels[batch_indices]"
      ],
      "metadata": {
        "id": "nIypX8kfr0un"
      },
      "execution_count": null,
      "outputs": []
    },
    {
      "cell_type": "code",
      "source": [
        "# weight update step\n",
        "def sgd(params, params_grad, lr):\n",
        "    for param, param_grad in zip(params, params_grad):\n",
        "        param -= lr * param_grad\n",
        "        "
      ],
      "metadata": {
        "id": "B7JubnbQpHXL"
      },
      "execution_count": null,
      "outputs": []
    },
    {
      "cell_type": "code",
      "source": [
        "# Set the values for learning rate and number of epochs\n",
        "lr = 0.005\n",
        "epochs = 10\n",
        "\n",
        "# Iterate over the whole dataset\n",
        "for epoch in range(epochs):\n",
        "    \n",
        "    # Iterate over mini batch\n",
        "    for X, y in read_data(features,labels):\n",
        "\n",
        "        # step 1 :forward pass - compute predictions\n",
        "        ypred = linear_reg(X, w, b)\n",
        "\n",
        "        # step 2: Calculate minibatch loss\n",
        "        batch_loss = mse_loss(ypred, y)\n",
        "        \n",
        "\n",
        "        # step 3: Compute gradient on loss with respect to weights and bias\n",
        "        grad_w = 2 *X.T.mm(ypred-y)/len(y)\n",
        "        grad_b = 2 *(ypred-y).sum()/len(y)\n",
        "\n",
        "        # step 4: Update parameters using their gradient using optimization algorithm\n",
        "        sgd([w.T, b], [grad_w, grad_b], lr)  \n",
        "\n",
        "    \n",
        "    # Calculate and print loss for the complete epoch\n",
        "    \n",
        "    train_l = mse_loss(linear_reg(features, w, b), labels)\n",
        "\n",
        "    # We can observe the epoch vs loss curve in W&B\n",
        "    #wandb.log({\"/Loss_2_2\": train_l.item()})\n",
        "        \n",
        "    print(f'epoch {epoch + 1}, loss {float(train_l.item()):f}')"
      ],
      "metadata": {
        "colab": {
          "base_uri": "https://localhost:8080/"
        },
        "id": "Z67SfB2dl6o0",
        "outputId": "7bddf54f-5195-4cf2-da19-d42da09d16b9"
      },
      "execution_count": null,
      "outputs": [
        {
          "output_type": "stream",
          "name": "stdout",
          "text": [
            "epoch 1, loss 9.765197\n",
            "epoch 2, loss 10.287228\n",
            "epoch 3, loss 6.472575\n",
            "epoch 4, loss 6.009954\n",
            "epoch 5, loss 5.407040\n",
            "epoch 6, loss 5.569047\n",
            "epoch 7, loss 5.098161\n",
            "epoch 8, loss 4.781171\n",
            "epoch 9, loss 6.225549\n",
            "epoch 10, loss 7.268178\n"
          ]
        }
      ]
    },
    {
      "cell_type": "markdown",
      "source": [
        "##**Linear Regression Wihout Bias**##"
      ],
      "metadata": {
        "id": "S_PMpXK-fflc"
      }
    },
    {
      "cell_type": "code",
      "source": [
        "x = torch.tensor([[1.5420291, 1.8935232, 2.1603365, 2.5381863, 2.893443, \\\n",
        "                    3.838855, 3.925425, 4.2233696, 4.235571, 4.273397, \\\n",
        "                    4.9332876, 6.4704757, 6.517571, 6.87826, 7.0009003, \\\n",
        "                    7.035741, 7.278681, 7.7561755, 9.121138, 9.728281]])\n",
        "y = torch.tensor([[63.802246, 80.036026, 91.4903, 108.28776, 122.781975, \\\n",
        "                    161.36314, 166.50816, 176.16772, 180.29395, 179.09758, \\\n",
        "                    206.21027, 272.71857, 272.24033, 289.54745, 293.8488, \\\n",
        "                    295.2281, 306.62274, 327.93243, 383.16296, 408.65967]])\n",
        "print(x.shape)\n",
        "x=x.T\n",
        "y=y.T\n",
        "print(x.shape)\n",
        "x= features\n",
        "y= labels"
      ],
      "metadata": {
        "colab": {
          "base_uri": "https://localhost:8080/"
        },
        "id": "BbMxH-Wel7OV",
        "outputId": "cebae4cc-73db-497c-905e-de1b1e255c0a"
      },
      "execution_count": null,
      "outputs": [
        {
          "output_type": "stream",
          "name": "stdout",
          "text": [
            "torch.Size([1, 20])\n",
            "torch.Size([20, 1])\n"
          ]
        }
      ]
    },
    {
      "cell_type": "code",
      "source": [
        "#Linear Regression without bias\n",
        "def linear_reg_without_bias(X, w):\n",
        "  return torch.mm(X,w.T) "
      ],
      "metadata": {
        "id": "E-zgc5xff0ou"
      },
      "execution_count": null,
      "outputs": []
    },
    {
      "cell_type": "code",
      "source": [
        "w = torch.normal(0, 0.01, size=(1, 1), requires_grad=False)\n",
        "w1 = torch.normal(0, 0.01, size=(1, 1), requires_grad=False)\n",
        "\n",
        "w2 = torch.normal(0, 0.01, size=(1, 1), requires_grad=False)\n",
        "# Create a tensor for bias\n",
        "b = torch.zeros(1, requires_grad=False)\n",
        "print(w)"
      ],
      "metadata": {
        "colab": {
          "base_uri": "https://localhost:8080/"
        },
        "id": "fO0eQuuu7R9f",
        "outputId": "32770f2b-6318-40af-c80e-36f2eb213975"
      },
      "execution_count": null,
      "outputs": [
        {
          "output_type": "stream",
          "name": "stdout",
          "text": [
            "tensor([[0.0116]])\n"
          ]
        }
      ]
    },
    {
      "cell_type": "code",
      "source": [
        "import random\n",
        "def read_data(features, labels):\n",
        "    \"\"\"\n",
        "    Function to access data in mini batches. \n",
        "    Input parameters: batch size, features, labels. \n",
        "    Output: iterator for minibatch data\n",
        "    \"\"\"\n",
        "    \n",
        "    # Number of examples in the datasets\n",
        "    num = len(features)\n",
        "\n",
        "    # Creating a list of indices from 0 to number of examples in the dataset\n",
        "    indices = list(range(num))\n",
        "\n",
        "    # The examples are read at random, in no particular order\n",
        "    random.shuffle(indices)\n",
        "\n",
        "    # Return the features and labels of the minibatch\n",
        "    for i in range(0, num):\n",
        "        batch_indices = torch.tensor(indices[i:num])\n",
        "        yield features[batch_indices], labels[batch_indices]"
      ],
      "metadata": {
        "id": "O1K3pBv57T96"
      },
      "execution_count": null,
      "outputs": []
    },
    {
      "cell_type": "code",
      "source": [
        "# weight update step\n",
        "def sgd(params, params_grad, lr):\n",
        "    for param, param_grad in zip(params, params_grad):\n",
        "        param -= lr * param_grad\n",
        "        "
      ],
      "metadata": {
        "id": "L72Mh-_E7ULu"
      },
      "execution_count": null,
      "outputs": []
    },
    {
      "cell_type": "code",
      "source": [
        "def mse_loss(ypred, y):\n",
        "  \"\"\"\n",
        "  Squared error loss function.\n",
        "  Input: actual labels and predicted labels\n",
        "  Output: squared error loss\n",
        "  \"\"\"\n",
        "  error = ypred - y.view(ypred.shape)\n",
        "  mean_squared_error = error.T.mm(error)/len(y)\n",
        "  return mean_squared_error"
      ],
      "metadata": {
        "id": "KUoe_bKC7iWl"
      },
      "execution_count": null,
      "outputs": []
    },
    {
      "cell_type": "code",
      "source": [
        "# Set the values for learning rate and number of epochs\n",
        "lr = 0.0001\n",
        "epochs = 10\n",
        "\n",
        "# Iterate over the whole dataset\n",
        "for epoch in range(epochs):\n",
        "    \n",
        "    # Iterate over mini batch\n",
        "    for X, y in read_data(features,labels):\n",
        "\n",
        "        # step 1 :forward pass - compute predictions\n",
        "        ypred = linear_reg_without_bias(X, w)\n",
        "\n",
        "        # step 2: Calculate minibatch loss\n",
        "        batch_loss = mse_loss(ypred, y)\n",
        "        \n",
        "\n",
        "        # step 3: Compute gradient on loss with respect to weights and bias\n",
        "        grad_w = 2 *X.T.mm(ypred-y)/len(y)\n",
        "        #grad_b = 2 *(ypred-y).sum()/len(y)\n",
        "\n",
        "        # step 4: Update parameters using their gradient using optimization algorithm\n",
        "        sgd([w.T], [grad_w], lr)  \n",
        "\n",
        "    \n",
        "    # Calculate and print loss for the complete epoch\n",
        "    train_l = mse_loss(linear_reg_without_bias(features, w), labels)\n",
        "\n",
        "    # We can observe the epoch vs loss curve in W&B\n",
        "    #wandb.log({\"/Loss_2_2\": train_l.item()})\n",
        "        \n",
        "    print(f'epoch {epoch + 1}, loss {float(train_l.item()):f}')"
      ],
      "metadata": {
        "colab": {
          "base_uri": "https://localhost:8080/"
        },
        "id": "Tt3EeaJCf1Id",
        "outputId": "4be60750-6455-460f-8535-d97548cf1eba"
      },
      "execution_count": null,
      "outputs": [
        {
          "output_type": "stream",
          "name": "stdout",
          "text": [
            "epoch 1, loss 44910.359375\n",
            "epoch 2, loss 35647.558594\n",
            "epoch 3, loss 27267.199219\n",
            "epoch 4, loss 20860.373047\n",
            "epoch 5, loss 15391.302734\n",
            "epoch 6, loss 11403.810547\n",
            "epoch 7, loss 8449.705078\n",
            "epoch 8, loss 6516.929199\n",
            "epoch 9, loss 4890.092285\n",
            "epoch 10, loss 3752.839111\n"
          ]
        }
      ]
    },
    {
      "cell_type": "markdown",
      "source": [
        "\n",
        "\n",
        "\n",
        "\n",
        "##**Quadratic Term**##\n",
        "\n"
      ],
      "metadata": {
        "id": "6atzQPF7hizR"
      }
    },
    {
      "cell_type": "code",
      "source": [
        "x = torch.tensor([[1.5420291, 1.8935232, 2.1603365, 2.5381863, 2.893443, \\\n",
        "                    3.838855, 3.925425, 4.2233696, 4.235571, 4.273397, \\\n",
        "                    4.9332876, 6.4704757, 6.517571, 6.87826, 7.0009003, \\\n",
        "                    7.035741, 7.278681, 7.7561755, 9.121138, 9.728281]])\n",
        "X_squared = torch.square(x)\n",
        "X_squared"
      ],
      "metadata": {
        "colab": {
          "base_uri": "https://localhost:8080/"
        },
        "id": "t28XZA0-4wFe",
        "outputId": "8420be62-1104-4b2b-895f-63a13d07dac9"
      },
      "execution_count": null,
      "outputs": [
        {
          "output_type": "execute_result",
          "data": {
            "text/plain": [
              "tensor([[ 2.3779,  3.5854,  4.6671,  6.4424,  8.3720, 14.7368, 15.4090, 17.8369,\n",
              "         17.9401, 18.2619, 24.3373, 41.8671, 42.4787, 47.3105, 49.0126, 49.5016,\n",
              "         52.9792, 60.1583, 83.1952, 94.6395]])"
            ]
          },
          "metadata": {},
          "execution_count": 206
        }
      ]
    },
    {
      "cell_type": "code",
      "source": [
        "x = torch.tensor([[1.5420291, 1.8935232, 2.1603365, 2.5381863, 2.893443, \\\n",
        "                    3.838855, 3.925425, 4.2233696, 4.235571, 4.273397, \\\n",
        "                    4.9332876, 6.4704757, 6.517571, 6.87826, 7.0009003, \\\n",
        "                    7.035741, 7.278681, 7.7561755, 9.121138, 9.728281],  \\\n",
        "                  [ 2.3779,  3.5854,  4.6671,  6.4424,  8.3720, 14.7368, 15.4090, 17.8369,\n",
        "         17.9401, 18.2619, 24.3373, 41.8671, 42.4787, 47.3105, 49.0126, 49.5016,\n",
        "         52.9792, 60.1583, 83.1952, 94.6395]\n",
        "               ])\n",
        "y = torch.tensor([[63.802246, 80.036026, 91.4903, 108.28776, 122.781975, \\\n",
        "                    161.36314, 166.50816, 176.16772, 180.29395, 179.09758, \\\n",
        "                    206.21027, 272.71857, 272.24033, 289.54745, 293.8488, \\\n",
        "                    295.2281, 306.62274, 327.93243, 383.16296, 408.65967]])\n",
        "print(x)\n",
        "x=x.T\n",
        "y = y.T\n",
        "print(x.shape)\n",
        "print(x)\n",
        "print(y.shape)\n",
        "print(y)\n",
        "features= x\n",
        "labels = y "
      ],
      "metadata": {
        "colab": {
          "base_uri": "https://localhost:8080/"
        },
        "id": "dsCsv2Tqf1Rl",
        "outputId": "1c2e09ff-da31-4422-db08-60896d74caf8"
      },
      "execution_count": null,
      "outputs": [
        {
          "output_type": "stream",
          "name": "stdout",
          "text": [
            "tensor([[ 1.5420,  1.8935,  2.1603,  2.5382,  2.8934,  3.8389,  3.9254,  4.2234,\n",
            "          4.2356,  4.2734,  4.9333,  6.4705,  6.5176,  6.8783,  7.0009,  7.0357,\n",
            "          7.2787,  7.7562,  9.1211,  9.7283],\n",
            "        [ 2.3779,  3.5854,  4.6671,  6.4424,  8.3720, 14.7368, 15.4090, 17.8369,\n",
            "         17.9401, 18.2619, 24.3373, 41.8671, 42.4787, 47.3105, 49.0126, 49.5016,\n",
            "         52.9792, 60.1583, 83.1952, 94.6395]])\n",
            "torch.Size([20, 2])\n",
            "tensor([[ 1.5420,  2.3779],\n",
            "        [ 1.8935,  3.5854],\n",
            "        [ 2.1603,  4.6671],\n",
            "        [ 2.5382,  6.4424],\n",
            "        [ 2.8934,  8.3720],\n",
            "        [ 3.8389, 14.7368],\n",
            "        [ 3.9254, 15.4090],\n",
            "        [ 4.2234, 17.8369],\n",
            "        [ 4.2356, 17.9401],\n",
            "        [ 4.2734, 18.2619],\n",
            "        [ 4.9333, 24.3373],\n",
            "        [ 6.4705, 41.8671],\n",
            "        [ 6.5176, 42.4787],\n",
            "        [ 6.8783, 47.3105],\n",
            "        [ 7.0009, 49.0126],\n",
            "        [ 7.0357, 49.5016],\n",
            "        [ 7.2787, 52.9792],\n",
            "        [ 7.7562, 60.1583],\n",
            "        [ 9.1211, 83.1952],\n",
            "        [ 9.7283, 94.6395]])\n",
            "torch.Size([20, 1])\n",
            "tensor([[ 63.8022],\n",
            "        [ 80.0360],\n",
            "        [ 91.4903],\n",
            "        [108.2878],\n",
            "        [122.7820],\n",
            "        [161.3631],\n",
            "        [166.5082],\n",
            "        [176.1677],\n",
            "        [180.2939],\n",
            "        [179.0976],\n",
            "        [206.2103],\n",
            "        [272.7186],\n",
            "        [272.2403],\n",
            "        [289.5475],\n",
            "        [293.8488],\n",
            "        [295.2281],\n",
            "        [306.6227],\n",
            "        [327.9324],\n",
            "        [383.1630],\n",
            "        [408.6597]])\n"
          ]
        }
      ]
    },
    {
      "cell_type": "code",
      "source": [
        "# Importing PyTorch Library\n",
        "import torch\n",
        "\n",
        "# Importing random library to generate random dataset\n",
        "import random\n",
        "\n",
        "# To get deterministic results\n",
        "torch.manual_seed(456)\n",
        "random.seed(123)"
      ],
      "metadata": {
        "id": "rAhgVsr9wF28"
      },
      "execution_count": null,
      "outputs": []
    },
    {
      "cell_type": "code",
      "source": [
        "import random\n",
        "def read_data1(features, labels):\n",
        "    \"\"\"\n",
        "    Function to access data in mini batches. \n",
        "    Input parameters: batch size, features, labels. \n",
        "    Output: iterator for minibatch data\n",
        "    \"\"\"\n",
        "    \n",
        "    # Number of examples in the datasets\n",
        "    num = len(features)\n",
        "\n",
        "    # Creating a list of indices from 0 to number of examples in the dataset\n",
        "    indices = list(range(num))\n",
        "\n",
        "    # The examples are read at random, in no particular order\n",
        "    random.shuffle(indices)\n",
        "\n",
        "    # Return the features and labels of the minibatch\n",
        "    for i in range(0, num):\n",
        "        batch_indices = torch.tensor(indices[i:num])\n",
        "        yield features[batch_indices], labels[batch_indices]"
      ],
      "metadata": {
        "id": "Bq_fSninwF_P"
      },
      "execution_count": null,
      "outputs": []
    },
    {
      "cell_type": "code",
      "source": [
        "# Call the function read_data and visualize the size of minibatch\n",
        "for X, y in read_data(features, labels):\n",
        "    print(X.shape)\n",
        "    print(y.shape)\n",
        "    break"
      ],
      "metadata": {
        "colab": {
          "base_uri": "https://localhost:8080/"
        },
        "id": "6rWcE1df2VBA",
        "outputId": "148c6ece-8367-4f7f-95be-0681644e04df"
      },
      "execution_count": null,
      "outputs": [
        {
          "output_type": "stream",
          "name": "stdout",
          "text": [
            "torch.Size([20, 2])\n",
            "torch.Size([20, 1])\n"
          ]
        }
      ]
    },
    {
      "cell_type": "code",
      "source": [
        "def linear_reg(X, w, b):\n",
        "  \"\"\"\n",
        "  Function for linear regression y = Xw + b. \n",
        "  Input parameter: features, weights, bias. \n",
        "  Output: predicted labels\n",
        "  \"\"\"\n",
        "  return torch.mm(X,w.T) + b"
      ],
      "metadata": {
        "id": "talzfrfGwGIc"
      },
      "execution_count": null,
      "outputs": []
    },
    {
      "cell_type": "code",
      "source": [
        "def mse_loss(ypred, y):\n",
        "  \"\"\"\n",
        "  Squared error loss function.\n",
        "  Input: actual labels and predicted labels\n",
        "  Output: squared error loss\n",
        "  \"\"\"\n",
        "  error = ypred - y.view(ypred.shape)\n",
        "  mean_squared_error = error.T.mm(error)/len(y)\n",
        "  return mean_squared_error"
      ],
      "metadata": {
        "id": "FrSAQuoCwGd4"
      },
      "execution_count": null,
      "outputs": []
    },
    {
      "cell_type": "code",
      "source": [
        "# weight update step\n",
        "def sgd(params, params_grad, lr):\n",
        "    for param, param_grad in zip(params, params_grad):\n",
        "        param -= lr * param_grad"
      ],
      "metadata": {
        "id": "dC1CeeASwGnJ"
      },
      "execution_count": null,
      "outputs": []
    },
    {
      "cell_type": "code",
      "source": [
        "w = torch.normal(0, 0.01, size=(1, 2), requires_grad=False)\n",
        "\n",
        "# Create a tensor for bias\n",
        "b = torch.zeros(1, requires_grad=False)\n",
        "print(w)"
      ],
      "metadata": {
        "colab": {
          "base_uri": "https://localhost:8080/"
        },
        "id": "eumD2Pq3wGwg",
        "outputId": "7abd6b7b-0ac3-4ef0-cc67-88955c082b47"
      },
      "execution_count": null,
      "outputs": [
        {
          "output_type": "stream",
          "name": "stdout",
          "text": [
            "tensor([[-0.0243,  0.0075]])\n"
          ]
        }
      ]
    },
    {
      "cell_type": "code",
      "source": [
        "\n",
        "\n",
        "# Set the values for learning rate and number of epochs\n",
        "lr = 0.0001\n",
        "epochs = 10\n",
        "\n",
        "# Iterate over the whole dataset\n",
        "for epoch in range(epochs):\n",
        "    \n",
        "    # Iterate over mini batch\n",
        "    for X, y in read_data1(features,labels):\n",
        "\n",
        "        # step 1 :forward pass - compute predictions\n",
        "        ypred = linear_reg(X, w, b)\n",
        "\n",
        "        # step 2: Calculate minibatch loss\n",
        "        #batch_loss = mse_loss(ypred, y)\n",
        "        \n",
        "\n",
        "        # step 3: Compute gradient on loss with respect to weights and bias\n",
        "        grad_w = 2 *X.T.mm(ypred-y)/len(y)\n",
        "        grad_b = 2 *(ypred-y).sum()/len(y)\n",
        "\n",
        "        # step 4: Update parameters using their gradient using optimization algorithm\n",
        "        sgd([w.T, b], [grad_w, grad_b], lr)  \n",
        "\n",
        "    \n",
        "    # Calculate and print loss for the complete epoch\n",
        "    train_l = mse_loss(linear_reg(features, w, b), labels)\n",
        "\n",
        "    # We can observe the epoch vs loss curve in W&B\n",
        "    #wandb.log({\"/Loss_2_2\": train_l.item()})\n",
        "        \n",
        "    print(f'epoch {epoch + 1}, loss {float(train_l.item()):f}')"
      ],
      "metadata": {
        "colab": {
          "base_uri": "https://localhost:8080/"
        },
        "id": "6wD4nfudf1aK",
        "outputId": "54b55a54-bdca-4aca-ad7d-9d0a5f0affe2"
      },
      "execution_count": null,
      "outputs": [
        {
          "output_type": "stream",
          "name": "stdout",
          "text": [
            "epoch 1, loss 7078.635742\n",
            "epoch 2, loss 3838.150879\n",
            "epoch 3, loss 3890.479248\n",
            "epoch 4, loss 3711.339111\n",
            "epoch 5, loss 3659.002441\n",
            "epoch 6, loss 4153.273438\n",
            "epoch 7, loss 3787.488770\n",
            "epoch 8, loss 3635.017578\n",
            "epoch 9, loss 3722.775391\n",
            "epoch 10, loss 5191.581543\n"
          ]
        }
      ]
    },
    {
      "cell_type": "markdown",
      "source": [
        "##**Conclusion**##"
      ],
      "metadata": {
        "id": "GelGSm8j9X3Y"
      }
    },
    {
      "cell_type": "code",
      "source": [
        "# Considering the best learning rate and different techniues, best lost is from Linear regression without bias. \n",
        "# Sequence: Linear Regression without bias > Linear Regression > Linear Regression with Quadratic Terms "
      ],
      "metadata": {
        "id": "sH1_ReEn9eFr"
      },
      "execution_count": null,
      "outputs": []
    },
    {
      "cell_type": "markdown",
      "source": [
        "# <font color = 'pickle'> **Image Classification using - Pixel Similarity**"
      ],
      "metadata": {
        "id": "KIGzK9tk2xu7"
      }
    },
    {
      "cell_type": "markdown",
      "source": [
        "## <font color = 'pickle'> **Import libraries**"
      ],
      "metadata": {
        "id": "Lt4By-uaetgk"
      }
    },
    {
      "cell_type": "code",
      "source": [
        "# import libraries\n",
        "import torchvision\n",
        "import torchvision.transforms as transforms\n",
        "from pathlib import Path\n",
        "import cv2 as cv \n",
        "from google.colab.patches import cv2_imshow # for image display\n",
        "import pandas as pd"
      ],
      "metadata": {
        "id": "sjIbQATg2-iV"
      },
      "execution_count": null,
      "outputs": []
    },
    {
      "cell_type": "markdown",
      "source": [
        "## <font color = 'pickle'> **Mount Google Deive**"
      ],
      "metadata": {
        "id": "f3H-yYCoe1qa"
      }
    },
    {
      "cell_type": "code",
      "source": [
        "# mount google drive\n",
        "from google.colab import drive\n",
        "drive.mount('/content/drive')"
      ],
      "metadata": {
        "colab": {
          "base_uri": "https://localhost:8080/"
        },
        "id": "2CbT_bno5vMe",
        "outputId": "2377e474-986c-4a29-c49e-26b794ef9781"
      },
      "execution_count": null,
      "outputs": [
        {
          "output_type": "stream",
          "name": "stdout",
          "text": [
            "Drive already mounted at /content/drive; to attempt to forcibly remount, call drive.mount(\"/content/drive\", force_remount=True).\n"
          ]
        }
      ]
    },
    {
      "cell_type": "markdown",
      "source": [
        "## <font color = 'pickle'>**Path to Dowanload Data**\n",
        "\n",
        "<font color = 'dodgerblue'>**Make sure you change the Path to where you want to save data.**</font>\n",
        "In the code below - **data/datasets** is the folder name in my google drive. You can change this to appropriate folder for your drive. For example you may want to save data . In this case the below code should be modified to :\n",
        "\n",
        " ```data_folder = Path('/content/drive/MyDrive/')```"
      ],
      "metadata": {
        "id": "8aH39pb4e6fN"
      }
    },
    {
      "cell_type": "code",
      "source": [
        "data_folder = Path('/content/drive/MyDrive/Colab Notebooks/MNIST')"
      ],
      "metadata": {
        "id": "m220qfuB5xID"
      },
      "execution_count": null,
      "outputs": []
    },
    {
      "cell_type": "markdown",
      "source": [
        "## <font color = 'pickle'>**Download MNIST training Data**\n",
        "The MNIST is a dataset of  handwritten digits, available from this page http://yann.lecun.com/exdb/mnist/. It has a training set of 60,000 examples, and a test set of 10,000 examples. In this task we will use images for digits 3 and 7."
      ],
      "metadata": {
        "id": "nGGKt-TDfxtS"
      }
    },
    {
      "cell_type": "code",
      "source": [
        "trainset = torchvision.datasets.MNIST(root = data_folder,\n",
        "                                      train = True,\n",
        "                                      download = True,\n",
        "                                      )"
      ],
      "metadata": {
        "id": "KLuNjyzj51_K",
        "colab": {
          "base_uri": "https://localhost:8080/",
          "height": 443,
          "referenced_widgets": [
            "0d33e158db0d4afca3b76faf2132181e",
            "554b98b52d744f68b266d702e2e2910e",
            "c87d726190d049b3a731bf5fdf7fbb72",
            "ec897376f8a944ddbca6bd5581534712",
            "6b99ba9d77564d8d896c288959d373da",
            "c90d0fc1f0374e18b0ac3e37ea2a6920",
            "6c5662cd1ea8417aa1dbb811926af705",
            "1761f55a14ec44f1bef27781f6df889b",
            "3d6a9173d5eb499a9bda0eea2ed3c44f",
            "53cdf98555ff4920a90367bf05acdcfd",
            "5776d81010ca4e0fa7e5ce2c585dde6e",
            "b8a0e27cf22a48fab9cc97bef287e53f",
            "96ca6d9739f64237a7956e54f0d942f6",
            "ef4037fc7577483b99c5ef27fe91ba1e",
            "a0f8d36aab524512bdebea61d0423d58",
            "488c1d27586641378787563b649c677b",
            "70df470a0b004246a46c8ac838d3ac95",
            "47a45f35c3b34a1fb73ad652cb07fcbd",
            "a82a6d7242d6410c9c104b147d0c3ec7",
            "2f3416a000cd4595acceaf22494f1aea",
            "02adf7131258464e91e92812c748f14b",
            "7fda1d600c444db795de70a0be4b6a3f",
            "ebc1feee4a6a482780d407bb3cd945f9",
            "c309634f5cc744dd969590ea607ed8ff",
            "438597fb24eb47898e72c8a4ac1d210a",
            "7cfdccb5fe8a4b7a89828699ff78d525",
            "07e4d1e04e6743ce8291940411583234",
            "6bc49f5385c54c709bb1e6ec887cc035",
            "fc77c006726348a99d39c93fdbc6ec72",
            "4d930225ca334ff58b87f1c6185d3352",
            "277c66034fbd4a92a2107a47099a95d0",
            "f5aadd3b895845e8b87e92896b716cd4",
            "16c7f4d092304cc5b7f195f5d43dea5b",
            "4bf05a64c66d4f859ada0c8e96ca8fe7",
            "4b07dd88dee24fc5b6461423d8180db0",
            "f6155a811a9241c08bb4b9fb56b12c8b",
            "bdb91fd5de914fe495a49857066c9f58",
            "54adb4bf7fdd41f082266eb9d5051822",
            "c4575bc657b941339177fc7cae5ea3cb",
            "4fba1d01882c437fba4b8f07682e62c5",
            "e2e89d2959184363aa189eb9ab16be55",
            "b9e5840dda9946f0b900d7e6cf1e1f7a",
            "9c996d36ea494973b5cda5ad751c13d7",
            "1073b5fc045d43279482513974cabbb1"
          ]
        },
        "outputId": "bb35b50f-6362-4bbc-a191-0cb56ac8900a"
      },
      "execution_count": null,
      "outputs": [
        {
          "output_type": "stream",
          "name": "stdout",
          "text": [
            "Downloading http://yann.lecun.com/exdb/mnist/train-images-idx3-ubyte.gz\n",
            "Downloading http://yann.lecun.com/exdb/mnist/train-images-idx3-ubyte.gz to /content/drive/MyDrive/Colab Notebooks/MNIST/MNIST/raw/train-images-idx3-ubyte.gz\n"
          ]
        },
        {
          "output_type": "display_data",
          "data": {
            "text/plain": [
              "  0%|          | 0/9912422 [00:00<?, ?it/s]"
            ],
            "application/vnd.jupyter.widget-view+json": {
              "version_major": 2,
              "version_minor": 0,
              "model_id": "0d33e158db0d4afca3b76faf2132181e"
            }
          },
          "metadata": {}
        },
        {
          "output_type": "stream",
          "name": "stdout",
          "text": [
            "Extracting /content/drive/MyDrive/Colab Notebooks/MNIST/MNIST/raw/train-images-idx3-ubyte.gz to /content/drive/MyDrive/Colab Notebooks/MNIST/MNIST/raw\n",
            "\n",
            "Downloading http://yann.lecun.com/exdb/mnist/train-labels-idx1-ubyte.gz\n",
            "Downloading http://yann.lecun.com/exdb/mnist/train-labels-idx1-ubyte.gz to /content/drive/MyDrive/Colab Notebooks/MNIST/MNIST/raw/train-labels-idx1-ubyte.gz\n"
          ]
        },
        {
          "output_type": "display_data",
          "data": {
            "text/plain": [
              "  0%|          | 0/28881 [00:00<?, ?it/s]"
            ],
            "application/vnd.jupyter.widget-view+json": {
              "version_major": 2,
              "version_minor": 0,
              "model_id": "b8a0e27cf22a48fab9cc97bef287e53f"
            }
          },
          "metadata": {}
        },
        {
          "output_type": "stream",
          "name": "stdout",
          "text": [
            "Extracting /content/drive/MyDrive/Colab Notebooks/MNIST/MNIST/raw/train-labels-idx1-ubyte.gz to /content/drive/MyDrive/Colab Notebooks/MNIST/MNIST/raw\n",
            "\n",
            "Downloading http://yann.lecun.com/exdb/mnist/t10k-images-idx3-ubyte.gz\n",
            "Downloading http://yann.lecun.com/exdb/mnist/t10k-images-idx3-ubyte.gz to /content/drive/MyDrive/Colab Notebooks/MNIST/MNIST/raw/t10k-images-idx3-ubyte.gz\n"
          ]
        },
        {
          "output_type": "display_data",
          "data": {
            "text/plain": [
              "  0%|          | 0/1648877 [00:00<?, ?it/s]"
            ],
            "application/vnd.jupyter.widget-view+json": {
              "version_major": 2,
              "version_minor": 0,
              "model_id": "ebc1feee4a6a482780d407bb3cd945f9"
            }
          },
          "metadata": {}
        },
        {
          "output_type": "stream",
          "name": "stdout",
          "text": [
            "Extracting /content/drive/MyDrive/Colab Notebooks/MNIST/MNIST/raw/t10k-images-idx3-ubyte.gz to /content/drive/MyDrive/Colab Notebooks/MNIST/MNIST/raw\n",
            "\n",
            "Downloading http://yann.lecun.com/exdb/mnist/t10k-labels-idx1-ubyte.gz\n",
            "Downloading http://yann.lecun.com/exdb/mnist/t10k-labels-idx1-ubyte.gz to /content/drive/MyDrive/Colab Notebooks/MNIST/MNIST/raw/t10k-labels-idx1-ubyte.gz\n"
          ]
        },
        {
          "output_type": "display_data",
          "data": {
            "text/plain": [
              "  0%|          | 0/4542 [00:00<?, ?it/s]"
            ],
            "application/vnd.jupyter.widget-view+json": {
              "version_major": 2,
              "version_minor": 0,
              "model_id": "4bf05a64c66d4f859ada0c8e96ca8fe7"
            }
          },
          "metadata": {}
        },
        {
          "output_type": "stream",
          "name": "stdout",
          "text": [
            "Extracting /content/drive/MyDrive/Colab Notebooks/MNIST/MNIST/raw/t10k-labels-idx1-ubyte.gz to /content/drive/MyDrive/Colab Notebooks/MNIST/MNIST/raw\n",
            "\n"
          ]
        }
      ]
    },
    {
      "cell_type": "markdown",
      "source": [
        "## <font color = 'pickle'>**Subset of images**"
      ],
      "metadata": {
        "id": "nntnpojIhJQ4"
      }
    },
    {
      "cell_type": "markdown",
      "source": [
        "trainset.data has images and trainset.targets has the labels. Below we will create a Boolean mask for digits 3 and 7. We will use this mask to extract subset of images."
      ],
      "metadata": {
        "id": "8EQIc6Lpgjbt"
      }
    },
    {
      "cell_type": "code",
      "source": [
        "# get the mask \n",
        "idx3 = trainset.targets==3\n",
        "idx7 = trainset.targets==7"
      ],
      "metadata": {
        "id": "jNIznfUi6iFh"
      },
      "execution_count": null,
      "outputs": []
    },
    {
      "cell_type": "code",
      "source": [
        "idx3 # This take the value of True wherever the label was 3 and False otherwise"
      ],
      "metadata": {
        "colab": {
          "base_uri": "https://localhost:8080/"
        },
        "id": "QexXdM2chff9",
        "outputId": "1e7e03b3-d080-40aa-e520-5fdfc97d8afe"
      },
      "execution_count": null,
      "outputs": [
        {
          "output_type": "execute_result",
          "data": {
            "text/plain": [
              "tensor([False, False, False,  ..., False, False, False])"
            ]
          },
          "metadata": {},
          "execution_count": 11
        }
      ]
    },
    {
      "cell_type": "code",
      "source": [
        "threes = trainset.data[idx3] # use Boolean mask to extract images for digit three\n",
        "sevens = trainset.data[idx7] # use Boolean mask to extract images for digit seven"
      ],
      "metadata": {
        "id": "deJsd2nH8agO"
      },
      "execution_count": null,
      "outputs": []
    },
    {
      "cell_type": "code",
      "source": [
        "threes.shape, sevens.shape"
      ],
      "metadata": {
        "colab": {
          "base_uri": "https://localhost:8080/"
        },
        "id": "vbNTRilH9lAE",
        "outputId": "f9648377-eb4f-41c3-b505-cd4b63a1a8ec"
      },
      "execution_count": null,
      "outputs": [
        {
          "output_type": "execute_result",
          "data": {
            "text/plain": [
              "(torch.Size([6131, 28, 28]), torch.Size([6265, 28, 28]))"
            ]
          },
          "metadata": {},
          "execution_count": 13
        }
      ]
    },
    {
      "cell_type": "code",
      "source": [
        "type(threes[0])"
      ],
      "metadata": {
        "colab": {
          "base_uri": "https://localhost:8080/"
        },
        "id": "dSvRnZ-Z_uOu",
        "outputId": "3dbe68f7-1180-4d83-8952-8a3c00e4067d"
      },
      "execution_count": null,
      "outputs": [
        {
          "output_type": "execute_result",
          "data": {
            "text/plain": [
              "torch.Tensor"
            ]
          },
          "metadata": {},
          "execution_count": 14
        }
      ]
    },
    {
      "cell_type": "code",
      "source": [
        "# get a sample image\n",
        "sample_img_3 = threes[0]"
      ],
      "metadata": {
        "id": "WR76cheTAWSX"
      },
      "execution_count": null,
      "outputs": []
    },
    {
      "cell_type": "code",
      "source": [
        "sample_img_3.shape"
      ],
      "metadata": {
        "colab": {
          "base_uri": "https://localhost:8080/"
        },
        "id": "RpxJyQRBiYfd",
        "outputId": "60ab686e-a748-4252-eca5-9704227ccac3"
      },
      "execution_count": null,
      "outputs": [
        {
          "output_type": "execute_result",
          "data": {
            "text/plain": [
              "torch.Size([28, 28])"
            ]
          },
          "metadata": {},
          "execution_count": 16
        }
      ]
    },
    {
      "cell_type": "markdown",
      "source": [
        "### <font color = 'pickle'>**Task1**\n",
        "Reshape the image so that it has following  shape: 28, 28, 1. Then convert the tensor to numpy array. "
      ],
      "metadata": {
        "id": "BtyVCMlDiiv9"
      }
    },
    {
      "cell_type": "code",
      "source": [
        "sample_img_3_numpy =  sample_img_3.reshape([28,28,1]).numpy()"
      ],
      "metadata": {
        "id": "AhquhuqPidpL"
      },
      "execution_count": null,
      "outputs": []
    },
    {
      "cell_type": "code",
      "source": [
        "# let us look at the image\n",
        "# the above steps were needed because the function cv2_imshow needs a three dimenional numpy array of the \n",
        "# shape H x W  X C (height, width, number of channels). The number of channels for black and white images is 1.\n",
        "cv2_imshow(sample_img_3_numpy)"
      ],
      "metadata": {
        "colab": {
          "base_uri": "https://localhost:8080/",
          "height": 45
        },
        "id": "CCGEscWoJfbJ",
        "outputId": "f52ea0cd-50bc-44cf-897a-2bd7c44cbafe"
      },
      "execution_count": null,
      "outputs": [
        {
          "output_type": "display_data",
          "data": {
            "text/plain": [
              "<PIL.Image.Image image mode=RGB size=28x28 at 0x7FF78BA33210>"
            ],
            "image/png": "[encoded data removed]"
          },
          "metadata": {}
        }
      ]
    },
    {
      "cell_type": "markdown",
      "source": [
        "### <font color = 'pickle'>**Task2**\n",
        "\n",
        "Repeat the above steps to show the first image for digit 7.\n",
        " - Get the first image.\n",
        " - Reshape the image to 28, 28, 1\n",
        " - Convert the tensor to numpy array\n"
      ],
      "metadata": {
        "id": "DLCTtP3bjtT8"
      }
    },
    {
      "cell_type": "code",
      "source": [
        "sample_img_7 = sevens[0]\n",
        "sample_img_7_numpy =  sample_img_7.reshape([28,28,1]).numpy()\n",
        "cv2_imshow(sample_img_7_numpy)"
      ],
      "metadata": {
        "colab": {
          "base_uri": "https://localhost:8080/",
          "height": 45
        },
        "id": "pnbVQjsrQ1Fa",
        "outputId": "64c572c6-af18-469e-ad30-b7cda0b3a5ce"
      },
      "execution_count": null,
      "outputs": [
        {
          "output_type": "display_data",
          "data": {
            "text/plain": [
              "<PIL.Image.Image image mode=RGB size=28x28 at 0x7FF78B947D90>"
            ],
            "image/png": "[encoded data removed]"
          },
          "metadata": {}
        }
      ]
    },
    {
      "cell_type": "markdown",
      "source": [
        "## <font color = 'pickle'>**Visualizing images as pixel values**"
      ],
      "metadata": {
        "id": "f83QfllOke76"
      }
    },
    {
      "cell_type": "markdown",
      "source": [
        "<font color = 'dodgerblue'> \n",
        "- In a computer, images are stored in the form of matrices. The numbers in the matrix are called \"pixel values.\"\n",
        "- These pixel values show how bright each pixel is.\n",
        "- 0 means \"black,\" and 255 means \"white.\"\n",
        "- The matrix of numbers is called the channel, and there is only one channel in a grayscale image.\n",
        "- For color inages , we have three channels(RGB - Red, Green Blue). That is we need three matrices to store color images.\n",
        "</font>"
      ],
      "metadata": {
        "id": "uYxk1inRkxlf"
      }
    },
    {
      "cell_type": "code",
      "source": [
        "df = pd.DataFrame(sample_img_3[5:24, 7:22].numpy())\n",
        "df.style.set_properties(**{'font-size':'8pt'})"
      ],
      "metadata": {
        "colab": {
          "base_uri": "https://localhost:8080/",
          "height": 645
        },
        "id": "XC2brA7VAwcP",
        "outputId": "137e8f06-a09e-40ee-f955-357289b43c65"
      },
      "execution_count": null,
      "outputs": [
        {
          "output_type": "execute_result",
          "data": {
            "text/plain": [
              "<pandas.io.formats.style.Styler at 0x7ff78b554490>"
            ],
            "text/html": [
              "<style type=\"text/css\">\n",
              "#T_7ec62_row0_col0, #T_7ec62_row0_col1, #T_7ec62_row0_col2, #T_7ec62_row0_col3, #T_7ec62_row0_col4, #T_7ec62_row0_col5, #T_7ec62_row0_col6, #T_7ec62_row0_col7, #T_7ec62_row0_col8, #T_7ec62_row0_col9, #T_7ec62_row0_col10, #T_7ec62_row0_col11, #T_7ec62_row0_col12, #T_7ec62_row0_col13, #T_7ec62_row0_col14, #T_7ec62_row1_col0, #T_7ec62_row1_col1, #T_7ec62_row1_col2, #T_7ec62_row1_col3, #T_7ec62_row1_col4, #T_7ec62_row1_col5, #T_7ec62_row1_col6, #T_7ec62_row1_col7, #T_7ec62_row1_col8, #T_7ec62_row1_col9, #T_7ec62_row1_col10, #T_7ec62_row1_col11, #T_7ec62_row1_col12, #T_7ec62_row1_col13, #T_7ec62_row1_col14, #T_7ec62_row2_col0, #T_7ec62_row2_col1, #T_7ec62_row2_col2, #T_7ec62_row2_col3, #T_7ec62_row2_col4, #T_7ec62_row2_col5, #T_7ec62_row2_col6, #T_7ec62_row2_col7, #T_7ec62_row2_col8, #T_7ec62_row2_col9, #T_7ec62_row2_col10, #T_7ec62_row2_col11, #T_7ec62_row2_col12, #T_7ec62_row2_col13, #T_7ec62_row2_col14, #T_7ec62_row3_col0, #T_7ec62_row3_col1, #T_7ec62_row3_col2, #T_7ec62_row3_col3, #T_7ec62_row3_col4, #T_7ec62_row3_col5, #T_7ec62_row3_col6, #T_7ec62_row3_col7, #T_7ec62_row3_col8, #T_7ec62_row3_col9, #T_7ec62_row3_col10, #T_7ec62_row3_col11, #T_7ec62_row3_col12, #T_7ec62_row3_col13, #T_7ec62_row3_col14, #T_7ec62_row4_col0, #T_7ec62_row4_col1, #T_7ec62_row4_col2, #T_7ec62_row4_col3, #T_7ec62_row4_col4, #T_7ec62_row4_col5, #T_7ec62_row4_col6, #T_7ec62_row4_col7, #T_7ec62_row4_col8, #T_7ec62_row4_col9, #T_7ec62_row4_col10, #T_7ec62_row4_col11, #T_7ec62_row4_col12, #T_7ec62_row4_col13, #T_7ec62_row4_col14, #T_7ec62_row5_col0, #T_7ec62_row5_col1, #T_7ec62_row5_col2, #T_7ec62_row5_col3, #T_7ec62_row5_col4, #T_7ec62_row5_col5, #T_7ec62_row5_col6, #T_7ec62_row5_col7, #T_7ec62_row5_col8, #T_7ec62_row5_col9, #T_7ec62_row5_col10, #T_7ec62_row5_col11, #T_7ec62_row5_col12, #T_7ec62_row5_col13, #T_7ec62_row5_col14, #T_7ec62_row6_col0, #T_7ec62_row6_col1, #T_7ec62_row6_col2, #T_7ec62_row6_col3, #T_7ec62_row6_col4, #T_7ec62_row6_col5, #T_7ec62_row6_col6, #T_7ec62_row6_col7, #T_7ec62_row6_col8, #T_7ec62_row6_col9, #T_7ec62_row6_col10, #T_7ec62_row6_col11, #T_7ec62_row6_col12, #T_7ec62_row6_col13, #T_7ec62_row6_col14, #T_7ec62_row7_col0, #T_7ec62_row7_col1, #T_7ec62_row7_col2, #T_7ec62_row7_col3, #T_7ec62_row7_col4, #T_7ec62_row7_col5, #T_7ec62_row7_col6, #T_7ec62_row7_col7, #T_7ec62_row7_col8, #T_7ec62_row7_col9, #T_7ec62_row7_col10, #T_7ec62_row7_col11, #T_7ec62_row7_col12, #T_7ec62_row7_col13, #T_7ec62_row7_col14, #T_7ec62_row8_col0, #T_7ec62_row8_col1, #T_7ec62_row8_col2, #T_7ec62_row8_col3, #T_7ec62_row8_col4, #T_7ec62_row8_col5, #T_7ec62_row8_col6, #T_7ec62_row8_col7, #T_7ec62_row8_col8, #T_7ec62_row8_col9, #T_7ec62_row8_col10, #T_7ec62_row8_col11, #T_7ec62_row8_col12, #T_7ec62_row8_col13, #T_7ec62_row8_col14, #T_7ec62_row9_col0, #T_7ec62_row9_col1, #T_7ec62_row9_col2, #T_7ec62_row9_col3, #T_7ec62_row9_col4, #T_7ec62_row9_col5, #T_7ec62_row9_col6, #T_7ec62_row9_col7, #T_7ec62_row9_col8, #T_7ec62_row9_col9, #T_7ec62_row9_col10, #T_7ec62_row9_col11, #T_7ec62_row9_col12, #T_7ec62_row9_col13, #T_7ec62_row9_col14, #T_7ec62_row10_col0, #T_7ec62_row10_col1, #T_7ec62_row10_col2, #T_7ec62_row10_col3, #T_7ec62_row10_col4, #T_7ec62_row10_col5, #T_7ec62_row10_col6, #T_7ec62_row10_col7, #T_7ec62_row10_col8, #T_7ec62_row10_col9, #T_7ec62_row10_col10, #T_7ec62_row10_col11, #T_7ec62_row10_col12, #T_7ec62_row10_col13, #T_7ec62_row10_col14, #T_7ec62_row11_col0, #T_7ec62_row11_col1, #T_7ec62_row11_col2, #T_7ec62_row11_col3, #T_7ec62_row11_col4, #T_7ec62_row11_col5, #T_7ec62_row11_col6, #T_7ec62_row11_col7, #T_7ec62_row11_col8, #T_7ec62_row11_col9, #T_7ec62_row11_col10, #T_7ec62_row11_col11, #T_7ec62_row11_col12, #T_7ec62_row11_col13, #T_7ec62_row11_col14, #T_7ec62_row12_col0, #T_7ec62_row12_col1, #T_7ec62_row12_col2, #T_7ec62_row12_col3, #T_7ec62_row12_col4, #T_7ec62_row12_col5, #T_7ec62_row12_col6, #T_7ec62_row12_col7, #T_7ec62_row12_col8, #T_7ec62_row12_col9, #T_7ec62_row12_col10, #T_7ec62_row12_col11, #T_7ec62_row12_col12, #T_7ec62_row12_col13, #T_7ec62_row12_col14, #T_7ec62_row13_col0, #T_7ec62_row13_col1, #T_7ec62_row13_col2, #T_7ec62_row13_col3, #T_7ec62_row13_col4, #T_7ec62_row13_col5, #T_7ec62_row13_col6, #T_7ec62_row13_col7, #T_7ec62_row13_col8, #T_7ec62_row13_col9, #T_7ec62_row13_col10, #T_7ec62_row13_col11, #T_7ec62_row13_col12, #T_7ec62_row13_col13, #T_7ec62_row13_col14, #T_7ec62_row14_col0, #T_7ec62_row14_col1, #T_7ec62_row14_col2, #T_7ec62_row14_col3, #T_7ec62_row14_col4, #T_7ec62_row14_col5, #T_7ec62_row14_col6, #T_7ec62_row14_col7, #T_7ec62_row14_col8, #T_7ec62_row14_col9, #T_7ec62_row14_col10, #T_7ec62_row14_col11, #T_7ec62_row14_col12, #T_7ec62_row14_col13, #T_7ec62_row14_col14, #T_7ec62_row15_col0, #T_7ec62_row15_col1, #T_7ec62_row15_col2, #T_7ec62_row15_col3, #T_7ec62_row15_col4, #T_7ec62_row15_col5, #T_7ec62_row15_col6, #T_7ec62_row15_col7, #T_7ec62_row15_col8, #T_7ec62_row15_col9, #T_7ec62_row15_col10, #T_7ec62_row15_col11, #T_7ec62_row15_col12, #T_7ec62_row15_col13, #T_7ec62_row15_col14, #T_7ec62_row16_col0, #T_7ec62_row16_col1, #T_7ec62_row16_col2, #T_7ec62_row16_col3, #T_7ec62_row16_col4, #T_7ec62_row16_col5, #T_7ec62_row16_col6, #T_7ec62_row16_col7, #T_7ec62_row16_col8, #T_7ec62_row16_col9, #T_7ec62_row16_col10, #T_7ec62_row16_col11, #T_7ec62_row16_col12, #T_7ec62_row16_col13, #T_7ec62_row16_col14, #T_7ec62_row17_col0, #T_7ec62_row17_col1, #T_7ec62_row17_col2, #T_7ec62_row17_col3, #T_7ec62_row17_col4, #T_7ec62_row17_col5, #T_7ec62_row17_col6, #T_7ec62_row17_col7, #T_7ec62_row17_col8, #T_7ec62_row17_col9, #T_7ec62_row17_col10, #T_7ec62_row17_col11, #T_7ec62_row17_col12, #T_7ec62_row17_col13, #T_7ec62_row17_col14, #T_7ec62_row18_col0, #T_7ec62_row18_col1, #T_7ec62_row18_col2, #T_7ec62_row18_col3, #T_7ec62_row18_col4, #T_7ec62_row18_col5, #T_7ec62_row18_col6, #T_7ec62_row18_col7, #T_7ec62_row18_col8, #T_7ec62_row18_col9, #T_7ec62_row18_col10, #T_7ec62_row18_col11, #T_7ec62_row18_col12, #T_7ec62_row18_col13, #T_7ec62_row18_col14 {\n",
              "  font-size: 8pt;\n",
              "}\n",
              "</style>\n",
              "<table id=\"T_7ec62_\" class=\"dataframe\">\n",
              "  <thead>\n",
              "    <tr>\n",
              "      <th class=\"blank level0\" >&nbsp;</th>\n",
              "      <th class=\"col_heading level0 col0\" >0</th>\n",
              "      <th class=\"col_heading level0 col1\" >1</th>\n",
              "      <th class=\"col_heading level0 col2\" >2</th>\n",
              "      <th class=\"col_heading level0 col3\" >3</th>\n",
              "      <th class=\"col_heading level0 col4\" >4</th>\n",
              "      <th class=\"col_heading level0 col5\" >5</th>\n",
              "      <th class=\"col_heading level0 col6\" >6</th>\n",
              "      <th class=\"col_heading level0 col7\" >7</th>\n",
              "      <th class=\"col_heading level0 col8\" >8</th>\n",
              "      <th class=\"col_heading level0 col9\" >9</th>\n",
              "      <th class=\"col_heading level0 col10\" >10</th>\n",
              "      <th class=\"col_heading level0 col11\" >11</th>\n",
              "      <th class=\"col_heading level0 col12\" >12</th>\n",
              "      <th class=\"col_heading level0 col13\" >13</th>\n",
              "      <th class=\"col_heading level0 col14\" >14</th>\n",
              "    </tr>\n",
              "  </thead>\n",
              "  <tbody>\n",
              "    <tr>\n",
              "      <th id=\"T_7ec62_level0_row0\" class=\"row_heading level0 row0\" >0</th>\n",
              "      <td id=\"T_7ec62_row0_col0\" class=\"data row0 col0\" >0</td>\n",
              "      <td id=\"T_7ec62_row0_col1\" class=\"data row0 col1\" >0</td>\n",
              "      <td id=\"T_7ec62_row0_col2\" class=\"data row0 col2\" >0</td>\n",
              "      <td id=\"T_7ec62_row0_col3\" class=\"data row0 col3\" >0</td>\n",
              "      <td id=\"T_7ec62_row0_col4\" class=\"data row0 col4\" >38</td>\n",
              "      <td id=\"T_7ec62_row0_col5\" class=\"data row0 col5\" >43</td>\n",
              "      <td id=\"T_7ec62_row0_col6\" class=\"data row0 col6\" >105</td>\n",
              "      <td id=\"T_7ec62_row0_col7\" class=\"data row0 col7\" >255</td>\n",
              "      <td id=\"T_7ec62_row0_col8\" class=\"data row0 col8\" >253</td>\n",
              "      <td id=\"T_7ec62_row0_col9\" class=\"data row0 col9\" >253</td>\n",
              "      <td id=\"T_7ec62_row0_col10\" class=\"data row0 col10\" >253</td>\n",
              "      <td id=\"T_7ec62_row0_col11\" class=\"data row0 col11\" >253</td>\n",
              "      <td id=\"T_7ec62_row0_col12\" class=\"data row0 col12\" >253</td>\n",
              "      <td id=\"T_7ec62_row0_col13\" class=\"data row0 col13\" >174</td>\n",
              "      <td id=\"T_7ec62_row0_col14\" class=\"data row0 col14\" >6</td>\n",
              "    </tr>\n",
              "    <tr>\n",
              "      <th id=\"T_7ec62_level0_row1\" class=\"row_heading level0 row1\" >1</th>\n",
              "      <td id=\"T_7ec62_row1_col0\" class=\"data row1 col0\" >0</td>\n",
              "      <td id=\"T_7ec62_row1_col1\" class=\"data row1 col1\" >0</td>\n",
              "      <td id=\"T_7ec62_row1_col2\" class=\"data row1 col2\" >43</td>\n",
              "      <td id=\"T_7ec62_row1_col3\" class=\"data row1 col3\" >139</td>\n",
              "      <td id=\"T_7ec62_row1_col4\" class=\"data row1 col4\" >224</td>\n",
              "      <td id=\"T_7ec62_row1_col5\" class=\"data row1 col5\" >226</td>\n",
              "      <td id=\"T_7ec62_row1_col6\" class=\"data row1 col6\" >252</td>\n",
              "      <td id=\"T_7ec62_row1_col7\" class=\"data row1 col7\" >253</td>\n",
              "      <td id=\"T_7ec62_row1_col8\" class=\"data row1 col8\" >252</td>\n",
              "      <td id=\"T_7ec62_row1_col9\" class=\"data row1 col9\" >252</td>\n",
              "      <td id=\"T_7ec62_row1_col10\" class=\"data row1 col10\" >252</td>\n",
              "      <td id=\"T_7ec62_row1_col11\" class=\"data row1 col11\" >252</td>\n",
              "      <td id=\"T_7ec62_row1_col12\" class=\"data row1 col12\" >252</td>\n",
              "      <td id=\"T_7ec62_row1_col13\" class=\"data row1 col13\" >252</td>\n",
              "      <td id=\"T_7ec62_row1_col14\" class=\"data row1 col14\" >158</td>\n",
              "    </tr>\n",
              "    <tr>\n",
              "      <th id=\"T_7ec62_level0_row2\" class=\"row_heading level0 row2\" >2</th>\n",
              "      <td id=\"T_7ec62_row2_col0\" class=\"data row2 col0\" >0</td>\n",
              "      <td id=\"T_7ec62_row2_col1\" class=\"data row2 col1\" >0</td>\n",
              "      <td id=\"T_7ec62_row2_col2\" class=\"data row2 col2\" >178</td>\n",
              "      <td id=\"T_7ec62_row2_col3\" class=\"data row2 col3\" >252</td>\n",
              "      <td id=\"T_7ec62_row2_col4\" class=\"data row2 col4\" >252</td>\n",
              "      <td id=\"T_7ec62_row2_col5\" class=\"data row2 col5\" >252</td>\n",
              "      <td id=\"T_7ec62_row2_col6\" class=\"data row2 col6\" >252</td>\n",
              "      <td id=\"T_7ec62_row2_col7\" class=\"data row2 col7\" >253</td>\n",
              "      <td id=\"T_7ec62_row2_col8\" class=\"data row2 col8\" >252</td>\n",
              "      <td id=\"T_7ec62_row2_col9\" class=\"data row2 col9\" >252</td>\n",
              "      <td id=\"T_7ec62_row2_col10\" class=\"data row2 col10\" >252</td>\n",
              "      <td id=\"T_7ec62_row2_col11\" class=\"data row2 col11\" >252</td>\n",
              "      <td id=\"T_7ec62_row2_col12\" class=\"data row2 col12\" >252</td>\n",
              "      <td id=\"T_7ec62_row2_col13\" class=\"data row2 col13\" >252</td>\n",
              "      <td id=\"T_7ec62_row2_col14\" class=\"data row2 col14\" >252</td>\n",
              "    </tr>\n",
              "    <tr>\n",
              "      <th id=\"T_7ec62_level0_row3\" class=\"row_heading level0 row3\" >3</th>\n",
              "      <td id=\"T_7ec62_row3_col0\" class=\"data row3 col0\" >0</td>\n",
              "      <td id=\"T_7ec62_row3_col1\" class=\"data row3 col1\" >0</td>\n",
              "      <td id=\"T_7ec62_row3_col2\" class=\"data row3 col2\" >109</td>\n",
              "      <td id=\"T_7ec62_row3_col3\" class=\"data row3 col3\" >252</td>\n",
              "      <td id=\"T_7ec62_row3_col4\" class=\"data row3 col4\" >252</td>\n",
              "      <td id=\"T_7ec62_row3_col5\" class=\"data row3 col5\" >230</td>\n",
              "      <td id=\"T_7ec62_row3_col6\" class=\"data row3 col6\" >132</td>\n",
              "      <td id=\"T_7ec62_row3_col7\" class=\"data row3 col7\" >133</td>\n",
              "      <td id=\"T_7ec62_row3_col8\" class=\"data row3 col8\" >132</td>\n",
              "      <td id=\"T_7ec62_row3_col9\" class=\"data row3 col9\" >132</td>\n",
              "      <td id=\"T_7ec62_row3_col10\" class=\"data row3 col10\" >189</td>\n",
              "      <td id=\"T_7ec62_row3_col11\" class=\"data row3 col11\" >252</td>\n",
              "      <td id=\"T_7ec62_row3_col12\" class=\"data row3 col12\" >252</td>\n",
              "      <td id=\"T_7ec62_row3_col13\" class=\"data row3 col13\" >252</td>\n",
              "      <td id=\"T_7ec62_row3_col14\" class=\"data row3 col14\" >252</td>\n",
              "    </tr>\n",
              "    <tr>\n",
              "      <th id=\"T_7ec62_level0_row4\" class=\"row_heading level0 row4\" >4</th>\n",
              "      <td id=\"T_7ec62_row4_col0\" class=\"data row4 col0\" >0</td>\n",
              "      <td id=\"T_7ec62_row4_col1\" class=\"data row4 col1\" >0</td>\n",
              "      <td id=\"T_7ec62_row4_col2\" class=\"data row4 col2\" >4</td>\n",
              "      <td id=\"T_7ec62_row4_col3\" class=\"data row4 col3\" >29</td>\n",
              "      <td id=\"T_7ec62_row4_col4\" class=\"data row4 col4\" >29</td>\n",
              "      <td id=\"T_7ec62_row4_col5\" class=\"data row4 col5\" >24</td>\n",
              "      <td id=\"T_7ec62_row4_col6\" class=\"data row4 col6\" >0</td>\n",
              "      <td id=\"T_7ec62_row4_col7\" class=\"data row4 col7\" >0</td>\n",
              "      <td id=\"T_7ec62_row4_col8\" class=\"data row4 col8\" >0</td>\n",
              "      <td id=\"T_7ec62_row4_col9\" class=\"data row4 col9\" >0</td>\n",
              "      <td id=\"T_7ec62_row4_col10\" class=\"data row4 col10\" >14</td>\n",
              "      <td id=\"T_7ec62_row4_col11\" class=\"data row4 col11\" >226</td>\n",
              "      <td id=\"T_7ec62_row4_col12\" class=\"data row4 col12\" >252</td>\n",
              "      <td id=\"T_7ec62_row4_col13\" class=\"data row4 col13\" >252</td>\n",
              "      <td id=\"T_7ec62_row4_col14\" class=\"data row4 col14\" >172</td>\n",
              "    </tr>\n",
              "    <tr>\n",
              "      <th id=\"T_7ec62_level0_row5\" class=\"row_heading level0 row5\" >5</th>\n",
              "      <td id=\"T_7ec62_row5_col0\" class=\"data row5 col0\" >0</td>\n",
              "      <td id=\"T_7ec62_row5_col1\" class=\"data row5 col1\" >0</td>\n",
              "      <td id=\"T_7ec62_row5_col2\" class=\"data row5 col2\" >0</td>\n",
              "      <td id=\"T_7ec62_row5_col3\" class=\"data row5 col3\" >0</td>\n",
              "      <td id=\"T_7ec62_row5_col4\" class=\"data row5 col4\" >0</td>\n",
              "      <td id=\"T_7ec62_row5_col5\" class=\"data row5 col5\" >0</td>\n",
              "      <td id=\"T_7ec62_row5_col6\" class=\"data row5 col6\" >0</td>\n",
              "      <td id=\"T_7ec62_row5_col7\" class=\"data row5 col7\" >0</td>\n",
              "      <td id=\"T_7ec62_row5_col8\" class=\"data row5 col8\" >0</td>\n",
              "      <td id=\"T_7ec62_row5_col9\" class=\"data row5 col9\" >0</td>\n",
              "      <td id=\"T_7ec62_row5_col10\" class=\"data row5 col10\" >85</td>\n",
              "      <td id=\"T_7ec62_row5_col11\" class=\"data row5 col11\" >243</td>\n",
              "      <td id=\"T_7ec62_row5_col12\" class=\"data row5 col12\" >252</td>\n",
              "      <td id=\"T_7ec62_row5_col13\" class=\"data row5 col13\" >252</td>\n",
              "      <td id=\"T_7ec62_row5_col14\" class=\"data row5 col14\" >144</td>\n",
              "    </tr>\n",
              "    <tr>\n",
              "      <th id=\"T_7ec62_level0_row6\" class=\"row_heading level0 row6\" >6</th>\n",
              "      <td id=\"T_7ec62_row6_col0\" class=\"data row6 col0\" >0</td>\n",
              "      <td id=\"T_7ec62_row6_col1\" class=\"data row6 col1\" >0</td>\n",
              "      <td id=\"T_7ec62_row6_col2\" class=\"data row6 col2\" >0</td>\n",
              "      <td id=\"T_7ec62_row6_col3\" class=\"data row6 col3\" >0</td>\n",
              "      <td id=\"T_7ec62_row6_col4\" class=\"data row6 col4\" >0</td>\n",
              "      <td id=\"T_7ec62_row6_col5\" class=\"data row6 col5\" >0</td>\n",
              "      <td id=\"T_7ec62_row6_col6\" class=\"data row6 col6\" >0</td>\n",
              "      <td id=\"T_7ec62_row6_col7\" class=\"data row6 col7\" >0</td>\n",
              "      <td id=\"T_7ec62_row6_col8\" class=\"data row6 col8\" >0</td>\n",
              "      <td id=\"T_7ec62_row6_col9\" class=\"data row6 col9\" >88</td>\n",
              "      <td id=\"T_7ec62_row6_col10\" class=\"data row6 col10\" >189</td>\n",
              "      <td id=\"T_7ec62_row6_col11\" class=\"data row6 col11\" >252</td>\n",
              "      <td id=\"T_7ec62_row6_col12\" class=\"data row6 col12\" >252</td>\n",
              "      <td id=\"T_7ec62_row6_col13\" class=\"data row6 col13\" >252</td>\n",
              "      <td id=\"T_7ec62_row6_col14\" class=\"data row6 col14\" >14</td>\n",
              "    </tr>\n",
              "    <tr>\n",
              "      <th id=\"T_7ec62_level0_row7\" class=\"row_heading level0 row7\" >7</th>\n",
              "      <td id=\"T_7ec62_row7_col0\" class=\"data row7 col0\" >0</td>\n",
              "      <td id=\"T_7ec62_row7_col1\" class=\"data row7 col1\" >0</td>\n",
              "      <td id=\"T_7ec62_row7_col2\" class=\"data row7 col2\" >0</td>\n",
              "      <td id=\"T_7ec62_row7_col3\" class=\"data row7 col3\" >0</td>\n",
              "      <td id=\"T_7ec62_row7_col4\" class=\"data row7 col4\" >0</td>\n",
              "      <td id=\"T_7ec62_row7_col5\" class=\"data row7 col5\" >0</td>\n",
              "      <td id=\"T_7ec62_row7_col6\" class=\"data row7 col6\" >0</td>\n",
              "      <td id=\"T_7ec62_row7_col7\" class=\"data row7 col7\" >91</td>\n",
              "      <td id=\"T_7ec62_row7_col8\" class=\"data row7 col8\" >212</td>\n",
              "      <td id=\"T_7ec62_row7_col9\" class=\"data row7 col9\" >247</td>\n",
              "      <td id=\"T_7ec62_row7_col10\" class=\"data row7 col10\" >252</td>\n",
              "      <td id=\"T_7ec62_row7_col11\" class=\"data row7 col11\" >252</td>\n",
              "      <td id=\"T_7ec62_row7_col12\" class=\"data row7 col12\" >252</td>\n",
              "      <td id=\"T_7ec62_row7_col13\" class=\"data row7 col13\" >204</td>\n",
              "      <td id=\"T_7ec62_row7_col14\" class=\"data row7 col14\" >9</td>\n",
              "    </tr>\n",
              "    <tr>\n",
              "      <th id=\"T_7ec62_level0_row8\" class=\"row_heading level0 row8\" >8</th>\n",
              "      <td id=\"T_7ec62_row8_col0\" class=\"data row8 col0\" >0</td>\n",
              "      <td id=\"T_7ec62_row8_col1\" class=\"data row8 col1\" >0</td>\n",
              "      <td id=\"T_7ec62_row8_col2\" class=\"data row8 col2\" >32</td>\n",
              "      <td id=\"T_7ec62_row8_col3\" class=\"data row8 col3\" >125</td>\n",
              "      <td id=\"T_7ec62_row8_col4\" class=\"data row8 col4\" >193</td>\n",
              "      <td id=\"T_7ec62_row8_col5\" class=\"data row8 col5\" >193</td>\n",
              "      <td id=\"T_7ec62_row8_col6\" class=\"data row8 col6\" >193</td>\n",
              "      <td id=\"T_7ec62_row8_col7\" class=\"data row8 col7\" >253</td>\n",
              "      <td id=\"T_7ec62_row8_col8\" class=\"data row8 col8\" >252</td>\n",
              "      <td id=\"T_7ec62_row8_col9\" class=\"data row8 col9\" >252</td>\n",
              "      <td id=\"T_7ec62_row8_col10\" class=\"data row8 col10\" >252</td>\n",
              "      <td id=\"T_7ec62_row8_col11\" class=\"data row8 col11\" >238</td>\n",
              "      <td id=\"T_7ec62_row8_col12\" class=\"data row8 col12\" >102</td>\n",
              "      <td id=\"T_7ec62_row8_col13\" class=\"data row8 col13\" >28</td>\n",
              "      <td id=\"T_7ec62_row8_col14\" class=\"data row8 col14\" >0</td>\n",
              "    </tr>\n",
              "    <tr>\n",
              "      <th id=\"T_7ec62_level0_row9\" class=\"row_heading level0 row9\" >9</th>\n",
              "      <td id=\"T_7ec62_row9_col0\" class=\"data row9 col0\" >0</td>\n",
              "      <td id=\"T_7ec62_row9_col1\" class=\"data row9 col1\" >45</td>\n",
              "      <td id=\"T_7ec62_row9_col2\" class=\"data row9 col2\" >222</td>\n",
              "      <td id=\"T_7ec62_row9_col3\" class=\"data row9 col3\" >252</td>\n",
              "      <td id=\"T_7ec62_row9_col4\" class=\"data row9 col4\" >252</td>\n",
              "      <td id=\"T_7ec62_row9_col5\" class=\"data row9 col5\" >252</td>\n",
              "      <td id=\"T_7ec62_row9_col6\" class=\"data row9 col6\" >252</td>\n",
              "      <td id=\"T_7ec62_row9_col7\" class=\"data row9 col7\" >253</td>\n",
              "      <td id=\"T_7ec62_row9_col8\" class=\"data row9 col8\" >252</td>\n",
              "      <td id=\"T_7ec62_row9_col9\" class=\"data row9 col9\" >252</td>\n",
              "      <td id=\"T_7ec62_row9_col10\" class=\"data row9 col10\" >252</td>\n",
              "      <td id=\"T_7ec62_row9_col11\" class=\"data row9 col11\" >177</td>\n",
              "      <td id=\"T_7ec62_row9_col12\" class=\"data row9 col12\" >0</td>\n",
              "      <td id=\"T_7ec62_row9_col13\" class=\"data row9 col13\" >0</td>\n",
              "      <td id=\"T_7ec62_row9_col14\" class=\"data row9 col14\" >0</td>\n",
              "    </tr>\n",
              "    <tr>\n",
              "      <th id=\"T_7ec62_level0_row10\" class=\"row_heading level0 row10\" >10</th>\n",
              "      <td id=\"T_7ec62_row10_col0\" class=\"data row10 col0\" >0</td>\n",
              "      <td id=\"T_7ec62_row10_col1\" class=\"data row10 col1\" >45</td>\n",
              "      <td id=\"T_7ec62_row10_col2\" class=\"data row10 col2\" >223</td>\n",
              "      <td id=\"T_7ec62_row10_col3\" class=\"data row10 col3\" >253</td>\n",
              "      <td id=\"T_7ec62_row10_col4\" class=\"data row10 col4\" >253</td>\n",
              "      <td id=\"T_7ec62_row10_col5\" class=\"data row10 col5\" >253</td>\n",
              "      <td id=\"T_7ec62_row10_col6\" class=\"data row10 col6\" >253</td>\n",
              "      <td id=\"T_7ec62_row10_col7\" class=\"data row10 col7\" >255</td>\n",
              "      <td id=\"T_7ec62_row10_col8\" class=\"data row10 col8\" >253</td>\n",
              "      <td id=\"T_7ec62_row10_col9\" class=\"data row10 col9\" >253</td>\n",
              "      <td id=\"T_7ec62_row10_col10\" class=\"data row10 col10\" >253</td>\n",
              "      <td id=\"T_7ec62_row10_col11\" class=\"data row10 col11\" >253</td>\n",
              "      <td id=\"T_7ec62_row10_col12\" class=\"data row10 col12\" >74</td>\n",
              "      <td id=\"T_7ec62_row10_col13\" class=\"data row10 col13\" >0</td>\n",
              "      <td id=\"T_7ec62_row10_col14\" class=\"data row10 col14\" >0</td>\n",
              "    </tr>\n",
              "    <tr>\n",
              "      <th id=\"T_7ec62_level0_row11\" class=\"row_heading level0 row11\" >11</th>\n",
              "      <td id=\"T_7ec62_row11_col0\" class=\"data row11 col0\" >0</td>\n",
              "      <td id=\"T_7ec62_row11_col1\" class=\"data row11 col1\" >0</td>\n",
              "      <td id=\"T_7ec62_row11_col2\" class=\"data row11 col2\" >31</td>\n",
              "      <td id=\"T_7ec62_row11_col3\" class=\"data row11 col3\" >123</td>\n",
              "      <td id=\"T_7ec62_row11_col4\" class=\"data row11 col4\" >52</td>\n",
              "      <td id=\"T_7ec62_row11_col5\" class=\"data row11 col5\" >44</td>\n",
              "      <td id=\"T_7ec62_row11_col6\" class=\"data row11 col6\" >44</td>\n",
              "      <td id=\"T_7ec62_row11_col7\" class=\"data row11 col7\" >44</td>\n",
              "      <td id=\"T_7ec62_row11_col8\" class=\"data row11 col8\" >44</td>\n",
              "      <td id=\"T_7ec62_row11_col9\" class=\"data row11 col9\" >143</td>\n",
              "      <td id=\"T_7ec62_row11_col10\" class=\"data row11 col10\" >252</td>\n",
              "      <td id=\"T_7ec62_row11_col11\" class=\"data row11 col11\" >252</td>\n",
              "      <td id=\"T_7ec62_row11_col12\" class=\"data row11 col12\" >74</td>\n",
              "      <td id=\"T_7ec62_row11_col13\" class=\"data row11 col13\" >0</td>\n",
              "      <td id=\"T_7ec62_row11_col14\" class=\"data row11 col14\" >0</td>\n",
              "    </tr>\n",
              "    <tr>\n",
              "      <th id=\"T_7ec62_level0_row12\" class=\"row_heading level0 row12\" >12</th>\n",
              "      <td id=\"T_7ec62_row12_col0\" class=\"data row12 col0\" >0</td>\n",
              "      <td id=\"T_7ec62_row12_col1\" class=\"data row12 col1\" >0</td>\n",
              "      <td id=\"T_7ec62_row12_col2\" class=\"data row12 col2\" >0</td>\n",
              "      <td id=\"T_7ec62_row12_col3\" class=\"data row12 col3\" >0</td>\n",
              "      <td id=\"T_7ec62_row12_col4\" class=\"data row12 col4\" >0</td>\n",
              "      <td id=\"T_7ec62_row12_col5\" class=\"data row12 col5\" >0</td>\n",
              "      <td id=\"T_7ec62_row12_col6\" class=\"data row12 col6\" >0</td>\n",
              "      <td id=\"T_7ec62_row12_col7\" class=\"data row12 col7\" >0</td>\n",
              "      <td id=\"T_7ec62_row12_col8\" class=\"data row12 col8\" >0</td>\n",
              "      <td id=\"T_7ec62_row12_col9\" class=\"data row12 col9\" >15</td>\n",
              "      <td id=\"T_7ec62_row12_col10\" class=\"data row12 col10\" >252</td>\n",
              "      <td id=\"T_7ec62_row12_col11\" class=\"data row12 col11\" >252</td>\n",
              "      <td id=\"T_7ec62_row12_col12\" class=\"data row12 col12\" >74</td>\n",
              "      <td id=\"T_7ec62_row12_col13\" class=\"data row12 col13\" >0</td>\n",
              "      <td id=\"T_7ec62_row12_col14\" class=\"data row12 col14\" >0</td>\n",
              "    </tr>\n",
              "    <tr>\n",
              "      <th id=\"T_7ec62_level0_row13\" class=\"row_heading level0 row13\" >13</th>\n",
              "      <td id=\"T_7ec62_row13_col0\" class=\"data row13 col0\" >0</td>\n",
              "      <td id=\"T_7ec62_row13_col1\" class=\"data row13 col1\" >0</td>\n",
              "      <td id=\"T_7ec62_row13_col2\" class=\"data row13 col2\" >0</td>\n",
              "      <td id=\"T_7ec62_row13_col3\" class=\"data row13 col3\" >0</td>\n",
              "      <td id=\"T_7ec62_row13_col4\" class=\"data row13 col4\" >0</td>\n",
              "      <td id=\"T_7ec62_row13_col5\" class=\"data row13 col5\" >0</td>\n",
              "      <td id=\"T_7ec62_row13_col6\" class=\"data row13 col6\" >0</td>\n",
              "      <td id=\"T_7ec62_row13_col7\" class=\"data row13 col7\" >0</td>\n",
              "      <td id=\"T_7ec62_row13_col8\" class=\"data row13 col8\" >0</td>\n",
              "      <td id=\"T_7ec62_row13_col9\" class=\"data row13 col9\" >86</td>\n",
              "      <td id=\"T_7ec62_row13_col10\" class=\"data row13 col10\" >252</td>\n",
              "      <td id=\"T_7ec62_row13_col11\" class=\"data row13 col11\" >252</td>\n",
              "      <td id=\"T_7ec62_row13_col12\" class=\"data row13 col12\" >74</td>\n",
              "      <td id=\"T_7ec62_row13_col13\" class=\"data row13 col13\" >0</td>\n",
              "      <td id=\"T_7ec62_row13_col14\" class=\"data row13 col14\" >0</td>\n",
              "    </tr>\n",
              "    <tr>\n",
              "      <th id=\"T_7ec62_level0_row14\" class=\"row_heading level0 row14\" >14</th>\n",
              "      <td id=\"T_7ec62_row14_col0\" class=\"data row14 col0\" >75</td>\n",
              "      <td id=\"T_7ec62_row14_col1\" class=\"data row14 col1\" >9</td>\n",
              "      <td id=\"T_7ec62_row14_col2\" class=\"data row14 col2\" >0</td>\n",
              "      <td id=\"T_7ec62_row14_col3\" class=\"data row14 col3\" >0</td>\n",
              "      <td id=\"T_7ec62_row14_col4\" class=\"data row14 col4\" >0</td>\n",
              "      <td id=\"T_7ec62_row14_col5\" class=\"data row14 col5\" >0</td>\n",
              "      <td id=\"T_7ec62_row14_col6\" class=\"data row14 col6\" >0</td>\n",
              "      <td id=\"T_7ec62_row14_col7\" class=\"data row14 col7\" >0</td>\n",
              "      <td id=\"T_7ec62_row14_col8\" class=\"data row14 col8\" >98</td>\n",
              "      <td id=\"T_7ec62_row14_col9\" class=\"data row14 col9\" >242</td>\n",
              "      <td id=\"T_7ec62_row14_col10\" class=\"data row14 col10\" >252</td>\n",
              "      <td id=\"T_7ec62_row14_col11\" class=\"data row14 col11\" >252</td>\n",
              "      <td id=\"T_7ec62_row14_col12\" class=\"data row14 col12\" >74</td>\n",
              "      <td id=\"T_7ec62_row14_col13\" class=\"data row14 col13\" >0</td>\n",
              "      <td id=\"T_7ec62_row14_col14\" class=\"data row14 col14\" >0</td>\n",
              "    </tr>\n",
              "    <tr>\n",
              "      <th id=\"T_7ec62_level0_row15\" class=\"row_heading level0 row15\" >15</th>\n",
              "      <td id=\"T_7ec62_row15_col0\" class=\"data row15 col0\" >252</td>\n",
              "      <td id=\"T_7ec62_row15_col1\" class=\"data row15 col1\" >29</td>\n",
              "      <td id=\"T_7ec62_row15_col2\" class=\"data row15 col2\" >0</td>\n",
              "      <td id=\"T_7ec62_row15_col3\" class=\"data row15 col3\" >0</td>\n",
              "      <td id=\"T_7ec62_row15_col4\" class=\"data row15 col4\" >0</td>\n",
              "      <td id=\"T_7ec62_row15_col5\" class=\"data row15 col5\" >0</td>\n",
              "      <td id=\"T_7ec62_row15_col6\" class=\"data row15 col6\" >18</td>\n",
              "      <td id=\"T_7ec62_row15_col7\" class=\"data row15 col7\" >92</td>\n",
              "      <td id=\"T_7ec62_row15_col8\" class=\"data row15 col8\" >239</td>\n",
              "      <td id=\"T_7ec62_row15_col9\" class=\"data row15 col9\" >252</td>\n",
              "      <td id=\"T_7ec62_row15_col10\" class=\"data row15 col10\" >252</td>\n",
              "      <td id=\"T_7ec62_row15_col11\" class=\"data row15 col11\" >243</td>\n",
              "      <td id=\"T_7ec62_row15_col12\" class=\"data row15 col12\" >65</td>\n",
              "      <td id=\"T_7ec62_row15_col13\" class=\"data row15 col13\" >0</td>\n",
              "      <td id=\"T_7ec62_row15_col14\" class=\"data row15 col14\" >0</td>\n",
              "    </tr>\n",
              "    <tr>\n",
              "      <th id=\"T_7ec62_level0_row16\" class=\"row_heading level0 row16\" >16</th>\n",
              "      <td id=\"T_7ec62_row16_col0\" class=\"data row16 col0\" >252</td>\n",
              "      <td id=\"T_7ec62_row16_col1\" class=\"data row16 col1\" >147</td>\n",
              "      <td id=\"T_7ec62_row16_col2\" class=\"data row16 col2\" >134</td>\n",
              "      <td id=\"T_7ec62_row16_col3\" class=\"data row16 col3\" >134</td>\n",
              "      <td id=\"T_7ec62_row16_col4\" class=\"data row16 col4\" >134</td>\n",
              "      <td id=\"T_7ec62_row16_col5\" class=\"data row16 col5\" >134</td>\n",
              "      <td id=\"T_7ec62_row16_col6\" class=\"data row16 col6\" >203</td>\n",
              "      <td id=\"T_7ec62_row16_col7\" class=\"data row16 col7\" >253</td>\n",
              "      <td id=\"T_7ec62_row16_col8\" class=\"data row16 col8\" >252</td>\n",
              "      <td id=\"T_7ec62_row16_col9\" class=\"data row16 col9\" >252</td>\n",
              "      <td id=\"T_7ec62_row16_col10\" class=\"data row16 col10\" >188</td>\n",
              "      <td id=\"T_7ec62_row16_col11\" class=\"data row16 col11\" >83</td>\n",
              "      <td id=\"T_7ec62_row16_col12\" class=\"data row16 col12\" >0</td>\n",
              "      <td id=\"T_7ec62_row16_col13\" class=\"data row16 col13\" >0</td>\n",
              "      <td id=\"T_7ec62_row16_col14\" class=\"data row16 col14\" >0</td>\n",
              "    </tr>\n",
              "    <tr>\n",
              "      <th id=\"T_7ec62_level0_row17\" class=\"row_heading level0 row17\" >17</th>\n",
              "      <td id=\"T_7ec62_row17_col0\" class=\"data row17 col0\" >252</td>\n",
              "      <td id=\"T_7ec62_row17_col1\" class=\"data row17 col1\" >252</td>\n",
              "      <td id=\"T_7ec62_row17_col2\" class=\"data row17 col2\" >252</td>\n",
              "      <td id=\"T_7ec62_row17_col3\" class=\"data row17 col3\" >252</td>\n",
              "      <td id=\"T_7ec62_row17_col4\" class=\"data row17 col4\" >252</td>\n",
              "      <td id=\"T_7ec62_row17_col5\" class=\"data row17 col5\" >252</td>\n",
              "      <td id=\"T_7ec62_row17_col6\" class=\"data row17 col6\" >252</td>\n",
              "      <td id=\"T_7ec62_row17_col7\" class=\"data row17 col7\" >253</td>\n",
              "      <td id=\"T_7ec62_row17_col8\" class=\"data row17 col8\" >230</td>\n",
              "      <td id=\"T_7ec62_row17_col9\" class=\"data row17 col9\" >153</td>\n",
              "      <td id=\"T_7ec62_row17_col10\" class=\"data row17 col10\" >8</td>\n",
              "      <td id=\"T_7ec62_row17_col11\" class=\"data row17 col11\" >0</td>\n",
              "      <td id=\"T_7ec62_row17_col12\" class=\"data row17 col12\" >0</td>\n",
              "      <td id=\"T_7ec62_row17_col13\" class=\"data row17 col13\" >0</td>\n",
              "      <td id=\"T_7ec62_row17_col14\" class=\"data row17 col14\" >0</td>\n",
              "    </tr>\n",
              "    <tr>\n",
              "      <th id=\"T_7ec62_level0_row18\" class=\"row_heading level0 row18\" >18</th>\n",
              "      <td id=\"T_7ec62_row18_col0\" class=\"data row18 col0\" >252</td>\n",
              "      <td id=\"T_7ec62_row18_col1\" class=\"data row18 col1\" >252</td>\n",
              "      <td id=\"T_7ec62_row18_col2\" class=\"data row18 col2\" >252</td>\n",
              "      <td id=\"T_7ec62_row18_col3\" class=\"data row18 col3\" >252</td>\n",
              "      <td id=\"T_7ec62_row18_col4\" class=\"data row18 col4\" >252</td>\n",
              "      <td id=\"T_7ec62_row18_col5\" class=\"data row18 col5\" >217</td>\n",
              "      <td id=\"T_7ec62_row18_col6\" class=\"data row18 col6\" >207</td>\n",
              "      <td id=\"T_7ec62_row18_col7\" class=\"data row18 col7\" >146</td>\n",
              "      <td id=\"T_7ec62_row18_col8\" class=\"data row18 col8\" >45</td>\n",
              "      <td id=\"T_7ec62_row18_col9\" class=\"data row18 col9\" >0</td>\n",
              "      <td id=\"T_7ec62_row18_col10\" class=\"data row18 col10\" >0</td>\n",
              "      <td id=\"T_7ec62_row18_col11\" class=\"data row18 col11\" >0</td>\n",
              "      <td id=\"T_7ec62_row18_col12\" class=\"data row18 col12\" >0</td>\n",
              "      <td id=\"T_7ec62_row18_col13\" class=\"data row18 col13\" >0</td>\n",
              "      <td id=\"T_7ec62_row18_col14\" class=\"data row18 col14\" >0</td>\n",
              "    </tr>\n",
              "  </tbody>\n",
              "</table>\n"
            ]
          },
          "metadata": {},
          "execution_count": 59
        }
      ]
    },
    {
      "cell_type": "markdown",
      "source": [
        "<font color = 'dodgerblue'> - In the matrix below we have flipped color just for illustartion (We are using 0 for white instead of black)."
      ],
      "metadata": {
        "id": "knUrdtmrlFGW"
      }
    },
    {
      "cell_type": "code",
      "source": [
        "df.style.set_properties(**{'font-size':'8pt'}).background_gradient('Greys')"
      ],
      "metadata": {
        "colab": {
          "base_uri": "https://localhost:8080/",
          "height": 645
        },
        "id": "zjZQ-JVvCGoW",
        "outputId": "43974593-28eb-44ce-b444-6561784a2f19"
      },
      "execution_count": null,
      "outputs": [
        {
          "output_type": "execute_result",
          "data": {
            "text/plain": [
              "<pandas.io.formats.style.Styler at 0x7ff78b5af210>"
            ],
            "text/html": [
              "<style type=\"text/css\">\n",
              "#T_52334_row0_col0, #T_52334_row0_col1, #T_52334_row0_col2, #T_52334_row0_col3, #T_52334_row1_col0, #T_52334_row1_col1, #T_52334_row2_col0, #T_52334_row2_col1, #T_52334_row3_col0, #T_52334_row3_col1, #T_52334_row4_col0, #T_52334_row4_col1, #T_52334_row4_col6, #T_52334_row4_col7, #T_52334_row4_col8, #T_52334_row4_col9, #T_52334_row5_col0, #T_52334_row5_col1, #T_52334_row5_col2, #T_52334_row5_col3, #T_52334_row5_col4, #T_52334_row5_col5, #T_52334_row5_col6, #T_52334_row5_col7, #T_52334_row5_col8, #T_52334_row5_col9, #T_52334_row6_col0, #T_52334_row6_col1, #T_52334_row6_col2, #T_52334_row6_col3, #T_52334_row6_col4, #T_52334_row6_col5, #T_52334_row6_col6, #T_52334_row6_col7, #T_52334_row6_col8, #T_52334_row7_col0, #T_52334_row7_col1, #T_52334_row7_col2, #T_52334_row7_col3, #T_52334_row7_col4, #T_52334_row7_col5, #T_52334_row7_col6, #T_52334_row8_col0, #T_52334_row8_col1, #T_52334_row8_col14, #T_52334_row9_col0, #T_52334_row9_col12, #T_52334_row9_col13, #T_52334_row9_col14, #T_52334_row10_col0, #T_52334_row10_col13, #T_52334_row10_col14, #T_52334_row11_col0, #T_52334_row11_col1, #T_52334_row11_col13, #T_52334_row11_col14, #T_52334_row12_col0, #T_52334_row12_col1, #T_52334_row12_col2, #T_52334_row12_col3, #T_52334_row12_col4, #T_52334_row12_col5, #T_52334_row12_col6, #T_52334_row12_col7, #T_52334_row12_col8, #T_52334_row12_col13, #T_52334_row12_col14, #T_52334_row13_col0, #T_52334_row13_col1, #T_52334_row13_col2, #T_52334_row13_col3, #T_52334_row13_col4, #T_52334_row13_col5, #T_52334_row13_col6, #T_52334_row13_col7, #T_52334_row13_col8, #T_52334_row13_col13, #T_52334_row13_col14, #T_52334_row14_col2, #T_52334_row14_col3, #T_52334_row14_col4, #T_52334_row14_col5, #T_52334_row14_col6, #T_52334_row14_col7, #T_52334_row14_col13, #T_52334_row14_col14, #T_52334_row15_col2, #T_52334_row15_col3, #T_52334_row15_col4, #T_52334_row15_col5, #T_52334_row15_col13, #T_52334_row15_col14, #T_52334_row16_col12, #T_52334_row16_col13, #T_52334_row16_col14, #T_52334_row17_col11, #T_52334_row17_col12, #T_52334_row17_col13, #T_52334_row17_col14, #T_52334_row18_col9, #T_52334_row18_col10, #T_52334_row18_col11, #T_52334_row18_col12, #T_52334_row18_col13, #T_52334_row18_col14 {\n",
              "  font-size: 8pt;\n",
              "  background-color: #ffffff;\n",
              "  color: #000000;\n",
              "}\n",
              "#T_52334_row0_col4 {\n",
              "  font-size: 8pt;\n",
              "  background-color: #ececec;\n",
              "  color: #000000;\n",
              "}\n",
              "#T_52334_row0_col5, #T_52334_row1_col2 {\n",
              "  font-size: 8pt;\n",
              "  background-color: #e8e8e8;\n",
              "  color: #000000;\n",
              "}\n",
              "#T_52334_row0_col6 {\n",
              "  font-size: 8pt;\n",
              "  background-color: #b0b0b0;\n",
              "  color: #000000;\n",
              "}\n",
              "#T_52334_row0_col7, #T_52334_row0_col8, #T_52334_row0_col9, #T_52334_row0_col10, #T_52334_row0_col11, #T_52334_row0_col12, #T_52334_row1_col13, #T_52334_row2_col13, #T_52334_row2_col14, #T_52334_row3_col13, #T_52334_row3_col14, #T_52334_row4_col13, #T_52334_row5_col13, #T_52334_row6_col13, #T_52334_row10_col3, #T_52334_row10_col4, #T_52334_row10_col5, #T_52334_row10_col6, #T_52334_row10_col7, #T_52334_row10_col8, #T_52334_row10_col9, #T_52334_row10_col10, #T_52334_row10_col11, #T_52334_row15_col0, #T_52334_row16_col0, #T_52334_row17_col0, #T_52334_row17_col1, #T_52334_row17_col2, #T_52334_row18_col0, #T_52334_row18_col1, #T_52334_row18_col2 {\n",
              "  font-size: 8pt;\n",
              "  background-color: #000000;\n",
              "  color: #f1f1f1;\n",
              "}\n",
              "#T_52334_row0_col13 {\n",
              "  font-size: 8pt;\n",
              "  background-color: #626262;\n",
              "  color: #f1f1f1;\n",
              "}\n",
              "#T_52334_row0_col14 {\n",
              "  font-size: 8pt;\n",
              "  background-color: #fcfcfc;\n",
              "  color: #000000;\n",
              "}\n",
              "#T_52334_row1_col3 {\n",
              "  font-size: 8pt;\n",
              "  background-color: #888888;\n",
              "  color: #f1f1f1;\n",
              "}\n",
              "#T_52334_row1_col4, #T_52334_row10_col2 {\n",
              "  font-size: 8pt;\n",
              "  background-color: #222222;\n",
              "  color: #f1f1f1;\n",
              "}\n",
              "#T_52334_row1_col5, #T_52334_row4_col11 {\n",
              "  font-size: 8pt;\n",
              "  background-color: #1f1f1f;\n",
              "  color: #f1f1f1;\n",
              "}\n",
              "#T_52334_row1_col6, #T_52334_row1_col8, #T_52334_row1_col9, #T_52334_row1_col10, #T_52334_row1_col11, #T_52334_row1_col12, #T_52334_row2_col3, #T_52334_row2_col4, #T_52334_row2_col5, #T_52334_row2_col6, #T_52334_row2_col8, #T_52334_row2_col9, #T_52334_row2_col10, #T_52334_row2_col11, #T_52334_row2_col12, #T_52334_row3_col3, #T_52334_row3_col4, #T_52334_row3_col11, #T_52334_row3_col12, #T_52334_row4_col12, #T_52334_row5_col12, #T_52334_row6_col11, #T_52334_row6_col12, #T_52334_row7_col10, #T_52334_row7_col11, #T_52334_row7_col12, #T_52334_row8_col8, #T_52334_row8_col9, #T_52334_row8_col10, #T_52334_row9_col3, #T_52334_row9_col4, #T_52334_row9_col5, #T_52334_row9_col6, #T_52334_row9_col8, #T_52334_row9_col9, #T_52334_row9_col10, #T_52334_row11_col10, #T_52334_row11_col11, #T_52334_row12_col10, #T_52334_row12_col11, #T_52334_row13_col10, #T_52334_row13_col11, #T_52334_row14_col10, #T_52334_row14_col11, #T_52334_row15_col9, #T_52334_row15_col10, #T_52334_row16_col8, #T_52334_row16_col9, #T_52334_row17_col3, #T_52334_row17_col4, #T_52334_row17_col5, #T_52334_row17_col6, #T_52334_row18_col3, #T_52334_row18_col4 {\n",
              "  font-size: 8pt;\n",
              "  background-color: #010101;\n",
              "  color: #f1f1f1;\n",
              "}\n",
              "#T_52334_row1_col7, #T_52334_row2_col7, #T_52334_row8_col7, #T_52334_row9_col7, #T_52334_row16_col7, #T_52334_row17_col7 {\n",
              "  font-size: 8pt;\n",
              "  background-color: #020202;\n",
              "  color: #f1f1f1;\n",
              "}\n",
              "#T_52334_row1_col14 {\n",
              "  font-size: 8pt;\n",
              "  background-color: #727272;\n",
              "  color: #f1f1f1;\n",
              "}\n",
              "#T_52334_row2_col2 {\n",
              "  font-size: 8pt;\n",
              "  background-color: #5e5e5e;\n",
              "  color: #f1f1f1;\n",
              "}\n",
              "#T_52334_row3_col2 {\n",
              "  font-size: 8pt;\n",
              "  background-color: #ababab;\n",
              "  color: #000000;\n",
              "}\n",
              "#T_52334_row3_col5, #T_52334_row17_col8 {\n",
              "  font-size: 8pt;\n",
              "  background-color: #1b1b1b;\n",
              "  color: #f1f1f1;\n",
              "}\n",
              "#T_52334_row3_col6, #T_52334_row3_col7, #T_52334_row3_col8, #T_52334_row3_col9 {\n",
              "  font-size: 8pt;\n",
              "  background-color: #909090;\n",
              "  color: #f1f1f1;\n",
              "}\n",
              "#T_52334_row3_col10, #T_52334_row6_col10 {\n",
              "  font-size: 8pt;\n",
              "  background-color: #525252;\n",
              "  color: #f1f1f1;\n",
              "}\n",
              "#T_52334_row4_col2 {\n",
              "  font-size: 8pt;\n",
              "  background-color: #fdfdfd;\n",
              "  color: #000000;\n",
              "}\n",
              "#T_52334_row4_col3, #T_52334_row4_col4, #T_52334_row15_col1 {\n",
              "  font-size: 8pt;\n",
              "  background-color: #f1f1f1;\n",
              "  color: #000000;\n",
              "}\n",
              "#T_52334_row4_col5 {\n",
              "  font-size: 8pt;\n",
              "  background-color: #f4f4f4;\n",
              "  color: #000000;\n",
              "}\n",
              "#T_52334_row4_col10, #T_52334_row6_col14, #T_52334_row12_col9 {\n",
              "  font-size: 8pt;\n",
              "  background-color: #f8f8f8;\n",
              "  color: #000000;\n",
              "}\n",
              "#T_52334_row4_col14 {\n",
              "  font-size: 8pt;\n",
              "  background-color: #646464;\n",
              "  color: #f1f1f1;\n",
              "}\n",
              "#T_52334_row5_col10, #T_52334_row13_col9 {\n",
              "  font-size: 8pt;\n",
              "  background-color: #c5c5c5;\n",
              "  color: #000000;\n",
              "}\n",
              "#T_52334_row5_col11, #T_52334_row15_col11 {\n",
              "  font-size: 8pt;\n",
              "  background-color: #0c0c0c;\n",
              "  color: #f1f1f1;\n",
              "}\n",
              "#T_52334_row5_col14, #T_52334_row18_col7 {\n",
              "  font-size: 8pt;\n",
              "  background-color: #828282;\n",
              "  color: #f1f1f1;\n",
              "}\n",
              "#T_52334_row6_col9 {\n",
              "  font-size: 8pt;\n",
              "  background-color: #c3c3c3;\n",
              "  color: #000000;\n",
              "}\n",
              "#T_52334_row7_col7 {\n",
              "  font-size: 8pt;\n",
              "  background-color: #c1c1c1;\n",
              "  color: #000000;\n",
              "}\n",
              "#T_52334_row7_col8 {\n",
              "  font-size: 8pt;\n",
              "  background-color: #323232;\n",
              "  color: #f1f1f1;\n",
              "}\n",
              "#T_52334_row7_col9 {\n",
              "  font-size: 8pt;\n",
              "  background-color: #070707;\n",
              "  color: #f1f1f1;\n",
              "}\n",
              "#T_52334_row7_col13 {\n",
              "  font-size: 8pt;\n",
              "  background-color: #3c3c3c;\n",
              "  color: #f1f1f1;\n",
              "}\n",
              "#T_52334_row7_col14, #T_52334_row14_col1, #T_52334_row17_col10 {\n",
              "  font-size: 8pt;\n",
              "  background-color: #fbfbfb;\n",
              "  color: #000000;\n",
              "}\n",
              "#T_52334_row8_col2, #T_52334_row11_col2 {\n",
              "  font-size: 8pt;\n",
              "  background-color: #f0f0f0;\n",
              "  color: #000000;\n",
              "}\n",
              "#T_52334_row8_col3 {\n",
              "  font-size: 8pt;\n",
              "  background-color: #989898;\n",
              "  color: #f1f1f1;\n",
              "}\n",
              "#T_52334_row8_col4, #T_52334_row8_col5, #T_52334_row8_col6 {\n",
              "  font-size: 8pt;\n",
              "  background-color: #4d4d4d;\n",
              "  color: #f1f1f1;\n",
              "}\n",
              "#T_52334_row8_col11 {\n",
              "  font-size: 8pt;\n",
              "  background-color: #111111;\n",
              "  color: #f1f1f1;\n",
              "}\n",
              "#T_52334_row8_col12 {\n",
              "  font-size: 8pt;\n",
              "  background-color: #b4b4b4;\n",
              "  color: #000000;\n",
              "}\n",
              "#T_52334_row8_col13 {\n",
              "  font-size: 8pt;\n",
              "  background-color: #f2f2f2;\n",
              "  color: #000000;\n",
              "}\n",
              "#T_52334_row9_col1, #T_52334_row10_col1, #T_52334_row11_col5, #T_52334_row11_col6, #T_52334_row11_col7, #T_52334_row11_col8, #T_52334_row18_col8 {\n",
              "  font-size: 8pt;\n",
              "  background-color: #e7e7e7;\n",
              "  color: #000000;\n",
              "}\n",
              "#T_52334_row9_col2 {\n",
              "  font-size: 8pt;\n",
              "  background-color: #232323;\n",
              "  color: #f1f1f1;\n",
              "}\n",
              "#T_52334_row9_col11 {\n",
              "  font-size: 8pt;\n",
              "  background-color: #5f5f5f;\n",
              "  color: #f1f1f1;\n",
              "}\n",
              "#T_52334_row10_col12, #T_52334_row11_col12, #T_52334_row12_col12, #T_52334_row13_col12, #T_52334_row14_col12 {\n",
              "  font-size: 8pt;\n",
              "  background-color: #d0d0d0;\n",
              "  color: #000000;\n",
              "}\n",
              "#T_52334_row11_col3 {\n",
              "  font-size: 8pt;\n",
              "  background-color: #9a9a9a;\n",
              "  color: #f1f1f1;\n",
              "}\n",
              "#T_52334_row11_col4 {\n",
              "  font-size: 8pt;\n",
              "  background-color: #e1e1e1;\n",
              "  color: #000000;\n",
              "}\n",
              "#T_52334_row11_col9 {\n",
              "  font-size: 8pt;\n",
              "  background-color: #848484;\n",
              "  color: #f1f1f1;\n",
              "}\n",
              "#T_52334_row14_col0 {\n",
              "  font-size: 8pt;\n",
              "  background-color: #cecece;\n",
              "  color: #000000;\n",
              "}\n",
              "#T_52334_row14_col8 {\n",
              "  font-size: 8pt;\n",
              "  background-color: #b9b9b9;\n",
              "  color: #000000;\n",
              "}\n",
              "#T_52334_row14_col9 {\n",
              "  font-size: 8pt;\n",
              "  background-color: #0d0d0d;\n",
              "  color: #f1f1f1;\n",
              "}\n",
              "#T_52334_row15_col6 {\n",
              "  font-size: 8pt;\n",
              "  background-color: #f7f7f7;\n",
              "  color: #000000;\n",
              "}\n",
              "#T_52334_row15_col7 {\n",
              "  font-size: 8pt;\n",
              "  background-color: #c0c0c0;\n",
              "  color: #000000;\n",
              "}\n",
              "#T_52334_row15_col8 {\n",
              "  font-size: 8pt;\n",
              "  background-color: #101010;\n",
              "  color: #f1f1f1;\n",
              "}\n",
              "#T_52334_row15_col12 {\n",
              "  font-size: 8pt;\n",
              "  background-color: #d8d8d8;\n",
              "  color: #000000;\n",
              "}\n",
              "#T_52334_row16_col1 {\n",
              "  font-size: 8pt;\n",
              "  background-color: #7e7e7e;\n",
              "  color: #f1f1f1;\n",
              "}\n",
              "#T_52334_row16_col2 {\n",
              "  font-size: 8pt;\n",
              "  background-color: #8d8d8d;\n",
              "  color: #f1f1f1;\n",
              "}\n",
              "#T_52334_row16_col3, #T_52334_row16_col4, #T_52334_row16_col5 {\n",
              "  font-size: 8pt;\n",
              "  background-color: #8e8e8e;\n",
              "  color: #f1f1f1;\n",
              "}\n",
              "#T_52334_row16_col6 {\n",
              "  font-size: 8pt;\n",
              "  background-color: #3f3f3f;\n",
              "  color: #f1f1f1;\n",
              "}\n",
              "#T_52334_row16_col10 {\n",
              "  font-size: 8pt;\n",
              "  background-color: #535353;\n",
              "  color: #f1f1f1;\n",
              "}\n",
              "#T_52334_row16_col11 {\n",
              "  font-size: 8pt;\n",
              "  background-color: #c8c8c8;\n",
              "  color: #000000;\n",
              "}\n",
              "#T_52334_row17_col9 {\n",
              "  font-size: 8pt;\n",
              "  background-color: #797979;\n",
              "  color: #f1f1f1;\n",
              "}\n",
              "#T_52334_row18_col5 {\n",
              "  font-size: 8pt;\n",
              "  background-color: #2b2b2b;\n",
              "  color: #f1f1f1;\n",
              "}\n",
              "#T_52334_row18_col6 {\n",
              "  font-size: 8pt;\n",
              "  background-color: #393939;\n",
              "  color: #f1f1f1;\n",
              "}\n",
              "</style>\n",
              "<table id=\"T_52334_\" class=\"dataframe\">\n",
              "  <thead>\n",
              "    <tr>\n",
              "      <th class=\"blank level0\" >&nbsp;</th>\n",
              "      <th class=\"col_heading level0 col0\" >0</th>\n",
              "      <th class=\"col_heading level0 col1\" >1</th>\n",
              "      <th class=\"col_heading level0 col2\" >2</th>\n",
              "      <th class=\"col_heading level0 col3\" >3</th>\n",
              "      <th class=\"col_heading level0 col4\" >4</th>\n",
              "      <th class=\"col_heading level0 col5\" >5</th>\n",
              "      <th class=\"col_heading level0 col6\" >6</th>\n",
              "      <th class=\"col_heading level0 col7\" >7</th>\n",
              "      <th class=\"col_heading level0 col8\" >8</th>\n",
              "      <th class=\"col_heading level0 col9\" >9</th>\n",
              "      <th class=\"col_heading level0 col10\" >10</th>\n",
              "      <th class=\"col_heading level0 col11\" >11</th>\n",
              "      <th class=\"col_heading level0 col12\" >12</th>\n",
              "      <th class=\"col_heading level0 col13\" >13</th>\n",
              "      <th class=\"col_heading level0 col14\" >14</th>\n",
              "    </tr>\n",
              "  </thead>\n",
              "  <tbody>\n",
              "    <tr>\n",
              "      <th id=\"T_52334_level0_row0\" class=\"row_heading level0 row0\" >0</th>\n",
              "      <td id=\"T_52334_row0_col0\" class=\"data row0 col0\" >0</td>\n",
              "      <td id=\"T_52334_row0_col1\" class=\"data row0 col1\" >0</td>\n",
              "      <td id=\"T_52334_row0_col2\" class=\"data row0 col2\" >0</td>\n",
              "      <td id=\"T_52334_row0_col3\" class=\"data row0 col3\" >0</td>\n",
              "      <td id=\"T_52334_row0_col4\" class=\"data row0 col4\" >38</td>\n",
              "      <td id=\"T_52334_row0_col5\" class=\"data row0 col5\" >43</td>\n",
              "      <td id=\"T_52334_row0_col6\" class=\"data row0 col6\" >105</td>\n",
              "      <td id=\"T_52334_row0_col7\" class=\"data row0 col7\" >255</td>\n",
              "      <td id=\"T_52334_row0_col8\" class=\"data row0 col8\" >253</td>\n",
              "      <td id=\"T_52334_row0_col9\" class=\"data row0 col9\" >253</td>\n",
              "      <td id=\"T_52334_row0_col10\" class=\"data row0 col10\" >253</td>\n",
              "      <td id=\"T_52334_row0_col11\" class=\"data row0 col11\" >253</td>\n",
              "      <td id=\"T_52334_row0_col12\" class=\"data row0 col12\" >253</td>\n",
              "      <td id=\"T_52334_row0_col13\" class=\"data row0 col13\" >174</td>\n",
              "      <td id=\"T_52334_row0_col14\" class=\"data row0 col14\" >6</td>\n",
              "    </tr>\n",
              "    <tr>\n",
              "      <th id=\"T_52334_level0_row1\" class=\"row_heading level0 row1\" >1</th>\n",
              "      <td id=\"T_52334_row1_col0\" class=\"data row1 col0\" >0</td>\n",
              "      <td id=\"T_52334_row1_col1\" class=\"data row1 col1\" >0</td>\n",
              "      <td id=\"T_52334_row1_col2\" class=\"data row1 col2\" >43</td>\n",
              "      <td id=\"T_52334_row1_col3\" class=\"data row1 col3\" >139</td>\n",
              "      <td id=\"T_52334_row1_col4\" class=\"data row1 col4\" >224</td>\n",
              "      <td id=\"T_52334_row1_col5\" class=\"data row1 col5\" >226</td>\n",
              "      <td id=\"T_52334_row1_col6\" class=\"data row1 col6\" >252</td>\n",
              "      <td id=\"T_52334_row1_col7\" class=\"data row1 col7\" >253</td>\n",
              "      <td id=\"T_52334_row1_col8\" class=\"data row1 col8\" >252</td>\n",
              "      <td id=\"T_52334_row1_col9\" class=\"data row1 col9\" >252</td>\n",
              "      <td id=\"T_52334_row1_col10\" class=\"data row1 col10\" >252</td>\n",
              "      <td id=\"T_52334_row1_col11\" class=\"data row1 col11\" >252</td>\n",
              "      <td id=\"T_52334_row1_col12\" class=\"data row1 col12\" >252</td>\n",
              "      <td id=\"T_52334_row1_col13\" class=\"data row1 col13\" >252</td>\n",
              "      <td id=\"T_52334_row1_col14\" class=\"data row1 col14\" >158</td>\n",
              "    </tr>\n",
              "    <tr>\n",
              "      <th id=\"T_52334_level0_row2\" class=\"row_heading level0 row2\" >2</th>\n",
              "      <td id=\"T_52334_row2_col0\" class=\"data row2 col0\" >0</td>\n",
              "      <td id=\"T_52334_row2_col1\" class=\"data row2 col1\" >0</td>\n",
              "      <td id=\"T_52334_row2_col2\" class=\"data row2 col2\" >178</td>\n",
              "      <td id=\"T_52334_row2_col3\" class=\"data row2 col3\" >252</td>\n",
              "      <td id=\"T_52334_row2_col4\" class=\"data row2 col4\" >252</td>\n",
              "      <td id=\"T_52334_row2_col5\" class=\"data row2 col5\" >252</td>\n",
              "      <td id=\"T_52334_row2_col6\" class=\"data row2 col6\" >252</td>\n",
              "      <td id=\"T_52334_row2_col7\" class=\"data row2 col7\" >253</td>\n",
              "      <td id=\"T_52334_row2_col8\" class=\"data row2 col8\" >252</td>\n",
              "      <td id=\"T_52334_row2_col9\" class=\"data row2 col9\" >252</td>\n",
              "      <td id=\"T_52334_row2_col10\" class=\"data row2 col10\" >252</td>\n",
              "      <td id=\"T_52334_row2_col11\" class=\"data row2 col11\" >252</td>\n",
              "      <td id=\"T_52334_row2_col12\" class=\"data row2 col12\" >252</td>\n",
              "      <td id=\"T_52334_row2_col13\" class=\"data row2 col13\" >252</td>\n",
              "      <td id=\"T_52334_row2_col14\" class=\"data row2 col14\" >252</td>\n",
              "    </tr>\n",
              "    <tr>\n",
              "      <th id=\"T_52334_level0_row3\" class=\"row_heading level0 row3\" >3</th>\n",
              "      <td id=\"T_52334_row3_col0\" class=\"data row3 col0\" >0</td>\n",
              "      <td id=\"T_52334_row3_col1\" class=\"data row3 col1\" >0</td>\n",
              "      <td id=\"T_52334_row3_col2\" class=\"data row3 col2\" >109</td>\n",
              "      <td id=\"T_52334_row3_col3\" class=\"data row3 col3\" >252</td>\n",
              "      <td id=\"T_52334_row3_col4\" class=\"data row3 col4\" >252</td>\n",
              "      <td id=\"T_52334_row3_col5\" class=\"data row3 col5\" >230</td>\n",
              "      <td id=\"T_52334_row3_col6\" class=\"data row3 col6\" >132</td>\n",
              "      <td id=\"T_52334_row3_col7\" class=\"data row3 col7\" >133</td>\n",
              "      <td id=\"T_52334_row3_col8\" class=\"data row3 col8\" >132</td>\n",
              "      <td id=\"T_52334_row3_col9\" class=\"data row3 col9\" >132</td>\n",
              "      <td id=\"T_52334_row3_col10\" class=\"data row3 col10\" >189</td>\n",
              "      <td id=\"T_52334_row3_col11\" class=\"data row3 col11\" >252</td>\n",
              "      <td id=\"T_52334_row3_col12\" class=\"data row3 col12\" >252</td>\n",
              "      <td id=\"T_52334_row3_col13\" class=\"data row3 col13\" >252</td>\n",
              "      <td id=\"T_52334_row3_col14\" class=\"data row3 col14\" >252</td>\n",
              "    </tr>\n",
              "    <tr>\n",
              "      <th id=\"T_52334_level0_row4\" class=\"row_heading level0 row4\" >4</th>\n",
              "      <td id=\"T_52334_row4_col0\" class=\"data row4 col0\" >0</td>\n",
              "      <td id=\"T_52334_row4_col1\" class=\"data row4 col1\" >0</td>\n",
              "      <td id=\"T_52334_row4_col2\" class=\"data row4 col2\" >4</td>\n",
              "      <td id=\"T_52334_row4_col3\" class=\"data row4 col3\" >29</td>\n",
              "      <td id=\"T_52334_row4_col4\" class=\"data row4 col4\" >29</td>\n",
              "      <td id=\"T_52334_row4_col5\" class=\"data row4 col5\" >24</td>\n",
              "      <td id=\"T_52334_row4_col6\" class=\"data row4 col6\" >0</td>\n",
              "      <td id=\"T_52334_row4_col7\" class=\"data row4 col7\" >0</td>\n",
              "      <td id=\"T_52334_row4_col8\" class=\"data row4 col8\" >0</td>\n",
              "      <td id=\"T_52334_row4_col9\" class=\"data row4 col9\" >0</td>\n",
              "      <td id=\"T_52334_row4_col10\" class=\"data row4 col10\" >14</td>\n",
              "      <td id=\"T_52334_row4_col11\" class=\"data row4 col11\" >226</td>\n",
              "      <td id=\"T_52334_row4_col12\" class=\"data row4 col12\" >252</td>\n",
              "      <td id=\"T_52334_row4_col13\" class=\"data row4 col13\" >252</td>\n",
              "      <td id=\"T_52334_row4_col14\" class=\"data row4 col14\" >172</td>\n",
              "    </tr>\n",
              "    <tr>\n",
              "      <th id=\"T_52334_level0_row5\" class=\"row_heading level0 row5\" >5</th>\n",
              "      <td id=\"T_52334_row5_col0\" class=\"data row5 col0\" >0</td>\n",
              "      <td id=\"T_52334_row5_col1\" class=\"data row5 col1\" >0</td>\n",
              "      <td id=\"T_52334_row5_col2\" class=\"data row5 col2\" >0</td>\n",
              "      <td id=\"T_52334_row5_col3\" class=\"data row5 col3\" >0</td>\n",
              "      <td id=\"T_52334_row5_col4\" class=\"data row5 col4\" >0</td>\n",
              "      <td id=\"T_52334_row5_col5\" class=\"data row5 col5\" >0</td>\n",
              "      <td id=\"T_52334_row5_col6\" class=\"data row5 col6\" >0</td>\n",
              "      <td id=\"T_52334_row5_col7\" class=\"data row5 col7\" >0</td>\n",
              "      <td id=\"T_52334_row5_col8\" class=\"data row5 col8\" >0</td>\n",
              "      <td id=\"T_52334_row5_col9\" class=\"data row5 col9\" >0</td>\n",
              "      <td id=\"T_52334_row5_col10\" class=\"data row5 col10\" >85</td>\n",
              "      <td id=\"T_52334_row5_col11\" class=\"data row5 col11\" >243</td>\n",
              "      <td id=\"T_52334_row5_col12\" class=\"data row5 col12\" >252</td>\n",
              "      <td id=\"T_52334_row5_col13\" class=\"data row5 col13\" >252</td>\n",
              "      <td id=\"T_52334_row5_col14\" class=\"data row5 col14\" >144</td>\n",
              "    </tr>\n",
              "    <tr>\n",
              "      <th id=\"T_52334_level0_row6\" class=\"row_heading level0 row6\" >6</th>\n",
              "      <td id=\"T_52334_row6_col0\" class=\"data row6 col0\" >0</td>\n",
              "      <td id=\"T_52334_row6_col1\" class=\"data row6 col1\" >0</td>\n",
              "      <td id=\"T_52334_row6_col2\" class=\"data row6 col2\" >0</td>\n",
              "      <td id=\"T_52334_row6_col3\" class=\"data row6 col3\" >0</td>\n",
              "      <td id=\"T_52334_row6_col4\" class=\"data row6 col4\" >0</td>\n",
              "      <td id=\"T_52334_row6_col5\" class=\"data row6 col5\" >0</td>\n",
              "      <td id=\"T_52334_row6_col6\" class=\"data row6 col6\" >0</td>\n",
              "      <td id=\"T_52334_row6_col7\" class=\"data row6 col7\" >0</td>\n",
              "      <td id=\"T_52334_row6_col8\" class=\"data row6 col8\" >0</td>\n",
              "      <td id=\"T_52334_row6_col9\" class=\"data row6 col9\" >88</td>\n",
              "      <td id=\"T_52334_row6_col10\" class=\"data row6 col10\" >189</td>\n",
              "      <td id=\"T_52334_row6_col11\" class=\"data row6 col11\" >252</td>\n",
              "      <td id=\"T_52334_row6_col12\" class=\"data row6 col12\" >252</td>\n",
              "      <td id=\"T_52334_row6_col13\" class=\"data row6 col13\" >252</td>\n",
              "      <td id=\"T_52334_row6_col14\" class=\"data row6 col14\" >14</td>\n",
              "    </tr>\n",
              "    <tr>\n",
              "      <th id=\"T_52334_level0_row7\" class=\"row_heading level0 row7\" >7</th>\n",
              "      <td id=\"T_52334_row7_col0\" class=\"data row7 col0\" >0</td>\n",
              "      <td id=\"T_52334_row7_col1\" class=\"data row7 col1\" >0</td>\n",
              "      <td id=\"T_52334_row7_col2\" class=\"data row7 col2\" >0</td>\n",
              "      <td id=\"T_52334_row7_col3\" class=\"data row7 col3\" >0</td>\n",
              "      <td id=\"T_52334_row7_col4\" class=\"data row7 col4\" >0</td>\n",
              "      <td id=\"T_52334_row7_col5\" class=\"data row7 col5\" >0</td>\n",
              "      <td id=\"T_52334_row7_col6\" class=\"data row7 col6\" >0</td>\n",
              "      <td id=\"T_52334_row7_col7\" class=\"data row7 col7\" >91</td>\n",
              "      <td id=\"T_52334_row7_col8\" class=\"data row7 col8\" >212</td>\n",
              "      <td id=\"T_52334_row7_col9\" class=\"data row7 col9\" >247</td>\n",
              "      <td id=\"T_52334_row7_col10\" class=\"data row7 col10\" >252</td>\n",
              "      <td id=\"T_52334_row7_col11\" class=\"data row7 col11\" >252</td>\n",
              "      <td id=\"T_52334_row7_col12\" class=\"data row7 col12\" >252</td>\n",
              "      <td id=\"T_52334_row7_col13\" class=\"data row7 col13\" >204</td>\n",
              "      <td id=\"T_52334_row7_col14\" class=\"data row7 col14\" >9</td>\n",
              "    </tr>\n",
              "    <tr>\n",
              "      <th id=\"T_52334_level0_row8\" class=\"row_heading level0 row8\" >8</th>\n",
              "      <td id=\"T_52334_row8_col0\" class=\"data row8 col0\" >0</td>\n",
              "      <td id=\"T_52334_row8_col1\" class=\"data row8 col1\" >0</td>\n",
              "      <td id=\"T_52334_row8_col2\" class=\"data row8 col2\" >32</td>\n",
              "      <td id=\"T_52334_row8_col3\" class=\"data row8 col3\" >125</td>\n",
              "      <td id=\"T_52334_row8_col4\" class=\"data row8 col4\" >193</td>\n",
              "      <td id=\"T_52334_row8_col5\" class=\"data row8 col5\" >193</td>\n",
              "      <td id=\"T_52334_row8_col6\" class=\"data row8 col6\" >193</td>\n",
              "      <td id=\"T_52334_row8_col7\" class=\"data row8 col7\" >253</td>\n",
              "      <td id=\"T_52334_row8_col8\" class=\"data row8 col8\" >252</td>\n",
              "      <td id=\"T_52334_row8_col9\" class=\"data row8 col9\" >252</td>\n",
              "      <td id=\"T_52334_row8_col10\" class=\"data row8 col10\" >252</td>\n",
              "      <td id=\"T_52334_row8_col11\" class=\"data row8 col11\" >238</td>\n",
              "      <td id=\"T_52334_row8_col12\" class=\"data row8 col12\" >102</td>\n",
              "      <td id=\"T_52334_row8_col13\" class=\"data row8 col13\" >28</td>\n",
              "      <td id=\"T_52334_row8_col14\" class=\"data row8 col14\" >0</td>\n",
              "    </tr>\n",
              "    <tr>\n",
              "      <th id=\"T_52334_level0_row9\" class=\"row_heading level0 row9\" >9</th>\n",
              "      <td id=\"T_52334_row9_col0\" class=\"data row9 col0\" >0</td>\n",
              "      <td id=\"T_52334_row9_col1\" class=\"data row9 col1\" >45</td>\n",
              "      <td id=\"T_52334_row9_col2\" class=\"data row9 col2\" >222</td>\n",
              "      <td id=\"T_52334_row9_col3\" class=\"data row9 col3\" >252</td>\n",
              "      <td id=\"T_52334_row9_col4\" class=\"data row9 col4\" >252</td>\n",
              "      <td id=\"T_52334_row9_col5\" class=\"data row9 col5\" >252</td>\n",
              "      <td id=\"T_52334_row9_col6\" class=\"data row9 col6\" >252</td>\n",
              "      <td id=\"T_52334_row9_col7\" class=\"data row9 col7\" >253</td>\n",
              "      <td id=\"T_52334_row9_col8\" class=\"data row9 col8\" >252</td>\n",
              "      <td id=\"T_52334_row9_col9\" class=\"data row9 col9\" >252</td>\n",
              "      <td id=\"T_52334_row9_col10\" class=\"data row9 col10\" >252</td>\n",
              "      <td id=\"T_52334_row9_col11\" class=\"data row9 col11\" >177</td>\n",
              "      <td id=\"T_52334_row9_col12\" class=\"data row9 col12\" >0</td>\n",
              "      <td id=\"T_52334_row9_col13\" class=\"data row9 col13\" >0</td>\n",
              "      <td id=\"T_52334_row9_col14\" class=\"data row9 col14\" >0</td>\n",
              "    </tr>\n",
              "    <tr>\n",
              "      <th id=\"T_52334_level0_row10\" class=\"row_heading level0 row10\" >10</th>\n",
              "      <td id=\"T_52334_row10_col0\" class=\"data row10 col0\" >0</td>\n",
              "      <td id=\"T_52334_row10_col1\" class=\"data row10 col1\" >45</td>\n",
              "      <td id=\"T_52334_row10_col2\" class=\"data row10 col2\" >223</td>\n",
              "      <td id=\"T_52334_row10_col3\" class=\"data row10 col3\" >253</td>\n",
              "      <td id=\"T_52334_row10_col4\" class=\"data row10 col4\" >253</td>\n",
              "      <td id=\"T_52334_row10_col5\" class=\"data row10 col5\" >253</td>\n",
              "      <td id=\"T_52334_row10_col6\" class=\"data row10 col6\" >253</td>\n",
              "      <td id=\"T_52334_row10_col7\" class=\"data row10 col7\" >255</td>\n",
              "      <td id=\"T_52334_row10_col8\" class=\"data row10 col8\" >253</td>\n",
              "      <td id=\"T_52334_row10_col9\" class=\"data row10 col9\" >253</td>\n",
              "      <td id=\"T_52334_row10_col10\" class=\"data row10 col10\" >253</td>\n",
              "      <td id=\"T_52334_row10_col11\" class=\"data row10 col11\" >253</td>\n",
              "      <td id=\"T_52334_row10_col12\" class=\"data row10 col12\" >74</td>\n",
              "      <td id=\"T_52334_row10_col13\" class=\"data row10 col13\" >0</td>\n",
              "      <td id=\"T_52334_row10_col14\" class=\"data row10 col14\" >0</td>\n",
              "    </tr>\n",
              "    <tr>\n",
              "      <th id=\"T_52334_level0_row11\" class=\"row_heading level0 row11\" >11</th>\n",
              "      <td id=\"T_52334_row11_col0\" class=\"data row11 col0\" >0</td>\n",
              "      <td id=\"T_52334_row11_col1\" class=\"data row11 col1\" >0</td>\n",
              "      <td id=\"T_52334_row11_col2\" class=\"data row11 col2\" >31</td>\n",
              "      <td id=\"T_52334_row11_col3\" class=\"data row11 col3\" >123</td>\n",
              "      <td id=\"T_52334_row11_col4\" class=\"data row11 col4\" >52</td>\n",
              "      <td id=\"T_52334_row11_col5\" class=\"data row11 col5\" >44</td>\n",
              "      <td id=\"T_52334_row11_col6\" class=\"data row11 col6\" >44</td>\n",
              "      <td id=\"T_52334_row11_col7\" class=\"data row11 col7\" >44</td>\n",
              "      <td id=\"T_52334_row11_col8\" class=\"data row11 col8\" >44</td>\n",
              "      <td id=\"T_52334_row11_col9\" class=\"data row11 col9\" >143</td>\n",
              "      <td id=\"T_52334_row11_col10\" class=\"data row11 col10\" >252</td>\n",
              "      <td id=\"T_52334_row11_col11\" class=\"data row11 col11\" >252</td>\n",
              "      <td id=\"T_52334_row11_col12\" class=\"data row11 col12\" >74</td>\n",
              "      <td id=\"T_52334_row11_col13\" class=\"data row11 col13\" >0</td>\n",
              "      <td id=\"T_52334_row11_col14\" class=\"data row11 col14\" >0</td>\n",
              "    </tr>\n",
              "    <tr>\n",
              "      <th id=\"T_52334_level0_row12\" class=\"row_heading level0 row12\" >12</th>\n",
              "      <td id=\"T_52334_row12_col0\" class=\"data row12 col0\" >0</td>\n",
              "      <td id=\"T_52334_row12_col1\" class=\"data row12 col1\" >0</td>\n",
              "      <td id=\"T_52334_row12_col2\" class=\"data row12 col2\" >0</td>\n",
              "      <td id=\"T_52334_row12_col3\" class=\"data row12 col3\" >0</td>\n",
              "      <td id=\"T_52334_row12_col4\" class=\"data row12 col4\" >0</td>\n",
              "      <td id=\"T_52334_row12_col5\" class=\"data row12 col5\" >0</td>\n",
              "      <td id=\"T_52334_row12_col6\" class=\"data row12 col6\" >0</td>\n",
              "      <td id=\"T_52334_row12_col7\" class=\"data row12 col7\" >0</td>\n",
              "      <td id=\"T_52334_row12_col8\" class=\"data row12 col8\" >0</td>\n",
              "      <td id=\"T_52334_row12_col9\" class=\"data row12 col9\" >15</td>\n",
              "      <td id=\"T_52334_row12_col10\" class=\"data row12 col10\" >252</td>\n",
              "      <td id=\"T_52334_row12_col11\" class=\"data row12 col11\" >252</td>\n",
              "      <td id=\"T_52334_row12_col12\" class=\"data row12 col12\" >74</td>\n",
              "      <td id=\"T_52334_row12_col13\" class=\"data row12 col13\" >0</td>\n",
              "      <td id=\"T_52334_row12_col14\" class=\"data row12 col14\" >0</td>\n",
              "    </tr>\n",
              "    <tr>\n",
              "      <th id=\"T_52334_level0_row13\" class=\"row_heading level0 row13\" >13</th>\n",
              "      <td id=\"T_52334_row13_col0\" class=\"data row13 col0\" >0</td>\n",
              "      <td id=\"T_52334_row13_col1\" class=\"data row13 col1\" >0</td>\n",
              "      <td id=\"T_52334_row13_col2\" class=\"data row13 col2\" >0</td>\n",
              "      <td id=\"T_52334_row13_col3\" class=\"data row13 col3\" >0</td>\n",
              "      <td id=\"T_52334_row13_col4\" class=\"data row13 col4\" >0</td>\n",
              "      <td id=\"T_52334_row13_col5\" class=\"data row13 col5\" >0</td>\n",
              "      <td id=\"T_52334_row13_col6\" class=\"data row13 col6\" >0</td>\n",
              "      <td id=\"T_52334_row13_col7\" class=\"data row13 col7\" >0</td>\n",
              "      <td id=\"T_52334_row13_col8\" class=\"data row13 col8\" >0</td>\n",
              "      <td id=\"T_52334_row13_col9\" class=\"data row13 col9\" >86</td>\n",
              "      <td id=\"T_52334_row13_col10\" class=\"data row13 col10\" >252</td>\n",
              "      <td id=\"T_52334_row13_col11\" class=\"data row13 col11\" >252</td>\n",
              "      <td id=\"T_52334_row13_col12\" class=\"data row13 col12\" >74</td>\n",
              "      <td id=\"T_52334_row13_col13\" class=\"data row13 col13\" >0</td>\n",
              "      <td id=\"T_52334_row13_col14\" class=\"data row13 col14\" >0</td>\n",
              "    </tr>\n",
              "    <tr>\n",
              "      <th id=\"T_52334_level0_row14\" class=\"row_heading level0 row14\" >14</th>\n",
              "      <td id=\"T_52334_row14_col0\" class=\"data row14 col0\" >75</td>\n",
              "      <td id=\"T_52334_row14_col1\" class=\"data row14 col1\" >9</td>\n",
              "      <td id=\"T_52334_row14_col2\" class=\"data row14 col2\" >0</td>\n",
              "      <td id=\"T_52334_row14_col3\" class=\"data row14 col3\" >0</td>\n",
              "      <td id=\"T_52334_row14_col4\" class=\"data row14 col4\" >0</td>\n",
              "      <td id=\"T_52334_row14_col5\" class=\"data row14 col5\" >0</td>\n",
              "      <td id=\"T_52334_row14_col6\" class=\"data row14 col6\" >0</td>\n",
              "      <td id=\"T_52334_row14_col7\" class=\"data row14 col7\" >0</td>\n",
              "      <td id=\"T_52334_row14_col8\" class=\"data row14 col8\" >98</td>\n",
              "      <td id=\"T_52334_row14_col9\" class=\"data row14 col9\" >242</td>\n",
              "      <td id=\"T_52334_row14_col10\" class=\"data row14 col10\" >252</td>\n",
              "      <td id=\"T_52334_row14_col11\" class=\"data row14 col11\" >252</td>\n",
              "      <td id=\"T_52334_row14_col12\" class=\"data row14 col12\" >74</td>\n",
              "      <td id=\"T_52334_row14_col13\" class=\"data row14 col13\" >0</td>\n",
              "      <td id=\"T_52334_row14_col14\" class=\"data row14 col14\" >0</td>\n",
              "    </tr>\n",
              "    <tr>\n",
              "      <th id=\"T_52334_level0_row15\" class=\"row_heading level0 row15\" >15</th>\n",
              "      <td id=\"T_52334_row15_col0\" class=\"data row15 col0\" >252</td>\n",
              "      <td id=\"T_52334_row15_col1\" class=\"data row15 col1\" >29</td>\n",
              "      <td id=\"T_52334_row15_col2\" class=\"data row15 col2\" >0</td>\n",
              "      <td id=\"T_52334_row15_col3\" class=\"data row15 col3\" >0</td>\n",
              "      <td id=\"T_52334_row15_col4\" class=\"data row15 col4\" >0</td>\n",
              "      <td id=\"T_52334_row15_col5\" class=\"data row15 col5\" >0</td>\n",
              "      <td id=\"T_52334_row15_col6\" class=\"data row15 col6\" >18</td>\n",
              "      <td id=\"T_52334_row15_col7\" class=\"data row15 col7\" >92</td>\n",
              "      <td id=\"T_52334_row15_col8\" class=\"data row15 col8\" >239</td>\n",
              "      <td id=\"T_52334_row15_col9\" class=\"data row15 col9\" >252</td>\n",
              "      <td id=\"T_52334_row15_col10\" class=\"data row15 col10\" >252</td>\n",
              "      <td id=\"T_52334_row15_col11\" class=\"data row15 col11\" >243</td>\n",
              "      <td id=\"T_52334_row15_col12\" class=\"data row15 col12\" >65</td>\n",
              "      <td id=\"T_52334_row15_col13\" class=\"data row15 col13\" >0</td>\n",
              "      <td id=\"T_52334_row15_col14\" class=\"data row15 col14\" >0</td>\n",
              "    </tr>\n",
              "    <tr>\n",
              "      <th id=\"T_52334_level0_row16\" class=\"row_heading level0 row16\" >16</th>\n",
              "      <td id=\"T_52334_row16_col0\" class=\"data row16 col0\" >252</td>\n",
              "      <td id=\"T_52334_row16_col1\" class=\"data row16 col1\" >147</td>\n",
              "      <td id=\"T_52334_row16_col2\" class=\"data row16 col2\" >134</td>\n",
              "      <td id=\"T_52334_row16_col3\" class=\"data row16 col3\" >134</td>\n",
              "      <td id=\"T_52334_row16_col4\" class=\"data row16 col4\" >134</td>\n",
              "      <td id=\"T_52334_row16_col5\" class=\"data row16 col5\" >134</td>\n",
              "      <td id=\"T_52334_row16_col6\" class=\"data row16 col6\" >203</td>\n",
              "      <td id=\"T_52334_row16_col7\" class=\"data row16 col7\" >253</td>\n",
              "      <td id=\"T_52334_row16_col8\" class=\"data row16 col8\" >252</td>\n",
              "      <td id=\"T_52334_row16_col9\" class=\"data row16 col9\" >252</td>\n",
              "      <td id=\"T_52334_row16_col10\" class=\"data row16 col10\" >188</td>\n",
              "      <td id=\"T_52334_row16_col11\" class=\"data row16 col11\" >83</td>\n",
              "      <td id=\"T_52334_row16_col12\" class=\"data row16 col12\" >0</td>\n",
              "      <td id=\"T_52334_row16_col13\" class=\"data row16 col13\" >0</td>\n",
              "      <td id=\"T_52334_row16_col14\" class=\"data row16 col14\" >0</td>\n",
              "    </tr>\n",
              "    <tr>\n",
              "      <th id=\"T_52334_level0_row17\" class=\"row_heading level0 row17\" >17</th>\n",
              "      <td id=\"T_52334_row17_col0\" class=\"data row17 col0\" >252</td>\n",
              "      <td id=\"T_52334_row17_col1\" class=\"data row17 col1\" >252</td>\n",
              "      <td id=\"T_52334_row17_col2\" class=\"data row17 col2\" >252</td>\n",
              "      <td id=\"T_52334_row17_col3\" class=\"data row17 col3\" >252</td>\n",
              "      <td id=\"T_52334_row17_col4\" class=\"data row17 col4\" >252</td>\n",
              "      <td id=\"T_52334_row17_col5\" class=\"data row17 col5\" >252</td>\n",
              "      <td id=\"T_52334_row17_col6\" class=\"data row17 col6\" >252</td>\n",
              "      <td id=\"T_52334_row17_col7\" class=\"data row17 col7\" >253</td>\n",
              "      <td id=\"T_52334_row17_col8\" class=\"data row17 col8\" >230</td>\n",
              "      <td id=\"T_52334_row17_col9\" class=\"data row17 col9\" >153</td>\n",
              "      <td id=\"T_52334_row17_col10\" class=\"data row17 col10\" >8</td>\n",
              "      <td id=\"T_52334_row17_col11\" class=\"data row17 col11\" >0</td>\n",
              "      <td id=\"T_52334_row17_col12\" class=\"data row17 col12\" >0</td>\n",
              "      <td id=\"T_52334_row17_col13\" class=\"data row17 col13\" >0</td>\n",
              "      <td id=\"T_52334_row17_col14\" class=\"data row17 col14\" >0</td>\n",
              "    </tr>\n",
              "    <tr>\n",
              "      <th id=\"T_52334_level0_row18\" class=\"row_heading level0 row18\" >18</th>\n",
              "      <td id=\"T_52334_row18_col0\" class=\"data row18 col0\" >252</td>\n",
              "      <td id=\"T_52334_row18_col1\" class=\"data row18 col1\" >252</td>\n",
              "      <td id=\"T_52334_row18_col2\" class=\"data row18 col2\" >252</td>\n",
              "      <td id=\"T_52334_row18_col3\" class=\"data row18 col3\" >252</td>\n",
              "      <td id=\"T_52334_row18_col4\" class=\"data row18 col4\" >252</td>\n",
              "      <td id=\"T_52334_row18_col5\" class=\"data row18 col5\" >217</td>\n",
              "      <td id=\"T_52334_row18_col6\" class=\"data row18 col6\" >207</td>\n",
              "      <td id=\"T_52334_row18_col7\" class=\"data row18 col7\" >146</td>\n",
              "      <td id=\"T_52334_row18_col8\" class=\"data row18 col8\" >45</td>\n",
              "      <td id=\"T_52334_row18_col9\" class=\"data row18 col9\" >0</td>\n",
              "      <td id=\"T_52334_row18_col10\" class=\"data row18 col10\" >0</td>\n",
              "      <td id=\"T_52334_row18_col11\" class=\"data row18 col11\" >0</td>\n",
              "      <td id=\"T_52334_row18_col12\" class=\"data row18 col12\" >0</td>\n",
              "      <td id=\"T_52334_row18_col13\" class=\"data row18 col13\" >0</td>\n",
              "      <td id=\"T_52334_row18_col14\" class=\"data row18 col14\" >0</td>\n",
              "    </tr>\n",
              "  </tbody>\n",
              "</table>\n"
            ]
          },
          "metadata": {},
          "execution_count": 30
        }
      ]
    },
    {
      "cell_type": "markdown",
      "source": [
        "### <font color = 'pickle'>**Task3**\n",
        "\n",
        "<font color = 'pickle'>**Convert threes and sevens generated earlier to float and and take the mean along dimension 0.**\n",
        "\n",
        "Hint(You can use tensor.float() and then take the mean along dimesnion 0.\n",
        "\n",
        "Here we are generating an average image by taking the average of each pixel across images."
      ],
      "metadata": {
        "id": "kmAph7qwn4zL"
      }
    },
    {
      "cell_type": "code",
      "source": [
        "mean_threes =  threes.float().mean(0)\n",
        "mean_sevens =  sevens.float().mean(0)"
      ],
      "metadata": {
        "id": "cVN5c0PVILPx"
      },
      "execution_count": null,
      "outputs": []
    },
    {
      "cell_type": "code",
      "source": [
        "mean_threes.shape\n",
        "mean_sevens.shape"
      ],
      "metadata": {
        "colab": {
          "base_uri": "https://localhost:8080/"
        },
        "id": "Pyn4fHmcRLvw",
        "outputId": "127539e0-d676-4177-d5c2-d4e38bb51d62"
      },
      "execution_count": null,
      "outputs": [
        {
          "output_type": "execute_result",
          "data": {
            "text/plain": [
              "torch.Size([28, 28])"
            ]
          },
          "metadata": {},
          "execution_count": 57
        }
      ]
    },
    {
      "cell_type": "code",
      "source": [
        "cv2_imshow(mean_threes.unsqueeze(dim=2).numpy())\n",
        "print()\n",
        "cv2_imshow(mean_sevens.unsqueeze(dim=2).numpy())"
      ],
      "metadata": {
        "colab": {
          "base_uri": "https://localhost:8080/",
          "height": 90
        },
        "id": "R526984dRZxi",
        "outputId": "161f3f95-f9e0-459a-f6a9-ff59bb00dab0"
      },
      "execution_count": null,
      "outputs": [
        {
          "output_type": "display_data",
          "data": {
            "text/plain": [
              "<PIL.Image.Image image mode=RGB size=28x28 at 0x7FF789907C50>"
            ],
            "image/png": "[encoded data removed]"
          },
          "metadata": {}
        },
        {
          "output_type": "stream",
          "name": "stdout",
          "text": [
            "\n"
          ]
        },
        {
          "output_type": "display_data",
          "data": {
            "text/plain": [
              "<PIL.Image.Image image mode=RGB size=28x28 at 0x7FF7898B3650>"
            ],
            "image/png": "[encoded data removed]"
          },
          "metadata": {}
        }
      ]
    },
    {
      "cell_type": "markdown",
      "source": [
        "## <font color = 'pickle'>**Prediction for validation images**\n",
        "\n",
        "We will calculate the distance of each validation image from the mean_threes and mean_sevens. If the validation image is closest to mean_threes then we will predict 1 else we will predict 0."
      ],
      "metadata": {
        "id": "wWdE59Ano6rz"
      }
    },
    {
      "cell_type": "markdown",
      "source": [
        "## <font color = 'pickle'>**Get Valid Dataset**"
      ],
      "metadata": {
        "id": "KtGzpmK-pifF"
      }
    },
    {
      "cell_type": "code",
      "source": [
        "validset = torchvision.datasets.MNIST(root = data_folder,\n",
        "                                      train = False,\n",
        "                                      download = True,\n",
        "                                      )"
      ],
      "metadata": {
        "id": "dlmGwOd8R4JO"
      },
      "execution_count": null,
      "outputs": []
    },
    {
      "cell_type": "code",
      "source": [
        "# get the mask \n",
        "idx3 = validset.targets==3\n",
        "idx7 = validset.targets==7"
      ],
      "metadata": {
        "id": "Zktf1nWDR9fk"
      },
      "execution_count": null,
      "outputs": []
    },
    {
      "cell_type": "code",
      "source": [
        "validset.data.shape"
      ],
      "metadata": {
        "colab": {
          "base_uri": "https://localhost:8080/"
        },
        "id": "9PgJPjnDZhG4",
        "outputId": "62f17528-f1c4-418c-b60d-c631877b40a6"
      },
      "execution_count": null,
      "outputs": [
        {
          "output_type": "execute_result",
          "data": {
            "text/plain": [
              "torch.Size([10000, 28, 28])"
            ]
          },
          "metadata": {},
          "execution_count": 62
        }
      ]
    },
    {
      "cell_type": "code",
      "source": [
        "# get images and labels using the mask\n",
        "valid_data_3_7 = validset.data[idx3+idx7]\n",
        "valid_targets_3_7 = validset.targets[idx3 + idx7]"
      ],
      "metadata": {
        "id": "IGxAzO25SFfu"
      },
      "execution_count": null,
      "outputs": []
    },
    {
      "cell_type": "code",
      "source": [
        "# check the shape of the inputs (images)\n",
        "# we have 2038 images with size 28 x 28.\n",
        "valid_data_3_7.shape"
      ],
      "metadata": {
        "colab": {
          "base_uri": "https://localhost:8080/"
        },
        "id": "_N7JhIm-ZRVS",
        "outputId": "7a0b6ab3-1f0d-4284-bfe4-0112db03f656"
      },
      "execution_count": null,
      "outputs": [
        {
          "output_type": "execute_result",
          "data": {
            "text/plain": [
              "torch.Size([2038, 28, 28])"
            ]
          },
          "metadata": {},
          "execution_count": 64
        }
      ]
    },
    {
      "cell_type": "code",
      "source": [
        "# lables for valid dataset\n",
        "valid_targets_3_7"
      ],
      "metadata": {
        "colab": {
          "base_uri": "https://localhost:8080/"
        },
        "id": "G-fFULgwbXJR",
        "outputId": "b5087672-6fa0-49a6-aa94-850108d9c6d9"
      },
      "execution_count": null,
      "outputs": [
        {
          "output_type": "execute_result",
          "data": {
            "text/plain": [
              "tensor([7, 7, 3,  ..., 3, 7, 3])"
            ]
          },
          "metadata": {},
          "execution_count": 65
        }
      ]
    },
    {
      "cell_type": "code",
      "source": [
        "# change the lable to 1 where the label was 3\n",
        "valid_targets_3_7[valid_targets_3_7==3] = 1"
      ],
      "metadata": {
        "id": "F_m0zx60WKR_"
      },
      "execution_count": null,
      "outputs": []
    },
    {
      "cell_type": "code",
      "source": [
        "# change the lable to 0 where the label was 7\n",
        "valid_targets_3_7[valid_targets_3_7==7] = 0"
      ],
      "metadata": {
        "id": "rTN_d9QlYLxE"
      },
      "execution_count": null,
      "outputs": []
    },
    {
      "cell_type": "code",
      "source": [
        "valid_targets_3_7.unique()"
      ],
      "metadata": {
        "colab": {
          "base_uri": "https://localhost:8080/"
        },
        "id": "tlZy31HiYO1d",
        "outputId": "0b22cf16-c033-49a1-a2fe-1a54844c4afb"
      },
      "execution_count": null,
      "outputs": [
        {
          "output_type": "execute_result",
          "data": {
            "text/plain": [
              "tensor([0, 1])"
            ]
          },
          "metadata": {},
          "execution_count": 68
        }
      ]
    },
    {
      "cell_type": "code",
      "source": [
        "valid_targets_3_7"
      ],
      "metadata": {
        "colab": {
          "base_uri": "https://localhost:8080/"
        },
        "id": "PArUSruZWeSt",
        "outputId": "267f669c-550d-4228-938a-e41d35f49cd8"
      },
      "execution_count": null,
      "outputs": [
        {
          "output_type": "execute_result",
          "data": {
            "text/plain": [
              "tensor([0, 0, 1,  ..., 1, 0, 1])"
            ]
          },
          "metadata": {},
          "execution_count": 69
        }
      ]
    },
    {
      "cell_type": "code",
      "source": [
        "valid_data_3_7.shape"
      ],
      "metadata": {
        "colab": {
          "base_uri": "https://localhost:8080/"
        },
        "id": "2vL2fkbfUdsJ",
        "outputId": "80833680-4c29-4b7a-b54d-c5ae35a57296"
      },
      "execution_count": null,
      "outputs": [
        {
          "output_type": "execute_result",
          "data": {
            "text/plain": [
              "torch.Size([2038, 28, 28])"
            ]
          },
          "metadata": {},
          "execution_count": 70
        }
      ]
    },
    {
      "cell_type": "markdown",
      "source": [
        "## <font color = 'pickle'>**Distance between images**"
      ],
      "metadata": {
        "id": "M8cfHMRMvbVy"
      }
    },
    {
      "cell_type": "markdown",
      "source": [
        "### <font color = 'pickle'>**Task4** \n",
        "\n",
        "<font color = 'pickle'>**Write a function to calculate the distance between two images a and b.** \n",
        " - Calculate the difference between corresponding pixels of two images.\n",
        " - Calculate square of differences.\n",
        " - Take the mean (take the mean across last two dimensions (-1, -2) of the square of the differences and then take the square root."
      ],
      "metadata": {
        "id": "agtAtYjqrEOL"
      }
    },
    {
      "cell_type": "code",
      "source": [
        "def dist_images(a, b):\n",
        "  c = a-b \n",
        "  csqrd = torch.square(c)\n",
        "  cm = torch.mean( csqrd, dim = (-1,-2))\n",
        "  return torch.sqrt(cm)"
      ],
      "metadata": {
        "id": "9xjUfzefScaH"
      },
      "execution_count": null,
      "outputs": []
    },
    {
      "cell_type": "code",
      "source": [
        "# calculate the distance of the each image in validation set from mean_threes\n",
        "# bacause of the  broadcasting we are able to use the above function which was written to \n",
        "# calculate the distnace between two images\n",
        "\n",
        "valid_3_dist = dist_images(valid_data_3_7, mean_threes)\n",
        "valid_3_dist"
      ],
      "metadata": {
        "id": "AKFAl8d3UBxj",
        "colab": {
          "base_uri": "https://localhost:8080/"
        },
        "outputId": "a0b1d7c5-9e45-4bdd-904b-68f814ee4368"
      },
      "execution_count": null,
      "outputs": [
        {
          "output_type": "execute_result",
          "data": {
            "text/plain": [
              "tensor([70.2972, 71.7095, 79.9791,  ..., 59.1907, 68.7125, 58.1954])"
            ]
          },
          "metadata": {},
          "execution_count": 81
        }
      ]
    },
    {
      "cell_type": "code",
      "source": [
        "# calculate the distance of the each image in validation set from mean_sevens\n",
        "valid_7_dist = dist_images(valid_data_3_7, mean_sevens)"
      ],
      "metadata": {
        "id": "KCVMzoiQUWeM"
      },
      "execution_count": null,
      "outputs": []
    },
    {
      "cell_type": "code",
      "source": [
        "# if you have done everything right, you will observe following shapes.\n",
        "valid_3_dist.shape, valid_7_dist.shape"
      ],
      "metadata": {
        "colab": {
          "base_uri": "https://localhost:8080/"
        },
        "id": "7boi6IVqZGIG",
        "outputId": "d1389bd4-ccdd-48b0-b4c8-98e6fd631a05"
      },
      "execution_count": null,
      "outputs": [
        {
          "output_type": "execute_result",
          "data": {
            "text/plain": [
              "(torch.Size([2038]), torch.Size([2038]))"
            ]
          },
          "metadata": {},
          "execution_count": 83
        }
      ]
    },
    {
      "cell_type": "markdown",
      "source": [
        "## <font color = 'pickle'>**Prediction Using Distance**"
      ],
      "metadata": {
        "id": "tT_MkbhjtW81"
      }
    },
    {
      "cell_type": "markdown",
      "source": [
        "### <font color = 'pickle'>**Task5**\n",
        "\n"
      ],
      "metadata": {
        "id": "XeDvyaCQtzhJ"
      }
    },
    {
      "cell_type": "code",
      "source": [
        "# step 1 : generate the tensor filled with zeros taht has the same shape as valid_target_3_7\n",
        "prediction = torch.zeros([2038])"
      ],
      "metadata": {
        "id": "QNUBIo7RVvqX"
      },
      "execution_count": null,
      "outputs": []
    },
    {
      "cell_type": "code",
      "source": [
        "# step 2: update the tensor prediction. Update the value to 1, when valid_3_dist < valid_7_dist.\n",
        "# Hint (Generate a Boolean mask using the condition valid_3_dist < valid_7_dist and use the mask to update value to 1 )\n",
        "prediction[valid_3_dist<valid_7_dist] =1 \n"
      ],
      "metadata": {
        "id": "kz8djoCFYpzs"
      },
      "execution_count": null,
      "outputs": []
    },
    {
      "cell_type": "code",
      "source": [
        "prediction"
      ],
      "metadata": {
        "colab": {
          "base_uri": "https://localhost:8080/"
        },
        "id": "3XZXzsHBY4wY",
        "outputId": "2765c2f4-6f8b-4c65-bf71-f4f9fb925745"
      },
      "execution_count": null,
      "outputs": [
        {
          "output_type": "execute_result",
          "data": {
            "text/plain": [
              "tensor([0., 0., 1.,  ..., 1., 0., 1.])"
            ]
          },
          "metadata": {},
          "execution_count": 89
        }
      ]
    },
    {
      "cell_type": "markdown",
      "source": [
        "## <font color = 'pickle'>**Accuracy**"
      ],
      "metadata": {
        "id": "B0-NcIHEu8xf"
      }
    },
    {
      "cell_type": "code",
      "source": [
        "correct = prediction == valid_targets_3_7"
      ],
      "metadata": {
        "id": "U2DDoCQRcaEY"
      },
      "execution_count": null,
      "outputs": []
    },
    {
      "cell_type": "code",
      "source": [
        "correct"
      ],
      "metadata": {
        "colab": {
          "base_uri": "https://localhost:8080/"
        },
        "id": "HIPlwvc-chGZ",
        "outputId": "05e55ffc-3110-45a3-f482-04305a2815a8"
      },
      "execution_count": null,
      "outputs": [
        {
          "output_type": "execute_result",
          "data": {
            "text/plain": [
              "tensor([True, True, True,  ..., True, True, True])"
            ]
          },
          "metadata": {},
          "execution_count": 91
        }
      ]
    },
    {
      "cell_type": "code",
      "source": [
        "100 * correct.float().mean().item()"
      ],
      "metadata": {
        "colab": {
          "base_uri": "https://localhost:8080/"
        },
        "id": "mANkYga9cipY",
        "outputId": "9afbb0b7-a7e1-4ed1-a89f-687ea05eeea6"
      },
      "execution_count": null,
      "outputs": [
        {
          "output_type": "execute_result",
          "data": {
            "text/plain": [
              "96.6143250465393"
            ]
          },
          "metadata": {},
          "execution_count": 92
        }
      ]
    }
  ],
  "metadata": {
    "accelerator": "GPU",
    "colab": {
      "collapsed_sections": [
        "RwbP3J8UfSv7",
        "S_PMpXK-fflc"
      ],
      "provenance": []
    },
    "kernelspec": {
      "display_name": "Python 3 (ipykernel)",
      "language": "python",
      "name": "python3"
    },
    "language_info": {
      "codemirror_mode": {
        "name": "ipython",
        "version": 3
      },
      "file_extension": ".py",
      "mimetype": "text/x-python",
      "name": "python",
      "nbconvert_exporter": "python",
      "pygments_lexer": "ipython3",
      "version": "3.8.12"
    },
    "gpuClass": "standard",
    "widgets": {
      "application/vnd.jupyter.widget-state+json": {
        "0d33e158db0d4afca3b76faf2132181e": {
          "model_module": "@jupyter-widgets/controls",
          "model_name": "HBoxModel",
          "model_module_version": "1.5.0",
          "state": {
            "_dom_classes": [],
            "_model_module": "@jupyter-widgets/controls",
            "_model_module_version": "1.5.0",
            "_model_name": "HBoxModel",
            "_view_count": null,
            "_view_module": "@jupyter-widgets/controls",
            "_view_module_version": "1.5.0",
            "_view_name": "HBoxView",
            "box_style": "",
            "children": [
              "IPY_MODEL_554b98b52d744f68b266d702e2e2910e",
              "IPY_MODEL_c87d726190d049b3a731bf5fdf7fbb72",
              "IPY_MODEL_ec897376f8a944ddbca6bd5581534712"
            ],
            "layout": "IPY_MODEL_6b99ba9d77564d8d896c288959d373da"
          }
        },
        "554b98b52d744f68b266d702e2e2910e": {
          "model_module": "@jupyter-widgets/controls",
          "model_name": "HTMLModel",
          "model_module_version": "1.5.0",
          "state": {
            "_dom_classes": [],
            "_model_module": "@jupyter-widgets/controls",
            "_model_module_version": "1.5.0",
            "_model_name": "HTMLModel",
            "_view_count": null,
            "_view_module": "@jupyter-widgets/controls",
            "_view_module_version": "1.5.0",
            "_view_name": "HTMLView",
            "description": "",
            "description_tooltip": null,
            "layout": "IPY_MODEL_c90d0fc1f0374e18b0ac3e37ea2a6920",
            "placeholder": "​",
            "style": "IPY_MODEL_6c5662cd1ea8417aa1dbb811926af705",
            "value": "100%"
          }
        },
        "c87d726190d049b3a731bf5fdf7fbb72": {
          "model_module": "@jupyter-widgets/controls",
          "model_name": "FloatProgressModel",
          "model_module_version": "1.5.0",
          "state": {
            "_dom_classes": [],
            "_model_module": "@jupyter-widgets/controls",
            "_model_module_version": "1.5.0",
            "_model_name": "FloatProgressModel",
            "_view_count": null,
            "_view_module": "@jupyter-widgets/controls",
            "_view_module_version": "1.5.0",
            "_view_name": "ProgressView",
            "bar_style": "success",
            "description": "",
            "description_tooltip": null,
            "layout": "IPY_MODEL_1761f55a14ec44f1bef27781f6df889b",
            "max": 9912422,
            "min": 0,
            "orientation": "horizontal",
            "style": "IPY_MODEL_3d6a9173d5eb499a9bda0eea2ed3c44f",
            "value": 9912422
          }
        },
        "ec897376f8a944ddbca6bd5581534712": {
          "model_module": "@jupyter-widgets/controls",
          "model_name": "HTMLModel",
          "model_module_version": "1.5.0",
          "state": {
            "_dom_classes": [],
            "_model_module": "@jupyter-widgets/controls",
            "_model_module_version": "1.5.0",
            "_model_name": "HTMLModel",
            "_view_count": null,
            "_view_module": "@jupyter-widgets/controls",
            "_view_module_version": "1.5.0",
            "_view_name": "HTMLView",
            "description": "",
            "description_tooltip": null,
            "layout": "IPY_MODEL_53cdf98555ff4920a90367bf05acdcfd",
            "placeholder": "​",
            "style": "IPY_MODEL_5776d81010ca4e0fa7e5ce2c585dde6e",
            "value": " 9912422/9912422 [00:00&lt;00:00, 65584876.77it/s]"
          }
        },
        "6b99ba9d77564d8d896c288959d373da": {
          "model_module": "@jupyter-widgets/base",
          "model_name": "LayoutModel",
          "model_module_version": "1.2.0",
          "state": {
            "_model_module": "@jupyter-widgets/base",
            "_model_module_version": "1.2.0",
            "_model_name": "LayoutModel",
            "_view_count": null,
            "_view_module": "@jupyter-widgets/base",
            "_view_module_version": "1.2.0",
            "_view_name": "LayoutView",
            "align_content": null,
            "align_items": null,
            "align_self": null,
            "border": null,
            "bottom": null,
            "display": null,
            "flex": null,
            "flex_flow": null,
            "grid_area": null,
            "grid_auto_columns": null,
            "grid_auto_flow": null,
            "grid_auto_rows": null,
            "grid_column": null,
            "grid_gap": null,
            "grid_row": null,
            "grid_template_areas": null,
            "grid_template_columns": null,
            "grid_template_rows": null,
            "height": null,
            "justify_content": null,
            "justify_items": null,
            "left": null,
            "margin": null,
            "max_height": null,
            "max_width": null,
            "min_height": null,
            "min_width": null,
            "object_fit": null,
            "object_position": null,
            "order": null,
            "overflow": null,
            "overflow_x": null,
            "overflow_y": null,
            "padding": null,
            "right": null,
            "top": null,
            "visibility": null,
            "width": null
          }
        },
        "c90d0fc1f0374e18b0ac3e37ea2a6920": {
          "model_module": "@jupyter-widgets/base",
          "model_name": "LayoutModel",
          "model_module_version": "1.2.0",
          "state": {
            "_model_module": "@jupyter-widgets/base",
            "_model_module_version": "1.2.0",
            "_model_name": "LayoutModel",
            "_view_count": null,
            "_view_module": "@jupyter-widgets/base",
            "_view_module_version": "1.2.0",
            "_view_name": "LayoutView",
            "align_content": null,
            "align_items": null,
            "align_self": null,
            "border": null,
            "bottom": null,
            "display": null,
            "flex": null,
            "flex_flow": null,
            "grid_area": null,
            "grid_auto_columns": null,
            "grid_auto_flow": null,
            "grid_auto_rows": null,
            "grid_column": null,
            "grid_gap": null,
            "grid_row": null,
            "grid_template_areas": null,
            "grid_template_columns": null,
            "grid_template_rows": null,
            "height": null,
            "justify_content": null,
            "justify_items": null,
            "left": null,
            "margin": null,
            "max_height": null,
            "max_width": null,
            "min_height": null,
            "min_width": null,
            "object_fit": null,
            "object_position": null,
            "order": null,
            "overflow": null,
            "overflow_x": null,
            "overflow_y": null,
            "padding": null,
            "right": null,
            "top": null,
            "visibility": null,
            "width": null
          }
        },
        "6c5662cd1ea8417aa1dbb811926af705": {
          "model_module": "@jupyter-widgets/controls",
          "model_name": "DescriptionStyleModel",
          "model_module_version": "1.5.0",
          "state": {
            "_model_module": "@jupyter-widgets/controls",
            "_model_module_version": "1.5.0",
            "_model_name": "DescriptionStyleModel",
            "_view_count": null,
            "_view_module": "@jupyter-widgets/base",
            "_view_module_version": "1.2.0",
            "_view_name": "StyleView",
            "description_width": ""
          }
        },
        "1761f55a14ec44f1bef27781f6df889b": {
          "model_module": "@jupyter-widgets/base",
          "model_name": "LayoutModel",
          "model_module_version": "1.2.0",
          "state": {
            "_model_module": "@jupyter-widgets/base",
            "_model_module_version": "1.2.0",
            "_model_name": "LayoutModel",
            "_view_count": null,
            "_view_module": "@jupyter-widgets/base",
            "_view_module_version": "1.2.0",
            "_view_name": "LayoutView",
            "align_content": null,
            "align_items": null,
            "align_self": null,
            "border": null,
            "bottom": null,
            "display": null,
            "flex": null,
            "flex_flow": null,
            "grid_area": null,
            "grid_auto_columns": null,
            "grid_auto_flow": null,
            "grid_auto_rows": null,
            "grid_column": null,
            "grid_gap": null,
            "grid_row": null,
            "grid_template_areas": null,
            "grid_template_columns": null,
            "grid_template_rows": null,
            "height": null,
            "justify_content": null,
            "justify_items": null,
            "left": null,
            "margin": null,
            "max_height": null,
            "max_width": null,
            "min_height": null,
            "min_width": null,
            "object_fit": null,
            "object_position": null,
            "order": null,
            "overflow": null,
            "overflow_x": null,
            "overflow_y": null,
            "padding": null,
            "right": null,
            "top": null,
            "visibility": null,
            "width": null
          }
        },
        "3d6a9173d5eb499a9bda0eea2ed3c44f": {
          "model_module": "@jupyter-widgets/controls",
          "model_name": "ProgressStyleModel",
          "model_module_version": "1.5.0",
          "state": {
            "_model_module": "@jupyter-widgets/controls",
            "_model_module_version": "1.5.0",
            "_model_name": "ProgressStyleModel",
            "_view_count": null,
            "_view_module": "@jupyter-widgets/base",
            "_view_module_version": "1.2.0",
            "_view_name": "StyleView",
            "bar_color": null,
            "description_width": ""
          }
        },
        "53cdf98555ff4920a90367bf05acdcfd": {
          "model_module": "@jupyter-widgets/base",
          "model_name": "LayoutModel",
          "model_module_version": "1.2.0",
          "state": {
            "_model_module": "@jupyter-widgets/base",
            "_model_module_version": "1.2.0",
            "_model_name": "LayoutModel",
            "_view_count": null,
            "_view_module": "@jupyter-widgets/base",
            "_view_module_version": "1.2.0",
            "_view_name": "LayoutView",
            "align_content": null,
            "align_items": null,
            "align_self": null,
            "border": null,
            "bottom": null,
            "display": null,
            "flex": null,
            "flex_flow": null,
            "grid_area": null,
            "grid_auto_columns": null,
            "grid_auto_flow": null,
            "grid_auto_rows": null,
            "grid_column": null,
            "grid_gap": null,
            "grid_row": null,
            "grid_template_areas": null,
            "grid_template_columns": null,
            "grid_template_rows": null,
            "height": null,
            "justify_content": null,
            "justify_items": null,
            "left": null,
            "margin": null,
            "max_height": null,
            "max_width": null,
            "min_height": null,
            "min_width": null,
            "object_fit": null,
            "object_position": null,
            "order": null,
            "overflow": null,
            "overflow_x": null,
            "overflow_y": null,
            "padding": null,
            "right": null,
            "top": null,
            "visibility": null,
            "width": null
          }
        },
        "5776d81010ca4e0fa7e5ce2c585dde6e": {
          "model_module": "@jupyter-widgets/controls",
          "model_name": "DescriptionStyleModel",
          "model_module_version": "1.5.0",
          "state": {
            "_model_module": "@jupyter-widgets/controls",
            "_model_module_version": "1.5.0",
            "_model_name": "DescriptionStyleModel",
            "_view_count": null,
            "_view_module": "@jupyter-widgets/base",
            "_view_module_version": "1.2.0",
            "_view_name": "StyleView",
            "description_width": ""
          }
        },
        "b8a0e27cf22a48fab9cc97bef287e53f": {
          "model_module": "@jupyter-widgets/controls",
          "model_name": "HBoxModel",
          "model_module_version": "1.5.0",
          "state": {
            "_dom_classes": [],
            "_model_module": "@jupyter-widgets/controls",
            "_model_module_version": "1.5.0",
            "_model_name": "HBoxModel",
            "_view_count": null,
            "_view_module": "@jupyter-widgets/controls",
            "_view_module_version": "1.5.0",
            "_view_name": "HBoxView",
            "box_style": "",
            "children": [
              "IPY_MODEL_96ca6d9739f64237a7956e54f0d942f6",
              "IPY_MODEL_ef4037fc7577483b99c5ef27fe91ba1e",
              "IPY_MODEL_a0f8d36aab524512bdebea61d0423d58"
            ],
            "layout": "IPY_MODEL_488c1d27586641378787563b649c677b"
          }
        },
        "96ca6d9739f64237a7956e54f0d942f6": {
          "model_module": "@jupyter-widgets/controls",
          "model_name": "HTMLModel",
          "model_module_version": "1.5.0",
          "state": {
            "_dom_classes": [],
            "_model_module": "@jupyter-widgets/controls",
            "_model_module_version": "1.5.0",
            "_model_name": "HTMLModel",
            "_view_count": null,
            "_view_module": "@jupyter-widgets/controls",
            "_view_module_version": "1.5.0",
            "_view_name": "HTMLView",
            "description": "",
            "description_tooltip": null,
            "layout": "IPY_MODEL_70df470a0b004246a46c8ac838d3ac95",
            "placeholder": "​",
            "style": "IPY_MODEL_47a45f35c3b34a1fb73ad652cb07fcbd",
            "value": "100%"
          }
        },
        "ef4037fc7577483b99c5ef27fe91ba1e": {
          "model_module": "@jupyter-widgets/controls",
          "model_name": "FloatProgressModel",
          "model_module_version": "1.5.0",
          "state": {
            "_dom_classes": [],
            "_model_module": "@jupyter-widgets/controls",
            "_model_module_version": "1.5.0",
            "_model_name": "FloatProgressModel",
            "_view_count": null,
            "_view_module": "@jupyter-widgets/controls",
            "_view_module_version": "1.5.0",
            "_view_name": "ProgressView",
            "bar_style": "success",
            "description": "",
            "description_tooltip": null,
            "layout": "IPY_MODEL_a82a6d7242d6410c9c104b147d0c3ec7",
            "max": 28881,
            "min": 0,
            "orientation": "horizontal",
            "style": "IPY_MODEL_2f3416a000cd4595acceaf22494f1aea",
            "value": 28881
          }
        },
        "a0f8d36aab524512bdebea61d0423d58": {
          "model_module": "@jupyter-widgets/controls",
          "model_name": "HTMLModel",
          "model_module_version": "1.5.0",
          "state": {
            "_dom_classes": [],
            "_model_module": "@jupyter-widgets/controls",
            "_model_module_version": "1.5.0",
            "_model_name": "HTMLModel",
            "_view_count": null,
            "_view_module": "@jupyter-widgets/controls",
            "_view_module_version": "1.5.0",
            "_view_name": "HTMLView",
            "description": "",
            "description_tooltip": null,
            "layout": "IPY_MODEL_02adf7131258464e91e92812c748f14b",
            "placeholder": "​",
            "style": "IPY_MODEL_7fda1d600c444db795de70a0be4b6a3f",
            "value": " 28881/28881 [00:00&lt;00:00, 737876.41it/s]"
          }
        },
        "488c1d27586641378787563b649c677b": {
          "model_module": "@jupyter-widgets/base",
          "model_name": "LayoutModel",
          "model_module_version": "1.2.0",
          "state": {
            "_model_module": "@jupyter-widgets/base",
            "_model_module_version": "1.2.0",
            "_model_name": "LayoutModel",
            "_view_count": null,
            "_view_module": "@jupyter-widgets/base",
            "_view_module_version": "1.2.0",
            "_view_name": "LayoutView",
            "align_content": null,
            "align_items": null,
            "align_self": null,
            "border": null,
            "bottom": null,
            "display": null,
            "flex": null,
            "flex_flow": null,
            "grid_area": null,
            "grid_auto_columns": null,
            "grid_auto_flow": null,
            "grid_auto_rows": null,
            "grid_column": null,
            "grid_gap": null,
            "grid_row": null,
            "grid_template_areas": null,
            "grid_template_columns": null,
            "grid_template_rows": null,
            "height": null,
            "justify_content": null,
            "justify_items": null,
            "left": null,
            "margin": null,
            "max_height": null,
            "max_width": null,
            "min_height": null,
            "min_width": null,
            "object_fit": null,
            "object_position": null,
            "order": null,
            "overflow": null,
            "overflow_x": null,
            "overflow_y": null,
            "padding": null,
            "right": null,
            "top": null,
            "visibility": null,
            "width": null
          }
        },
        "70df470a0b004246a46c8ac838d3ac95": {
          "model_module": "@jupyter-widgets/base",
          "model_name": "LayoutModel",
          "model_module_version": "1.2.0",
          "state": {
            "_model_module": "@jupyter-widgets/base",
            "_model_module_version": "1.2.0",
            "_model_name": "LayoutModel",
            "_view_count": null,
            "_view_module": "@jupyter-widgets/base",
            "_view_module_version": "1.2.0",
            "_view_name": "LayoutView",
            "align_content": null,
            "align_items": null,
            "align_self": null,
            "border": null,
            "bottom": null,
            "display": null,
            "flex": null,
            "flex_flow": null,
            "grid_area": null,
            "grid_auto_columns": null,
            "grid_auto_flow": null,
            "grid_auto_rows": null,
            "grid_column": null,
            "grid_gap": null,
            "grid_row": null,
            "grid_template_areas": null,
            "grid_template_columns": null,
            "grid_template_rows": null,
            "height": null,
            "justify_content": null,
            "justify_items": null,
            "left": null,
            "margin": null,
            "max_height": null,
            "max_width": null,
            "min_height": null,
            "min_width": null,
            "object_fit": null,
            "object_position": null,
            "order": null,
            "overflow": null,
            "overflow_x": null,
            "overflow_y": null,
            "padding": null,
            "right": null,
            "top": null,
            "visibility": null,
            "width": null
          }
        },
        "47a45f35c3b34a1fb73ad652cb07fcbd": {
          "model_module": "@jupyter-widgets/controls",
          "model_name": "DescriptionStyleModel",
          "model_module_version": "1.5.0",
          "state": {
            "_model_module": "@jupyter-widgets/controls",
            "_model_module_version": "1.5.0",
            "_model_name": "DescriptionStyleModel",
            "_view_count": null,
            "_view_module": "@jupyter-widgets/base",
            "_view_module_version": "1.2.0",
            "_view_name": "StyleView",
            "description_width": ""
          }
        },
        "a82a6d7242d6410c9c104b147d0c3ec7": {
          "model_module": "@jupyter-widgets/base",
          "model_name": "LayoutModel",
          "model_module_version": "1.2.0",
          "state": {
            "_model_module": "@jupyter-widgets/base",
            "_model_module_version": "1.2.0",
            "_model_name": "LayoutModel",
            "_view_count": null,
            "_view_module": "@jupyter-widgets/base",
            "_view_module_version": "1.2.0",
            "_view_name": "LayoutView",
            "align_content": null,
            "align_items": null,
            "align_self": null,
            "border": null,
            "bottom": null,
            "display": null,
            "flex": null,
            "flex_flow": null,
            "grid_area": null,
            "grid_auto_columns": null,
            "grid_auto_flow": null,
            "grid_auto_rows": null,
            "grid_column": null,
            "grid_gap": null,
            "grid_row": null,
            "grid_template_areas": null,
            "grid_template_columns": null,
            "grid_template_rows": null,
            "height": null,
            "justify_content": null,
            "justify_items": null,
            "left": null,
            "margin": null,
            "max_height": null,
            "max_width": null,
            "min_height": null,
            "min_width": null,
            "object_fit": null,
            "object_position": null,
            "order": null,
            "overflow": null,
            "overflow_x": null,
            "overflow_y": null,
            "padding": null,
            "right": null,
            "top": null,
            "visibility": null,
            "width": null
          }
        },
        "2f3416a000cd4595acceaf22494f1aea": {
          "model_module": "@jupyter-widgets/controls",
          "model_name": "ProgressStyleModel",
          "model_module_version": "1.5.0",
          "state": {
            "_model_module": "@jupyter-widgets/controls",
            "_model_module_version": "1.5.0",
            "_model_name": "ProgressStyleModel",
            "_view_count": null,
            "_view_module": "@jupyter-widgets/base",
            "_view_module_version": "1.2.0",
            "_view_name": "StyleView",
            "bar_color": null,
            "description_width": ""
          }
        },
        "02adf7131258464e91e92812c748f14b": {
          "model_module": "@jupyter-widgets/base",
          "model_name": "LayoutModel",
          "model_module_version": "1.2.0",
          "state": {
            "_model_module": "@jupyter-widgets/base",
            "_model_module_version": "1.2.0",
            "_model_name": "LayoutModel",
            "_view_count": null,
            "_view_module": "@jupyter-widgets/base",
            "_view_module_version": "1.2.0",
            "_view_name": "LayoutView",
            "align_content": null,
            "align_items": null,
            "align_self": null,
            "border": null,
            "bottom": null,
            "display": null,
            "flex": null,
            "flex_flow": null,
            "grid_area": null,
            "grid_auto_columns": null,
            "grid_auto_flow": null,
            "grid_auto_rows": null,
            "grid_column": null,
            "grid_gap": null,
            "grid_row": null,
            "grid_template_areas": null,
            "grid_template_columns": null,
            "grid_template_rows": null,
            "height": null,
            "justify_content": null,
            "justify_items": null,
            "left": null,
            "margin": null,
            "max_height": null,
            "max_width": null,
            "min_height": null,
            "min_width": null,
            "object_fit": null,
            "object_position": null,
            "order": null,
            "overflow": null,
            "overflow_x": null,
            "overflow_y": null,
            "padding": null,
            "right": null,
            "top": null,
            "visibility": null,
            "width": null
          }
        },
        "7fda1d600c444db795de70a0be4b6a3f": {
          "model_module": "@jupyter-widgets/controls",
          "model_name": "DescriptionStyleModel",
          "model_module_version": "1.5.0",
          "state": {
            "_model_module": "@jupyter-widgets/controls",
            "_model_module_version": "1.5.0",
            "_model_name": "DescriptionStyleModel",
            "_view_count": null,
            "_view_module": "@jupyter-widgets/base",
            "_view_module_version": "1.2.0",
            "_view_name": "StyleView",
            "description_width": ""
          }
        },
        "ebc1feee4a6a482780d407bb3cd945f9": {
          "model_module": "@jupyter-widgets/controls",
          "model_name": "HBoxModel",
          "model_module_version": "1.5.0",
          "state": {
            "_dom_classes": [],
            "_model_module": "@jupyter-widgets/controls",
            "_model_module_version": "1.5.0",
            "_model_name": "HBoxModel",
            "_view_count": null,
            "_view_module": "@jupyter-widgets/controls",
            "_view_module_version": "1.5.0",
            "_view_name": "HBoxView",
            "box_style": "",
            "children": [
              "IPY_MODEL_c309634f5cc744dd969590ea607ed8ff",
              "IPY_MODEL_438597fb24eb47898e72c8a4ac1d210a",
              "IPY_MODEL_7cfdccb5fe8a4b7a89828699ff78d525"
            ],
            "layout": "IPY_MODEL_07e4d1e04e6743ce8291940411583234"
          }
        },
        "c309634f5cc744dd969590ea607ed8ff": {
          "model_module": "@jupyter-widgets/controls",
          "model_name": "HTMLModel",
          "model_module_version": "1.5.0",
          "state": {
            "_dom_classes": [],
            "_model_module": "@jupyter-widgets/controls",
            "_model_module_version": "1.5.0",
            "_model_name": "HTMLModel",
            "_view_count": null,
            "_view_module": "@jupyter-widgets/controls",
            "_view_module_version": "1.5.0",
            "_view_name": "HTMLView",
            "description": "",
            "description_tooltip": null,
            "layout": "IPY_MODEL_6bc49f5385c54c709bb1e6ec887cc035",
            "placeholder": "​",
            "style": "IPY_MODEL_fc77c006726348a99d39c93fdbc6ec72",
            "value": "100%"
          }
        },
        "438597fb24eb47898e72c8a4ac1d210a": {
          "model_module": "@jupyter-widgets/controls",
          "model_name": "FloatProgressModel",
          "model_module_version": "1.5.0",
          "state": {
            "_dom_classes": [],
            "_model_module": "@jupyter-widgets/controls",
            "_model_module_version": "1.5.0",
            "_model_name": "FloatProgressModel",
            "_view_count": null,
            "_view_module": "@jupyter-widgets/controls",
            "_view_module_version": "1.5.0",
            "_view_name": "ProgressView",
            "bar_style": "success",
            "description": "",
            "description_tooltip": null,
            "layout": "IPY_MODEL_4d930225ca334ff58b87f1c6185d3352",
            "max": 1648877,
            "min": 0,
            "orientation": "horizontal",
            "style": "IPY_MODEL_277c66034fbd4a92a2107a47099a95d0",
            "value": 1648877
          }
        },
        "7cfdccb5fe8a4b7a89828699ff78d525": {
          "model_module": "@jupyter-widgets/controls",
          "model_name": "HTMLModel",
          "model_module_version": "1.5.0",
          "state": {
            "_dom_classes": [],
            "_model_module": "@jupyter-widgets/controls",
            "_model_module_version": "1.5.0",
            "_model_name": "HTMLModel",
            "_view_count": null,
            "_view_module": "@jupyter-widgets/controls",
            "_view_module_version": "1.5.0",
            "_view_name": "HTMLView",
            "description": "",
            "description_tooltip": null,
            "layout": "IPY_MODEL_f5aadd3b895845e8b87e92896b716cd4",
            "placeholder": "​",
            "style": "IPY_MODEL_16c7f4d092304cc5b7f195f5d43dea5b",
            "value": " 1648877/1648877 [00:00&lt;00:00, 33517293.94it/s]"
          }
        },
        "07e4d1e04e6743ce8291940411583234": {
          "model_module": "@jupyter-widgets/base",
          "model_name": "LayoutModel",
          "model_module_version": "1.2.0",
          "state": {
            "_model_module": "@jupyter-widgets/base",
            "_model_module_version": "1.2.0",
            "_model_name": "LayoutModel",
            "_view_count": null,
            "_view_module": "@jupyter-widgets/base",
            "_view_module_version": "1.2.0",
            "_view_name": "LayoutView",
            "align_content": null,
            "align_items": null,
            "align_self": null,
            "border": null,
            "bottom": null,
            "display": null,
            "flex": null,
            "flex_flow": null,
            "grid_area": null,
            "grid_auto_columns": null,
            "grid_auto_flow": null,
            "grid_auto_rows": null,
            "grid_column": null,
            "grid_gap": null,
            "grid_row": null,
            "grid_template_areas": null,
            "grid_template_columns": null,
            "grid_template_rows": null,
            "height": null,
            "justify_content": null,
            "justify_items": null,
            "left": null,
            "margin": null,
            "max_height": null,
            "max_width": null,
            "min_height": null,
            "min_width": null,
            "object_fit": null,
            "object_position": null,
            "order": null,
            "overflow": null,
            "overflow_x": null,
            "overflow_y": null,
            "padding": null,
            "right": null,
            "top": null,
            "visibility": null,
            "width": null
          }
        },
        "6bc49f5385c54c709bb1e6ec887cc035": {
          "model_module": "@jupyter-widgets/base",
          "model_name": "LayoutModel",
          "model_module_version": "1.2.0",
          "state": {
            "_model_module": "@jupyter-widgets/base",
            "_model_module_version": "1.2.0",
            "_model_name": "LayoutModel",
            "_view_count": null,
            "_view_module": "@jupyter-widgets/base",
            "_view_module_version": "1.2.0",
            "_view_name": "LayoutView",
            "align_content": null,
            "align_items": null,
            "align_self": null,
            "border": null,
            "bottom": null,
            "display": null,
            "flex": null,
            "flex_flow": null,
            "grid_area": null,
            "grid_auto_columns": null,
            "grid_auto_flow": null,
            "grid_auto_rows": null,
            "grid_column": null,
            "grid_gap": null,
            "grid_row": null,
            "grid_template_areas": null,
            "grid_template_columns": null,
            "grid_template_rows": null,
            "height": null,
            "justify_content": null,
            "justify_items": null,
            "left": null,
            "margin": null,
            "max_height": null,
            "max_width": null,
            "min_height": null,
            "min_width": null,
            "object_fit": null,
            "object_position": null,
            "order": null,
            "overflow": null,
            "overflow_x": null,
            "overflow_y": null,
            "padding": null,
            "right": null,
            "top": null,
            "visibility": null,
            "width": null
          }
        },
        "fc77c006726348a99d39c93fdbc6ec72": {
          "model_module": "@jupyter-widgets/controls",
          "model_name": "DescriptionStyleModel",
          "model_module_version": "1.5.0",
          "state": {
            "_model_module": "@jupyter-widgets/controls",
            "_model_module_version": "1.5.0",
            "_model_name": "DescriptionStyleModel",
            "_view_count": null,
            "_view_module": "@jupyter-widgets/base",
            "_view_module_version": "1.2.0",
            "_view_name": "StyleView",
            "description_width": ""
          }
        },
        "4d930225ca334ff58b87f1c6185d3352": {
          "model_module": "@jupyter-widgets/base",
          "model_name": "LayoutModel",
          "model_module_version": "1.2.0",
          "state": {
            "_model_module": "@jupyter-widgets/base",
            "_model_module_version": "1.2.0",
            "_model_name": "LayoutModel",
            "_view_count": null,
            "_view_module": "@jupyter-widgets/base",
            "_view_module_version": "1.2.0",
            "_view_name": "LayoutView",
            "align_content": null,
            "align_items": null,
            "align_self": null,
            "border": null,
            "bottom": null,
            "display": null,
            "flex": null,
            "flex_flow": null,
            "grid_area": null,
            "grid_auto_columns": null,
            "grid_auto_flow": null,
            "grid_auto_rows": null,
            "grid_column": null,
            "grid_gap": null,
            "grid_row": null,
            "grid_template_areas": null,
            "grid_template_columns": null,
            "grid_template_rows": null,
            "height": null,
            "justify_content": null,
            "justify_items": null,
            "left": null,
            "margin": null,
            "max_height": null,
            "max_width": null,
            "min_height": null,
            "min_width": null,
            "object_fit": null,
            "object_position": null,
            "order": null,
            "overflow": null,
            "overflow_x": null,
            "overflow_y": null,
            "padding": null,
            "right": null,
            "top": null,
            "visibility": null,
            "width": null
          }
        },
        "277c66034fbd4a92a2107a47099a95d0": {
          "model_module": "@jupyter-widgets/controls",
          "model_name": "ProgressStyleModel",
          "model_module_version": "1.5.0",
          "state": {
            "_model_module": "@jupyter-widgets/controls",
            "_model_module_version": "1.5.0",
            "_model_name": "ProgressStyleModel",
            "_view_count": null,
            "_view_module": "@jupyter-widgets/base",
            "_view_module_version": "1.2.0",
            "_view_name": "StyleView",
            "bar_color": null,
            "description_width": ""
          }
        },
        "f5aadd3b895845e8b87e92896b716cd4": {
          "model_module": "@jupyter-widgets/base",
          "model_name": "LayoutModel",
          "model_module_version": "1.2.0",
          "state": {
            "_model_module": "@jupyter-widgets/base",
            "_model_module_version": "1.2.0",
            "_model_name": "LayoutModel",
            "_view_count": null,
            "_view_module": "@jupyter-widgets/base",
            "_view_module_version": "1.2.0",
            "_view_name": "LayoutView",
            "align_content": null,
            "align_items": null,
            "align_self": null,
            "border": null,
            "bottom": null,
            "display": null,
            "flex": null,
            "flex_flow": null,
            "grid_area": null,
            "grid_auto_columns": null,
            "grid_auto_flow": null,
            "grid_auto_rows": null,
            "grid_column": null,
            "grid_gap": null,
            "grid_row": null,
            "grid_template_areas": null,
            "grid_template_columns": null,
            "grid_template_rows": null,
            "height": null,
            "justify_content": null,
            "justify_items": null,
            "left": null,
            "margin": null,
            "max_height": null,
            "max_width": null,
            "min_height": null,
            "min_width": null,
            "object_fit": null,
            "object_position": null,
            "order": null,
            "overflow": null,
            "overflow_x": null,
            "overflow_y": null,
            "padding": null,
            "right": null,
            "top": null,
            "visibility": null,
            "width": null
          }
        },
        "16c7f4d092304cc5b7f195f5d43dea5b": {
          "model_module": "@jupyter-widgets/controls",
          "model_name": "DescriptionStyleModel",
          "model_module_version": "1.5.0",
          "state": {
            "_model_module": "@jupyter-widgets/controls",
            "_model_module_version": "1.5.0",
            "_model_name": "DescriptionStyleModel",
            "_view_count": null,
            "_view_module": "@jupyter-widgets/base",
            "_view_module_version": "1.2.0",
            "_view_name": "StyleView",
            "description_width": ""
          }
        },
        "4bf05a64c66d4f859ada0c8e96ca8fe7": {
          "model_module": "@jupyter-widgets/controls",
          "model_name": "HBoxModel",
          "model_module_version": "1.5.0",
          "state": {
            "_dom_classes": [],
            "_model_module": "@jupyter-widgets/controls",
            "_model_module_version": "1.5.0",
            "_model_name": "HBoxModel",
            "_view_count": null,
            "_view_module": "@jupyter-widgets/controls",
            "_view_module_version": "1.5.0",
            "_view_name": "HBoxView",
            "box_style": "",
            "children": [
              "IPY_MODEL_4b07dd88dee24fc5b6461423d8180db0",
              "IPY_MODEL_f6155a811a9241c08bb4b9fb56b12c8b",
              "IPY_MODEL_bdb91fd5de914fe495a49857066c9f58"
            ],
            "layout": "IPY_MODEL_54adb4bf7fdd41f082266eb9d5051822"
          }
        },
        "4b07dd88dee24fc5b6461423d8180db0": {
          "model_module": "@jupyter-widgets/controls",
          "model_name": "HTMLModel",
          "model_module_version": "1.5.0",
          "state": {
            "_dom_classes": [],
            "_model_module": "@jupyter-widgets/controls",
            "_model_module_version": "1.5.0",
            "_model_name": "HTMLModel",
            "_view_count": null,
            "_view_module": "@jupyter-widgets/controls",
            "_view_module_version": "1.5.0",
            "_view_name": "HTMLView",
            "description": "",
            "description_tooltip": null,
            "layout": "IPY_MODEL_c4575bc657b941339177fc7cae5ea3cb",
            "placeholder": "​",
            "style": "IPY_MODEL_4fba1d01882c437fba4b8f07682e62c5",
            "value": "100%"
          }
        },
        "f6155a811a9241c08bb4b9fb56b12c8b": {
          "model_module": "@jupyter-widgets/controls",
          "model_name": "FloatProgressModel",
          "model_module_version": "1.5.0",
          "state": {
            "_dom_classes": [],
            "_model_module": "@jupyter-widgets/controls",
            "_model_module_version": "1.5.0",
            "_model_name": "FloatProgressModel",
            "_view_count": null,
            "_view_module": "@jupyter-widgets/controls",
            "_view_module_version": "1.5.0",
            "_view_name": "ProgressView",
            "bar_style": "success",
            "description": "",
            "description_tooltip": null,
            "layout": "IPY_MODEL_e2e89d2959184363aa189eb9ab16be55",
            "max": 4542,
            "min": 0,
            "orientation": "horizontal",
            "style": "IPY_MODEL_b9e5840dda9946f0b900d7e6cf1e1f7a",
            "value": 4542
          }
        },
        "bdb91fd5de914fe495a49857066c9f58": {
          "model_module": "@jupyter-widgets/controls",
          "model_name": "HTMLModel",
          "model_module_version": "1.5.0",
          "state": {
            "_dom_classes": [],
            "_model_module": "@jupyter-widgets/controls",
            "_model_module_version": "1.5.0",
            "_model_name": "HTMLModel",
            "_view_count": null,
            "_view_module": "@jupyter-widgets/controls",
            "_view_module_version": "1.5.0",
            "_view_name": "HTMLView",
            "description": "",
            "description_tooltip": null,
            "layout": "IPY_MODEL_9c996d36ea494973b5cda5ad751c13d7",
            "placeholder": "​",
            "style": "IPY_MODEL_1073b5fc045d43279482513974cabbb1",
            "value": " 4542/4542 [00:00&lt;00:00, 137897.42it/s]"
          }
        },
        "54adb4bf7fdd41f082266eb9d5051822": {
          "model_module": "@jupyter-widgets/base",
          "model_name": "LayoutModel",
          "model_module_version": "1.2.0",
          "state": {
            "_model_module": "@jupyter-widgets/base",
            "_model_module_version": "1.2.0",
            "_model_name": "LayoutModel",
            "_view_count": null,
            "_view_module": "@jupyter-widgets/base",
            "_view_module_version": "1.2.0",
            "_view_name": "LayoutView",
            "align_content": null,
            "align_items": null,
            "align_self": null,
            "border": null,
            "bottom": null,
            "display": null,
            "flex": null,
            "flex_flow": null,
            "grid_area": null,
            "grid_auto_columns": null,
            "grid_auto_flow": null,
            "grid_auto_rows": null,
            "grid_column": null,
            "grid_gap": null,
            "grid_row": null,
            "grid_template_areas": null,
            "grid_template_columns": null,
            "grid_template_rows": null,
            "height": null,
            "justify_content": null,
            "justify_items": null,
            "left": null,
            "margin": null,
            "max_height": null,
            "max_width": null,
            "min_height": null,
            "min_width": null,
            "object_fit": null,
            "object_position": null,
            "order": null,
            "overflow": null,
            "overflow_x": null,
            "overflow_y": null,
            "padding": null,
            "right": null,
            "top": null,
            "visibility": null,
            "width": null
          }
        },
        "c4575bc657b941339177fc7cae5ea3cb": {
          "model_module": "@jupyter-widgets/base",
          "model_name": "LayoutModel",
          "model_module_version": "1.2.0",
          "state": {
            "_model_module": "@jupyter-widgets/base",
            "_model_module_version": "1.2.0",
            "_model_name": "LayoutModel",
            "_view_count": null,
            "_view_module": "@jupyter-widgets/base",
            "_view_module_version": "1.2.0",
            "_view_name": "LayoutView",
            "align_content": null,
            "align_items": null,
            "align_self": null,
            "border": null,
            "bottom": null,
            "display": null,
            "flex": null,
            "flex_flow": null,
            "grid_area": null,
            "grid_auto_columns": null,
            "grid_auto_flow": null,
            "grid_auto_rows": null,
            "grid_column": null,
            "grid_gap": null,
            "grid_row": null,
            "grid_template_areas": null,
            "grid_template_columns": null,
            "grid_template_rows": null,
            "height": null,
            "justify_content": null,
            "justify_items": null,
            "left": null,
            "margin": null,
            "max_height": null,
            "max_width": null,
            "min_height": null,
            "min_width": null,
            "object_fit": null,
            "object_position": null,
            "order": null,
            "overflow": null,
            "overflow_x": null,
            "overflow_y": null,
            "padding": null,
            "right": null,
            "top": null,
            "visibility": null,
            "width": null
          }
        },
        "4fba1d01882c437fba4b8f07682e62c5": {
          "model_module": "@jupyter-widgets/controls",
          "model_name": "DescriptionStyleModel",
          "model_module_version": "1.5.0",
          "state": {
            "_model_module": "@jupyter-widgets/controls",
            "_model_module_version": "1.5.0",
            "_model_name": "DescriptionStyleModel",
            "_view_count": null,
            "_view_module": "@jupyter-widgets/base",
            "_view_module_version": "1.2.0",
            "_view_name": "StyleView",
            "description_width": ""
          }
        },
        "e2e89d2959184363aa189eb9ab16be55": {
          "model_module": "@jupyter-widgets/base",
          "model_name": "LayoutModel",
          "model_module_version": "1.2.0",
          "state": {
            "_model_module": "@jupyter-widgets/base",
            "_model_module_version": "1.2.0",
            "_model_name": "LayoutModel",
            "_view_count": null,
            "_view_module": "@jupyter-widgets/base",
            "_view_module_version": "1.2.0",
            "_view_name": "LayoutView",
            "align_content": null,
            "align_items": null,
            "align_self": null,
            "border": null,
            "bottom": null,
            "display": null,
            "flex": null,
            "flex_flow": null,
            "grid_area": null,
            "grid_auto_columns": null,
            "grid_auto_flow": null,
            "grid_auto_rows": null,
            "grid_column": null,
            "grid_gap": null,
            "grid_row": null,
            "grid_template_areas": null,
            "grid_template_columns": null,
            "grid_template_rows": null,
            "height": null,
            "justify_content": null,
            "justify_items": null,
            "left": null,
            "margin": null,
            "max_height": null,
            "max_width": null,
            "min_height": null,
            "min_width": null,
            "object_fit": null,
            "object_position": null,
            "order": null,
            "overflow": null,
            "overflow_x": null,
            "overflow_y": null,
            "padding": null,
            "right": null,
            "top": null,
            "visibility": null,
            "width": null
          }
        },
        "b9e5840dda9946f0b900d7e6cf1e1f7a": {
          "model_module": "@jupyter-widgets/controls",
          "model_name": "ProgressStyleModel",
          "model_module_version": "1.5.0",
          "state": {
            "_model_module": "@jupyter-widgets/controls",
            "_model_module_version": "1.5.0",
            "_model_name": "ProgressStyleModel",
            "_view_count": null,
            "_view_module": "@jupyter-widgets/base",
            "_view_module_version": "1.2.0",
            "_view_name": "StyleView",
            "bar_color": null,
            "description_width": ""
          }
        },
        "9c996d36ea494973b5cda5ad751c13d7": {
          "model_module": "@jupyter-widgets/base",
          "model_name": "LayoutModel",
          "model_module_version": "1.2.0",
          "state": {
            "_model_module": "@jupyter-widgets/base",
            "_model_module_version": "1.2.0",
            "_model_name": "LayoutModel",
            "_view_count": null,
            "_view_module": "@jupyter-widgets/base",
            "_view_module_version": "1.2.0",
            "_view_name": "LayoutView",
            "align_content": null,
            "align_items": null,
            "align_self": null,
            "border": null,
            "bottom": null,
            "display": null,
            "flex": null,
            "flex_flow": null,
            "grid_area": null,
            "grid_auto_columns": null,
            "grid_auto_flow": null,
            "grid_auto_rows": null,
            "grid_column": null,
            "grid_gap": null,
            "grid_row": null,
            "grid_template_areas": null,
            "grid_template_columns": null,
            "grid_template_rows": null,
            "height": null,
            "justify_content": null,
            "justify_items": null,
            "left": null,
            "margin": null,
            "max_height": null,
            "max_width": null,
            "min_height": null,
            "min_width": null,
            "object_fit": null,
            "object_position": null,
            "order": null,
            "overflow": null,
            "overflow_x": null,
            "overflow_y": null,
            "padding": null,
            "right": null,
            "top": null,
            "visibility": null,
            "width": null
          }
        },
        "1073b5fc045d43279482513974cabbb1": {
          "model_module": "@jupyter-widgets/controls",
          "model_name": "DescriptionStyleModel",
          "model_module_version": "1.5.0",
          "state": {
            "_model_module": "@jupyter-widgets/controls",
            "_model_module_version": "1.5.0",
            "_model_name": "DescriptionStyleModel",
            "_view_count": null,
            "_view_module": "@jupyter-widgets/base",
            "_view_module_version": "1.2.0",
            "_view_name": "StyleView",
            "description_width": ""
          }
        }
      }
    }
  },
  "nbformat": 4,
  "nbformat_minor": 0
}